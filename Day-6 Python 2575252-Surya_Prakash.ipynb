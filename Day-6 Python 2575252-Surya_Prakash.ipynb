{
 "cells": [
  {
   "cell_type": "markdown",
   "id": "b5e62a4f",
   "metadata": {},
   "source": [
    "# Object Oriented Programming in Python"
   ]
  },
  {
   "cell_type": "markdown",
   "id": "c96c78a0",
   "metadata": {},
   "source": [
    "# 1 write a python program to create a base class shape with method to calculate area and perimeter."
   ]
  },
  {
   "cell_type": "code",
   "execution_count": 7,
   "id": "01185e17",
   "metadata": {},
   "outputs": [
    {
     "name": "stdout",
     "output_type": "stream",
     "text": [
      "Area of circle: 153.93804002589985\n",
      "Perimeter of circle: 43.982297150257104\n",
      "Area of Rectangle: 24\n",
      "Perimeter of Rectangle: 20\n"
     ]
    }
   ],
   "source": [
    "import math\n",
    "\n",
    "class Shape:\n",
    "    def __init__(self):\n",
    "        pass\n",
    "\n",
    "    def area(self):\n",
    "        pass\n",
    "\n",
    "    def perimeter(self):\n",
    "        pass\n",
    "\n",
    "class Circle(Shape):\n",
    "    def __init__(self, radius):\n",
    "        super().__init__()\n",
    "        self.rad = radius\n",
    "\n",
    "    def area(self):\n",
    "        return math.pi * self.rad**2\n",
    "\n",
    "    def perimeter(self):\n",
    "        return 2 * math.pi * self.rad\n",
    "\n",
    "class Rectangle(Shape):\n",
    "    def __init__(self, length, width):\n",
    "        super().__init__()\n",
    "        self.len = length\n",
    "        self.wid = width\n",
    "\n",
    "    def area(self):\n",
    "        return self.len * self.wid\n",
    "\n",
    "    def perimeter(self):\n",
    "        return 2 * (self.len + self.wid)\n",
    "\n",
    "cs = Circle(7)\n",
    "rs = Rectangle(4, 6)\n",
    "\n",
    "print(\"Area of circle:\", cs.area())\n",
    "print(\"Perimeter of circle:\", cs.perimeter())\n",
    "\n",
    "print(\"Area of Rectangle:\", rs.area())\n",
    "print(\"Perimeter of Rectangle:\", rs.perimeter())\n"
   ]
  },
  {
   "cell_type": "markdown",
   "id": "554f7ab5",
   "metadata": {},
   "source": [
    "# 2. Write a python script to create a class \"Person\" with private attributes for age and name. Implement a method to calculate a person's eligibility for voting based on their age. Ensure that age cannot be accessed directly but only through a getter method"
   ]
  },
  {
   "cell_type": "code",
   "execution_count": 25,
   "id": "985a31ba",
   "metadata": {},
   "outputs": [
    {
     "name": "stdout",
     "output_type": "stream",
     "text": [
      "22-year-old Prakash is eligible to vote: True\n",
      "16-year-old surya is eligible to vote: False\n"
     ]
    }
   ],
   "source": [
    "class Person:\n",
    "    def __init__(self, name, age):\n",
    "        self.__name = name\n",
    "        self.__age = age\n",
    "\n",
    "    def get_age(self):\n",
    "        return self.__age\n",
    "\n",
    "    def is_eligible_to_vote(self):\n",
    "        if self.__age >= 18:\n",
    "            return True\n",
    "        else:\n",
    "            return False\n",
    "\n",
    "\n",
    "person1 = Person(\"Prakash\", 22)\n",
    "print(f\"{person1.get_age()}-year-old {person1._Person__name} is eligible to vote: {person1.is_eligible_to_vote()}\")\n",
    "\n",
    "person2 = Person(\"surya\", 16)\n",
    "print(f\"{person2.get_age()}-year-old {person2._Person__name} is eligible to vote: {person2.is_eligible_to_vote()}\")\n"
   ]
  },
  {
   "cell_type": "code",
   "execution_count": null,
   "id": "e6d8a258",
   "metadata": {},
   "outputs": [],
   "source": []
  },
  {
   "cell_type": "markdown",
   "id": "270a32a0",
   "metadata": {},
   "source": [
    "# 3 You are tasked with designing a Python class hierarchy for a simple banking system. The system should be able to handle different types of accounts, such as Savings Accounts and Checking Accounts. Both account types should have common attributes like an account number, account holder's name, and balance. However, Savings Accounts should have an additional attribute for interest rate, while Checking Accounts should have an attribute for overdraft limit"
   ]
  },
  {
   "cell_type": "code",
   "execution_count": 26,
   "id": "73563f8d",
   "metadata": {},
   "outputs": [
    {
     "name": "stdout",
     "output_type": "stream",
     "text": [
      "Savings Account - Holder: prakash, Balance: 5000\n",
      "Checking Account - Holder: ramesh, Balance: 3000\n",
      "Savings Account - New Balance: 6000\n",
      "Checking Account - New Balance: 3500\n",
      "Savings Account - Interest Earned: 150.0, New Balance: 6150.0\n",
      "Savings Account - New Balance after withdrawal: 4150.0\n",
      "Checking Account - New Balance after withdrawal: -500\n"
     ]
    }
   ],
   "source": [
    "class BankAccount:\n",
    "    def __init__(self, account_number, account_holder_name, balance):\n",
    "        self.account_number = account_number\n",
    "        self.account_holder_name = account_holder_name\n",
    "        self.balance = balance\n",
    "\n",
    "    def deposit(self, amount):\n",
    "        if amount > 0:\n",
    "            self.balance += amount\n",
    "            return True\n",
    "        else:\n",
    "            return False\n",
    "\n",
    "    def withdraw(self, amount):\n",
    "        if amount > 0 and amount <= self.balance:\n",
    "            self.balance -= amount\n",
    "            return True\n",
    "        else:\n",
    "            return False\n",
    "\n",
    "class SavingsAccount(BankAccount):\n",
    "    def __init__(self, account_number, account_holder_name, balance, interest_rate):\n",
    "        super().__init__(account_number, account_holder_name, balance)\n",
    "        self.interest_rate = interest_rate\n",
    "\n",
    "    def calculate_interest(self):\n",
    "        interest = (self.balance * self.interest_rate) / 100\n",
    "        self.balance += interest\n",
    "        return interest\n",
    "\n",
    "class CheckingAccount(BankAccount):\n",
    "    def __init__(self, account_number, account_holder_name, balance, overdraft_limit):\n",
    "        super().__init__(account_number, account_holder_name, balance)\n",
    "        self.overdraft_limit = overdraft_limit\n",
    "\n",
    "    def withdraw(self, amount):\n",
    "        if amount > 0 and amount <= (self.balance + self.overdraft_limit):\n",
    "            self.balance -= amount\n",
    "            return True\n",
    "        else:\n",
    "            return False\n",
    "\n",
    "\n",
    "savings_account = SavingsAccount(\"Surya\", \"prakash\", 5000, 2.5)\n",
    "checking_account = CheckingAccount(\"Chinna\", \"ramesh\", 3000, 1000)\n",
    "\n",
    "print(f\"Savings Account - Holder: {savings_account.account_holder_name}, Balance: {savings_account.balance}\")\n",
    "print(f\"Checking Account - Holder: {checking_account.account_holder_name}, Balance: {checking_account.balance}\")\n",
    "\n",
    "savings_account.deposit(1000)\n",
    "checking_account.deposit(500)\n",
    "\n",
    "print(f\"Savings Account - New Balance: {savings_account.balance}\")\n",
    "print(f\"Checking Account - New Balance: {checking_account.balance}\")\n",
    "\n",
    "savings_interest = savings_account.calculate_interest()\n",
    "print(f\"Savings Account - Interest Earned: {savings_interest}, New Balance: {savings_account.balance}\")\n",
    "\n",
    "savings_account.withdraw(2000)\n",
    "checking_account.withdraw(4000)\n",
    "\n",
    "print(f\"Savings Account - New Balance after withdrawal: {savings_account.balance}\")\n",
    "print(f\"Checking Account - New Balance after withdrawal: {checking_account.balance}\")\n"
   ]
  },
  {
   "cell_type": "code",
   "execution_count": null,
   "id": "bd8c2abf",
   "metadata": {},
   "outputs": [],
   "source": []
  },
  {
   "cell_type": "markdown",
   "id": "33d6efac",
   "metadata": {},
   "source": [
    "# 4 You are developing an employee management system for a company. Ensure that the system utilizes encapsulation and polymorphism to handle different types of employees, such as full-time and part-time employees. 1. Create a base class called \"Employee\" with private attributes for name, employee ID, and salary. Implement getter and setter methods for these attributes"
   ]
  },
  {
   "cell_type": "code",
   "execution_count": 13,
   "id": "db202487",
   "metadata": {},
   "outputs": [
    {
     "name": "stdout",
     "output_type": "stream",
     "text": [
      "John Doe (Employee ID: FT001)\n",
      "Annual Salary: $60000\n",
      "\n",
      "Jane Smith (Employee ID: PT001)\n",
      "Hourly Rate: $20\n",
      "Hours Worked: 25.0\n",
      "Monthly Salary: $500\n"
     ]
    }
   ],
   "source": [
    "class Employee:\n",
    "    def __init__(self, name, emp_id, salary):\n",
    "        self.__name = name\n",
    "        self.__emp_id = emp_id\n",
    "        self.__salary = salary\n",
    "\n",
    "    def get_name(self):\n",
    "        return self.__name\n",
    "\n",
    "    def set_name(self, name):\n",
    "        self.__name = name\n",
    "\n",
    "    def get_emp_id(self):\n",
    "        return self.__emp_id\n",
    "\n",
    "    def set_emp_id(self, emp_id):\n",
    "        self.__emp_id = emp_id\n",
    "\n",
    "    def get_salary(self):\n",
    "        return self.__salary\n",
    "\n",
    "    def set_salary(self, salary):\n",
    "        self.__salary = salary\n",
    "\n",
    "    def calculate_salary(self):\n",
    "        pass\n",
    "\n",
    "class FullTimeEmployee(Employee):\n",
    "    def __init__(self, name, emp_id, annual_salary):\n",
    "        super().__init__(name, emp_id, annual_salary)\n",
    "        self.__annual_salary = annual_salary\n",
    "\n",
    "    def calculate_salary(self):\n",
    "        return self.__annual_salary\n",
    "\n",
    "class PartTimeEmployee(Employee):\n",
    "    def __init__(self, name, emp_id, hourly_rate, hours_worked):\n",
    "        super().__init__(name, emp_id, hourly_rate)  \n",
    "        self.__hourly_rate = hourly_rate\n",
    "        self.__hours_worked = hours_worked\n",
    "\n",
    "    def calculate_salary(self):\n",
    "        return self.__hourly_rate * self.__hours_worked\n",
    "\n",
    "full_time_emp = FullTimeEmployee(\"John Doe\", \"FT001\", 60000)\n",
    "part_time_emp = PartTimeEmployee(\"Jane Smith\", \"PT001\", 20, 25)\n",
    "\n",
    "print(f\"{full_time_emp.get_name()} (Employee ID: {full_time_emp.get_emp_id()})\")\n",
    "print(f\"Annual Salary: ${full_time_emp.calculate_salary()}\\n\")\n",
    "\n",
    "print(f\"{part_time_emp.get_name()} (Employee ID: {part_time_emp.get_emp_id()})\")\n",
    "print(f\"Hourly Rate: ${part_time_emp.get_salary()}\")\n",
    "print(f\"Hours Worked: {part_time_emp.calculate_salary() / part_time_emp.get_salary()}\")  # Corrected access\n",
    "print(f\"Monthly Salary: ${part_time_emp.calculate_salary()}\")\n"
   ]
  },
  {
   "cell_type": "code",
   "execution_count": null,
   "id": "427c1407",
   "metadata": {},
   "outputs": [],
   "source": []
  },
  {
   "cell_type": "markdown",
   "id": "81f4b6de",
   "metadata": {},
   "source": [
    "# 5  Library Management System-Scenario: You are developing a library management system where you need to handle books, patrons, and library transactions.\n"
   ]
  },
  {
   "cell_type": "code",
   "execution_count": 23,
   "id": "e07f435c",
   "metadata": {},
   "outputs": [
    {
     "name": "stdout",
     "output_type": "stream",
     "text": [
      "Notification: Prakash, your book 'Technical Sapiens' is overdue!\n"
     ]
    }
   ],
   "source": [
    "from datetime import datetime, timedelta\n",
    "\n",
    "class Book:\n",
    "    def __init__(self, title, author, publication_date, book_type):\n",
    "        self.title = title\n",
    "        self.author = author\n",
    "        self.publication_date = publication_date\n",
    "        self.book_type = book_type\n",
    "        self.is_checked_out = False\n",
    "\n",
    "    def check_out(self):\n",
    "        if not self.is_checked_out:\n",
    "            self.is_checked_out = True\n",
    "            return True\n",
    "        else:\n",
    "            return False\n",
    "\n",
    "    def return_book(self):\n",
    "        if self.is_checked_out:\n",
    "            self.is_checked_out = False\n",
    "            return True\n",
    "        else:\n",
    "            return False\n",
    "\n",
    "class Patron:\n",
    "    def __init__(self, name, patron_id):\n",
    "        self.name = name\n",
    "        self.patron_id = patron_id\n",
    "        self.checked_out_books = []\n",
    "\n",
    "    def check_out_book(self, book):\n",
    "        if len(self.checked_out_books) < 3:  \n",
    "            if book.check_out():\n",
    "                self.checked_out_books.append(book)\n",
    "                return True\n",
    "        return False\n",
    "\n",
    "    def return_book(self, book):\n",
    "        if book in self.checked_out_books:\n",
    "            if book.return_book():\n",
    "                self.checked_out_books.remove(book)\n",
    "                return True\n",
    "        return False\n",
    "\n",
    "class Transaction:\n",
    "    def __init__(self, book, patron):\n",
    "        self.book = book\n",
    "        self.patron = patron\n",
    "        self.checkout_date = datetime.now()\n",
    "        self.due_date = self.checkout_date + timedelta(days=14)  \n",
    "\n",
    "    def is_overdue(self):\n",
    "        return datetime.now() > self.due_date\n",
    "\n",
    "    def notify_overdue(self):\n",
    "        if self.is_overdue():\n",
    "            print(f\"Notification: {self.patron.name}, your book '{self.book.title}' is overdue!\")\n",
    "\n",
    "if __name__ == \"__main__\":\n",
    "    book1 = Book(\"The four paths\", \"Scot\", \"2000\", \"Fiction\")\n",
    "    book2 = Book(\"Technical Sapiens\", \"akash\", \"2011\", \"Non-Fiction\")\n",
    "    \n",
    "    patron1 = Patron(\"Prakash\", 1)\n",
    "    \n",
    "    transaction1 = Transaction(book1, patron1)\n",
    "    transaction2 = Transaction(book2, patron1)\n",
    "    \n",
    "   \n",
    "    transaction2.due_date = datetime.now() - timedelta(days=7)\n",
    "    \n",
    "    transactions = [transaction1, transaction2]\n",
    "    \n",
    "    for transaction in transactions:\n",
    "        transaction.notify_overdue()\n"
   ]
  },
  {
   "cell_type": "code",
   "execution_count": null,
   "id": "6fe8beed",
   "metadata": {},
   "outputs": [],
   "source": []
  },
  {
   "cell_type": "markdown",
   "id": "f6a0b5c4",
   "metadata": {},
   "source": [
    "# 6 Online Shopping Cart\n",
    "\n",
    "Scenario: You are tasked with designing a class hierarchy for an online shopping cart s The system should handle products, shopping carts, and orders. Consider various OOP principles while designing this system.\n",
    "1. Create a class hierarchy that includes classes for products (e.g., Product), shopping (e.g., ShoppingCart), and orders (e.g., Order). Define attributes and methods for eac class.\n",
    "\n",
    "2. Implement encapsulation by making relevant attributes private and providing getter setter methods where necessary. 3. Use inheritance to represent different types of products (e.g., electronics, clothing) a subclasses of the Product class. Ensure that each product type can have specific attri and methods.\n",
    "\n",
    "4. Demonstrate polymorphism by allowing various product types to be added to a shop\n",
    "\n",
    "cart and calculate the total cost of items in the cart.\n",
    "\n",
    "5. Implement a method for placing an order, which transfers items from the shopping\n"
   ]
  },
  {
   "cell_type": "code",
   "execution_count": null,
   "id": "cfefa9ce",
   "metadata": {},
   "outputs": [],
   "source": []
  }
 ],
 "metadata": {
  "kernelspec": {
   "display_name": "Python 3 (ipykernel)",
   "language": "python",
   "name": "python3"
  },
  "language_info": {
   "codemirror_mode": {
    "name": "ipython",
    "version": 3
   },
   "file_extension": ".py",
   "mimetype": "text/x-python",
   "name": "python",
   "nbconvert_exporter": "python",
   "pygments_lexer": "ipython3",
   "version": "3.11.4"
  }
 },
 "nbformat": 4,
 "nbformat_minor": 5
}
