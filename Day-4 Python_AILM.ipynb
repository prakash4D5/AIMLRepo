{
 "cells": [
  {
   "cell_type": "markdown",
   "id": "cf626804",
   "metadata": {},
   "source": [
    "# Exceptions and Command-Line Arguments\n",
    "\n"
   ]
  },
  {
   "cell_type": "markdown",
   "id": "721e782e",
   "metadata": {},
   "source": [
    "# 1. Write a python program with Exception handling to input marks for five subjects Physics, Chemistry, Biology, Mathematics, and Computer. Calculate the percentage and grade according to the following:"
   ]
  },
  {
   "cell_type": "code",
   "execution_count": 16,
   "id": "5ebd3842",
   "metadata": {},
   "outputs": [
    {
     "name": "stdout",
     "output_type": "stream",
     "text": [
      "Enter the five subjects marks\n",
      "Enter the ps marksthyh\n"
     ]
    },
    {
     "ename": "NameError",
     "evalue": "name 'Exceptional' is not defined",
     "output_type": "error",
     "traceback": [
      "\u001b[1;31m---------------------------------------------------------------------------\u001b[0m",
      "\u001b[1;31mValueError\u001b[0m                                Traceback (most recent call last)",
      "Cell \u001b[1;32mIn[16], line 3\u001b[0m\n\u001b[0;32m      2\u001b[0m \u001b[38;5;28mprint\u001b[39m(\u001b[38;5;124m\"\u001b[39m\u001b[38;5;124mEnter the five subjects marks\u001b[39m\u001b[38;5;124m\"\u001b[39m)\n\u001b[1;32m----> 3\u001b[0m ps\u001b[38;5;241m=\u001b[39m\u001b[38;5;28mint\u001b[39m(\u001b[38;5;28minput\u001b[39m(\u001b[38;5;124m\"\u001b[39m\u001b[38;5;124mEnter the ps marks\u001b[39m\u001b[38;5;124m\"\u001b[39m))\n\u001b[0;32m      4\u001b[0m ch\u001b[38;5;241m=\u001b[39m\u001b[38;5;28mint\u001b[39m(\u001b[38;5;28minput\u001b[39m(\u001b[38;5;124m\"\u001b[39m\u001b[38;5;124mEnter the ch marks\u001b[39m\u001b[38;5;124m\"\u001b[39m))\n",
      "\u001b[1;31mValueError\u001b[0m: invalid literal for int() with base 10: 'thyh'",
      "\nDuring handling of the above exception, another exception occurred:\n",
      "\u001b[1;31mNameError\u001b[0m                                 Traceback (most recent call last)",
      "Cell \u001b[1;32mIn[16], line 21\u001b[0m\n\u001b[0;32m     19\u001b[0m     \u001b[38;5;28;01melif\u001b[39;00m z \u001b[38;5;241m<\u001b[39m \u001b[38;5;241m40\u001b[39m :\n\u001b[0;32m     20\u001b[0m         \u001b[38;5;28mprint\u001b[39m(\u001b[38;5;124m\"\u001b[39m\u001b[38;5;124mFail F\u001b[39m\u001b[38;5;124m\"\u001b[39m)\n\u001b[1;32m---> 21\u001b[0m \u001b[38;5;28;01mexcept\u001b[39;00m Exceptional \u001b[38;5;28;01mas\u001b[39;00m f:\n\u001b[0;32m     22\u001b[0m     \u001b[38;5;28mprint\u001b[39m(\u001b[38;5;124m'\u001b[39m\u001b[38;5;124mcaught:\u001b[39m\u001b[38;5;124m'\u001b[39m,\u001b[38;5;28mrepr\u001b[39m(e))\n\u001b[0;32m     24\u001b[0m \u001b[38;5;28mprint\u001b[39m(\u001b[38;5;124m\"\u001b[39m\u001b[38;5;124mYour Percentage is \u001b[39m\u001b[38;5;132;01m{}\u001b[39;00m\u001b[38;5;124m\"\u001b[39m\u001b[38;5;241m.\u001b[39mformat(z))\n",
      "\u001b[1;31mNameError\u001b[0m: name 'Exceptional' is not defined"
     ]
    }
   ],
   "source": [
    "try:\n",
    "    print(\"Enter the five subjects marks\")\n",
    "    ps=int(input(\"Enter the ps marks\"))\n",
    "    ch=int(input(\"Enter the ch marks\"))\n",
    "    bio=int(input(\"Enter the bio marks\"))\n",
    "    math=int(input(\"Enter the math marks\"))\n",
    "    cs=int(input(\"Enter the cs marks\"))\n",
    "    z = ((ps + ch + bio + math + cs )/500)*100\n",
    "    if z >= 90:\n",
    "        print(\"Grade A\")\n",
    "    elif z >= 80 :\n",
    "        print(\"Grade B\")\n",
    "    elif z>= 70 :\n",
    "        print(\"Grade C\")\n",
    "    elif z >= 60:\n",
    "        print(\"Grade D\")\n",
    "    elif z >= 40 :\n",
    "        print(\"Grade E\")\n",
    "    elif z < 40 :\n",
    "        print(\"Fail F\")\n",
    "except Exception as f:\n",
    "    print('caught:',repr(e))\n",
    "        \n",
    "print(\"Your Percentage is {}\".format(z))"
   ]
  },
  {
   "cell_type": "markdown",
   "id": "e34d6000",
   "metadata": {},
   "source": [
    "# 2 write a python program with Exception handeling to input electricity unit charges and calculate the total electricity bill according to the given code"
   ]
  },
  {
   "cell_type": "code",
   "execution_count": 41,
   "id": "ba9bd08b",
   "metadata": {},
   "outputs": [
    {
     "name": "stdout",
     "output_type": "stream",
     "text": [
      "Enter the Electricity charge in units500\n",
      "Your Current bill charge was 750.0\n",
      "end\n"
     ]
    }
   ],
   "source": [
    "import sys\n",
    "try:\n",
    "    Ec=int(input(\"Enter the Electricity charge in units\"))\n",
    "    if Ec <= 50:\n",
    "        n=(0.50*Ec)\n",
    "        total_charge=(n*0.20)\n",
    "        print(\"Your Current bill charge was\",n+total_charge)\n",
    "    elif Ec >= 100:\n",
    "        f=(0.5+0.75)\n",
    "        n=(f*Ec)\n",
    "        total_charge=(n*0.20)\n",
    "        print(\"Your Current bill charge was\",n+total_charge)\n",
    "    elif Ec < 250:\n",
    "        ff=f+1.20\n",
    "        n=(ff*Ec)\n",
    "        total_charge=(n*0.20)\n",
    "        print(\"Your Current bill charge was\",n+total_charge)\n",
    "    elif Ec > 250:\n",
    "        n=(ff+1.50*Ec)\n",
    "        total_charge=(n*0.20)\n",
    "        print(\"Your Current bill charge was\",n+total_charge)\n",
    "        \n",
    "except Exception as ff:\n",
    "    print(sys.exc_info()[1])\n",
    "print('end')\n",
    "    \n",
    "        "
   ]
  },
  {
   "cell_type": "markdown",
   "id": "d143b227",
   "metadata": {},
   "source": [
    "# 3 Write a python program with exception handling to input the week number to get the weekday"
   ]
  },
  {
   "cell_type": "code",
   "execution_count": 37,
   "id": "2106b86f",
   "metadata": {},
   "outputs": [
    {
     "name": "stdout",
     "output_type": "stream",
     "text": [
      "Enter the number 1 to 7 kh\n",
      "invalid literal for int() with base 10: 'kh'\n"
     ]
    }
   ],
   "source": [
    "import sys\n",
    "try:\n",
    "    n=int(input(\"Enter the number 1 to 7 \"))\n",
    "    if n == 1 :\n",
    "        print(\"\\nMonday\");\n",
    "\n",
    "    elif n == 2 :\n",
    "        print(\"\\nTuesday\")\n",
    "\n",
    "    elif(n == 3) :\n",
    "        print(\"\\nWednesday\")\n",
    "\n",
    "    elif(n == 4) :\n",
    "        print(\"\\nThursday\")\n",
    "\n",
    "    elif(n == 5) :\n",
    "        print(\"\\nFriday\")\n",
    "\n",
    "    elif(n == 6) :\n",
    "        print(\"\\nSaturday\")\n",
    "\n",
    "    elif (n == 7) :\n",
    "        print(\"\\nSunday\")\n",
    "\n",
    "    else :\n",
    "        print(\"Please enter any weekday number 1-7\")\n",
    "except ValueError:\n",
    "    print(sys.exc_info()[1])"
   ]
  },
  {
   "cell_type": "markdown",
   "id": "edf8bcbe",
   "metadata": {},
   "source": [
    "# 4 write a python program to implement word count using command line argument"
   ]
  },
  {
   "cell_type": "code",
   "execution_count": 109,
   "id": "52e92ee4",
   "metadata": {},
   "outputs": [
    {
     "name": "stdout",
     "output_type": "stream",
     "text": [
      "Error: fileapple.txt not found\n",
      "[Errno 2] No such file or directory: 'apple.txt'\n",
      "None\n"
     ]
    },
    {
     "ename": "AttributeError",
     "evalue": "module 'sys' has no attribute 'arg'",
     "output_type": "error",
     "traceback": [
      "\u001b[1;31m---------------------------------------------------------------------------\u001b[0m",
      "\u001b[1;31mAttributeError\u001b[0m                            Traceback (most recent call last)",
      "Cell \u001b[1;32mIn[109], line 18\u001b[0m\n\u001b[0;32m     16\u001b[0m         \u001b[38;5;28mprint\u001b[39m(sys\u001b[38;5;241m.\u001b[39mexc_info()[\u001b[38;5;241m1\u001b[39m])\n\u001b[0;32m     17\u001b[0m \u001b[38;5;28mprint\u001b[39m(count(\u001b[38;5;124m'\u001b[39m\u001b[38;5;124mapple.txt\u001b[39m\u001b[38;5;124m'\u001b[39m))\n\u001b[1;32m---> 18\u001b[0m \u001b[38;5;28;01mif\u001b[39;00m \u001b[38;5;28mlen\u001b[39m(sys\u001b[38;5;241m.\u001b[39marg) \u001b[38;5;241m!=\u001b[39m \u001b[38;5;241m2\u001b[39m:\n\u001b[0;32m     19\u001b[0m         \u001b[38;5;28mprint\u001b[39m(\u001b[38;5;124m\"\u001b[39m\u001b[38;5;124merror two arguments are sufficient\u001b[39m\u001b[38;5;124m\"\u001b[39m)\n\u001b[0;32m     20\u001b[0m \u001b[38;5;28;01melse\u001b[39;00m:\n",
      "\u001b[1;31mAttributeError\u001b[0m: module 'sys' has no attribute 'arg'"
     ]
    }
   ],
   "source": [
    "import sys\n",
    "def count(file_nam):\n",
    "    try:\n",
    "        with open(file_nam, 'r') as f:\n",
    "            texts = f.read()\n",
    "            words = texts.split()\n",
    "            wordcount= {}\n",
    "            for i in words:\n",
    "                if i in wordcount:\n",
    "                    wordcount[i] +=1\n",
    "                else:\n",
    "                    wordcount[i] = 1\n",
    "            return wordcount\n",
    "    except FileNotFoundError:\n",
    "        print(\"Error: file{} not found\".format(file_nam))\n",
    "        print(sys.exc_info()[1])\n",
    "        \n",
    "        \n",
    "        \n",
    "        \n",
    "        \n",
    "        \n",
    "        \n",
    "print(count('apple.txt'))\n",
    "if len(sys.arg) != 2:\n",
    "        print(\"error two arguments are sufficient\")\n",
    "else:\n",
    "    file_nam = sys.argv[1]\n",
    "    wordcount = count(file_nam)\n",
    "    if wordcount:\n",
    "        for word, count in wordcount.items():\n",
    "            print(\"the files are occurance\")"
   ]
  },
  {
   "cell_type": "code",
   "execution_count": null,
   "id": "0f950cb2",
   "metadata": {},
   "outputs": [],
   "source": [
    "''''import getopt\n",
    "\n",
    "import sys\n",
    "\n",
    "\n",
    "argv=sys.argv[1:]\n",
    "optlist, args=getopt.getopt(argv, 'hm:d')\n",
    "\n",
    "print('Option list: ', type(optlist), optlist) 7 print('Arguments', args)\n",
    "\n",
    "print('Sum= ', args[0]+args[1])\n",
    "\n",
    "print('Sum= ',int(args[0])+int(args[1])) 18\n",
    "\n",
    "args='-a-b-cfoo -d bar al a2.split()\n",
    "\n",
    "\n",
    "\n",
    "optlist, args=getopt.getopt(args, 'abc:d')\n",
    "print('option list', optlist)\n",
    "\n",
    "print('Arguments', args)\n",
    "\n",
    "\n",
    "args='-a-b-cfood bar al a2'.split()\n",
    "\n",
    "optlist, args=getopt.getopt(args, 'abc:d:')\n",
    "\n",
    "print('option list', optlist)\n",
    "\n",
    "print('Arguments', args)''''"
   ]
  },
  {
   "cell_type": "markdown",
   "id": "0a16f9a9",
   "metadata": {},
   "source": [
    "# 5 write a python for finding the most frequent words in atext read from a file"
   ]
  },
  {
   "cell_type": "code",
   "execution_count": 116,
   "id": "dfb2ea29",
   "metadata": {},
   "outputs": [
    {
     "name": "stdout",
     "output_type": "stream",
     "text": [
      "{'across': 1, 'all': 1, 'and': 1, 'career': 1, 'council': 1, 'cricket': 1, 'cricketer': 1, 'dominant': 1, 'due': 1, 'him': 1, 'his': 2, 'holds': 1, 'in': 2, 'international': 1, 'kohli': 1, 'male': 1, 'named': 1, 'nicknamed': 1, 'numerous': 1, 'of': 2, 'play': 1, 'records': 1, 'style': 1, 'the': 3, 'to': 1}\n"
     ]
    }
   ],
   "source": [
    "f=open('virat_king.txt','r')\n",
    "l=f.read().lower()\n",
    "k=l.split()\n",
    "k.sort()\n",
    "n={}\n",
    "for i in k :\n",
    "    \n",
    "    if i.isalpha():\n",
    "        count=k.count(i)\n",
    "        n[i]=count\n",
    "print(n)\n",
    "    \n",
    "    "
   ]
  },
  {
   "cell_type": "markdown",
   "id": "0bbce0e2",
   "metadata": {},
   "source": [
    "# 6 file processing with command lines"
   ]
  },
  {
   "cell_type": "code",
   "execution_count": 117,
   "id": "4b357dc2",
   "metadata": {},
   "outputs": [],
   "source": [
    "import sys\n",
    "\n",
    "def process_file(input_path, output_path):\n",
    "    try:\n",
    "       \n",
    "        if not input_path or not output_path:\n",
    "            raise ValueError(\"Both input and output file paths are required.\")\n",
    "        \n",
    "       \n",
    "        try:\n",
    "            with open(input_path, 'r') as input_f:\n",
    "                data = input_f.read()\n",
    "        except FileNotFoundError:\n",
    "            raise FileNotFoundError(f\"Input file '{input_path}' not found.\")\n",
    "        \n",
    "       \n",
    "        with open(output_path, 'w') as output_file:\n",
    "            output_file.write(data)\n",
    "        \n",
    "        print(f\"File processing complete. Output written to '{output_path}'\")\n",
    "    except Exception as e:\n",
    "        print(f\"Error: {str(e)}\")\n",
    "        sys.exit(1)\n",
    "\n",
    "\n",
    "    if len(sys.argv) != 3:\n",
    "        print(\"Usage: python program.py <input_filepath> <output_filepath>\")\n",
    "        sys.exit(1)\n",
    "    \n",
    "    input_file_path = sys.argv[1]\n",
    "    output_file_path = sys.argv[2]\n",
    "    \n",
    "    process_text_file(input_path, output_path)"
   ]
  },
  {
   "cell_type": "code",
   "execution_count": null,
   "id": "dbb5c122",
   "metadata": {},
   "outputs": [],
   "source": []
  }
 ],
 "metadata": {
  "kernelspec": {
   "display_name": "Python 3 (ipykernel)",
   "language": "python",
   "name": "python3"
  },
  "language_info": {
   "codemirror_mode": {
    "name": "ipython",
    "version": 3
   },
   "file_extension": ".py",
   "mimetype": "text/x-python",
   "name": "python",
   "nbconvert_exporter": "python",
   "pygments_lexer": "ipython3",
   "version": "3.11.4"
  }
 },
 "nbformat": 4,
 "nbformat_minor": 5
}
