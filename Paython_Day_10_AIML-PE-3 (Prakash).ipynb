{
 "cells": [
  {
   "cell_type": "code",
   "execution_count": 2,
   "id": "f93c8d65",
   "metadata": {},
   "outputs": [],
   "source": [
    "import pandas as pd"
   ]
  },
  {
   "cell_type": "code",
   "execution_count": null,
   "id": "3de4b8bd",
   "metadata": {},
   "outputs": [],
   "source": [
    "from Ipython.core.display import HTML\n",
    "css = open(\"style-table.css\").read()+open(\"style-notebook.css\").read()\n",
    "HTML(\"<style>{}</style>\".format(css))"
   ]
  },
  {
   "cell_type": "code",
   "execution_count": 3,
   "id": "0c138628",
   "metadata": {},
   "outputs": [
    {
     "data": {
      "text/html": [
       "<div>\n",
       "<style scoped>\n",
       "    .dataframe tbody tr th:only-of-type {\n",
       "        vertical-align: middle;\n",
       "    }\n",
       "\n",
       "    .dataframe tbody tr th {\n",
       "        vertical-align: top;\n",
       "    }\n",
       "\n",
       "    .dataframe thead th {\n",
       "        text-align: right;\n",
       "    }\n",
       "</style>\n",
       "<table border=\"1\" class=\"dataframe\">\n",
       "  <thead>\n",
       "    <tr style=\"text-align: right;\">\n",
       "      <th></th>\n",
       "      <th>title</th>\n",
       "      <th>year</th>\n",
       "    </tr>\n",
       "  </thead>\n",
       "  <tbody>\n",
       "    <tr>\n",
       "      <th>0</th>\n",
       "      <td>Tasveer Mere Sanam</td>\n",
       "      <td>1996</td>\n",
       "    </tr>\n",
       "    <tr>\n",
       "      <th>1</th>\n",
       "      <td>Only You</td>\n",
       "      <td>1994</td>\n",
       "    </tr>\n",
       "    <tr>\n",
       "      <th>2</th>\n",
       "      <td>El pueblo del terror</td>\n",
       "      <td>1970</td>\n",
       "    </tr>\n",
       "    <tr>\n",
       "      <th>3</th>\n",
       "      <td>Machine</td>\n",
       "      <td>2007</td>\n",
       "    </tr>\n",
       "    <tr>\n",
       "      <th>4</th>\n",
       "      <td>MARy</td>\n",
       "      <td>2008</td>\n",
       "    </tr>\n",
       "  </tbody>\n",
       "</table>\n",
       "</div>"
      ],
      "text/plain": [
       "                  title  year\n",
       "0    Tasveer Mere Sanam  1996\n",
       "1              Only You  1994\n",
       "2  El pueblo del terror  1970\n",
       "3               Machine  2007\n",
       "4                  MARy  2008"
      ]
     },
     "execution_count": 3,
     "metadata": {},
     "output_type": "execute_result"
    }
   ],
   "source": [
    "titles=pd.read_csv(\"titles.csv\",index_col=None)\n",
    "titles.head()"
   ]
  },
  {
   "cell_type": "code",
   "execution_count": 4,
   "id": "bed47392",
   "metadata": {},
   "outputs": [
    {
     "data": {
      "text/html": [
       "<div>\n",
       "<style scoped>\n",
       "    .dataframe tbody tr th:only-of-type {\n",
       "        vertical-align: middle;\n",
       "    }\n",
       "\n",
       "    .dataframe tbody tr th {\n",
       "        vertical-align: top;\n",
       "    }\n",
       "\n",
       "    .dataframe thead th {\n",
       "        text-align: right;\n",
       "    }\n",
       "</style>\n",
       "<table border=\"1\" class=\"dataframe\">\n",
       "  <thead>\n",
       "    <tr style=\"text-align: right;\">\n",
       "      <th></th>\n",
       "      <th>title</th>\n",
       "      <th>year</th>\n",
       "      <th>name</th>\n",
       "      <th>type</th>\n",
       "      <th>character</th>\n",
       "      <th>n</th>\n",
       "    </tr>\n",
       "  </thead>\n",
       "  <tbody>\n",
       "    <tr>\n",
       "      <th>0</th>\n",
       "      <td>Closet Monster</td>\n",
       "      <td>2015</td>\n",
       "      <td>Buffy #1</td>\n",
       "      <td>actor</td>\n",
       "      <td>Buffy 4</td>\n",
       "      <td>31.0</td>\n",
       "    </tr>\n",
       "    <tr>\n",
       "      <th>1</th>\n",
       "      <td>Suuri illusioni</td>\n",
       "      <td>1985</td>\n",
       "      <td>Homo $</td>\n",
       "      <td>actor</td>\n",
       "      <td>Guests</td>\n",
       "      <td>22.0</td>\n",
       "    </tr>\n",
       "    <tr>\n",
       "      <th>2</th>\n",
       "      <td>Battle of the Sexes</td>\n",
       "      <td>2017</td>\n",
       "      <td>$hutter</td>\n",
       "      <td>actor</td>\n",
       "      <td>Bobby Riggs Fan</td>\n",
       "      <td>10.0</td>\n",
       "    </tr>\n",
       "    <tr>\n",
       "      <th>3</th>\n",
       "      <td>Secret in Their Eyes</td>\n",
       "      <td>2015</td>\n",
       "      <td>$hutter</td>\n",
       "      <td>actor</td>\n",
       "      <td>2002 Dodger Fan</td>\n",
       "      <td>NaN</td>\n",
       "    </tr>\n",
       "    <tr>\n",
       "      <th>4</th>\n",
       "      <td>Steve Jobs</td>\n",
       "      <td>2015</td>\n",
       "      <td>$hutter</td>\n",
       "      <td>actor</td>\n",
       "      <td>1988 Opera House Patron</td>\n",
       "      <td>NaN</td>\n",
       "    </tr>\n",
       "  </tbody>\n",
       "</table>\n",
       "</div>"
      ],
      "text/plain": [
       "                  title  year      name   type                character     n\n",
       "0        Closet Monster  2015  Buffy #1  actor                  Buffy 4  31.0\n",
       "1       Suuri illusioni  1985    Homo $  actor                   Guests  22.0\n",
       "2   Battle of the Sexes  2017   $hutter  actor          Bobby Riggs Fan  10.0\n",
       "3  Secret in Their Eyes  2015   $hutter  actor          2002 Dodger Fan   NaN\n",
       "4            Steve Jobs  2015   $hutter  actor  1988 Opera House Patron   NaN"
      ]
     },
     "execution_count": 4,
     "metadata": {},
     "output_type": "execute_result"
    }
   ],
   "source": [
    "cast=pd.read_csv(\"cast.csv\",index_col=None)\n",
    "cast.head()"
   ]
  },
  {
   "cell_type": "markdown",
   "id": "75a872bf",
   "metadata": {},
   "source": [
    "# 1.using groupby(),plot the number of films that have been released each decade in the history of cinema."
   ]
  },
  {
   "cell_type": "code",
   "execution_count": 5,
   "id": "d85220d2",
   "metadata": {},
   "outputs": [
    {
     "data": {
      "text/plain": [
       "<Axes: xlabel='decade'>"
      ]
     },
     "execution_count": 5,
     "metadata": {},
     "output_type": "execute_result"
    },
    {
     "data": {
      "image/png": "[encoded data removed]",
      "text/plain": [
       "<Figure size 640x480 with 1 Axes>"
      ]
     },
     "metadata": {},
     "output_type": "display_data"
    }
   ],
   "source": [
    "titles['decade'] = titles.year // 10 * 10\n",
    "titles.groupby('decade').size().plot(kind='bar')"
   ]
  },
  {
   "cell_type": "markdown",
   "id": "878b97b8",
   "metadata": {},
   "source": [
    "# 2.use groupby() to plot the number of \"hamlet\" films made each decade."
   ]
  },
  {
   "cell_type": "code",
   "execution_count": 6,
   "id": "1b63487b",
   "metadata": {},
   "outputs": [
    {
     "data": {
      "text/plain": [
       "<Axes: xlabel='decade'>"
      ]
     },
     "execution_count": 6,
     "metadata": {},
     "output_type": "execute_result"
    },
    {
     "data": {
      "image/png": "[encoded data removed]",
      "text/plain": [
       "<Figure size 640x480 with 1 Axes>"
      ]
     },
     "metadata": {},
     "output_type": "display_data"
    }
   ],
   "source": [
    "titles[titles.title=='Hamlet'].groupby('decade').size().sort_index().plot(kind='bar')"
   ]
  },
  {
   "cell_type": "markdown",
   "id": "876921c0",
   "metadata": {},
   "source": [
    "# 3.How many leading (n=1) roles were available to actors, and how many to actresses, in each year of the 1950s?"
   ]
  },
  {
   "cell_type": "code",
   "execution_count": 7,
   "id": "3990bb3f",
   "metadata": {},
   "outputs": [
    {
     "data": {
      "text/plain": [
       "year  type     type   \n",
       "1950  actor    actor      625\n",
       "      actress  actress    288\n",
       "1951  actor    actor      651\n",
       "      actress  actress    285\n",
       "1952  actor    actor      613\n",
       "      actress  actress    304\n",
       "1953  actor    actor      664\n",
       "      actress  actress    312\n",
       "1954  actor    actor      636\n",
       "      actress  actress    316\n",
       "1955  actor    actor      648\n",
       "      actress  actress    285\n",
       "1956  actor    actor      668\n",
       "      actress  actress    307\n",
       "1957  actor    actor      739\n",
       "      actress  actress    315\n",
       "1958  actor    actor      715\n",
       "      actress  actress    301\n",
       "1959  actor    actor      733\n",
       "      actress  actress    327\n",
       "Name: type, dtype: int64"
      ]
     },
     "execution_count": 7,
     "metadata": {},
     "output_type": "execute_result"
    }
   ],
   "source": [
    "cast[(cast.year//10==195)&(cast.n==1)].groupby(['year','type']).type.value_counts()"
   ]
  },
  {
   "cell_type": "markdown",
   "id": "5ba7d09a",
   "metadata": {},
   "source": [
    "# 4.In the 1950s decade taken as a whole, how many total roles were available to actors, and how many to actresses, for each \"n\" number 1 through 5?"
   ]
  },
  {
   "cell_type": "code",
   "execution_count": 8,
   "id": "c64c8c13",
   "metadata": {},
   "outputs": [
    {
     "data": {
      "text/plain": [
       "n    type     type   \n",
       "1.0  actor    actor      6692\n",
       "     actress  actress    3040\n",
       "2.0  actor    actor      4640\n",
       "     actress  actress    4635\n",
       "3.0  actor    actor      5654\n",
       "     actress  actress    3201\n",
       "4.0  actor    actor      5663\n",
       "     actress  actress    2881\n",
       "5.0  actor    actor      5674\n",
       "     actress  actress    2592\n",
       "Name: type, dtype: int64"
      ]
     },
     "execution_count": 8,
     "metadata": {},
     "output_type": "execute_result"
    }
   ],
   "source": [
    "cast[(cast.year//10==195)&(cast.n<=5)].groupby(['n','type']).type.value_counts()"
   ]
  },
  {
   "cell_type": "markdown",
   "id": "f7057c83",
   "metadata": {},
   "source": [
    "# 5.Use groupby() to determine how many roles are listed for each of the Pink Panther movies."
   ]
  },
  {
   "cell_type": "code",
   "execution_count": 10,
   "id": "0083d936",
   "metadata": {},
   "outputs": [
    {
     "data": {
      "text/plain": [
       "year\n",
       "1963    21\n",
       "1975    30\n",
       "1976    70\n",
       "1978    68\n",
       "1982    41\n",
       "1983    67\n",
       "1993    46\n",
       "2006    90\n",
       "2009    84\n",
       "dtype: int64"
      ]
     },
     "execution_count": 10,
     "metadata": {},
     "output_type": "execute_result"
    }
   ],
   "source": [
    "cast[cast.title.str.contains('Pink Panther')].groupby('year').size()"
   ]
  },
  {
   "cell_type": "markdown",
   "id": "eb37e00d",
   "metadata": {},
   "source": [
    "# 6.List, in order by year, each of the films in which Frank Oz has played more than 1 role."
   ]
  },
  {
   "cell_type": "code",
   "execution_count": 11,
   "id": "50b5894f",
   "metadata": {},
   "outputs": [
    {
     "data": {
      "text/plain": [
       "title                                           year\n",
       "An American Werewolf in London                  1981     True\n",
       "Blues Brothers 2000                             1998    False\n",
       "Follow That Bird                                1985     True\n",
       "Innocent Blood                                  1992    False\n",
       "Inside Out                                      2015    False\n",
       "Labyrinth                                       1986    False\n",
       "Monsters, Inc.                                  2001    False\n",
       "Muppet Treasure Island                          1996     True\n",
       "Muppets from Space                              1999     True\n",
       "Sesame Street: C is for Cookie Monster          2010    False\n",
       "Spies Like Us                                   1985    False\n",
       "Star Wars: Episode I - The Phantom Menace       1999    False\n",
       "Star Wars: Episode II - Attack of the Clones    2002    False\n",
       "Star Wars: Episode III - Revenge of the Sith    2005    False\n",
       "Star Wars: Episode V - The Empire Strikes Back  1980    False\n",
       "Star Wars: Episode VI - Return of the Jedi      1983    False\n",
       "Star Wars: Episode VII - The Force Awakens      2015    False\n",
       "Superman III                                    1983    False\n",
       "The Adventures of Elmo in Grouchland            1999     True\n",
       "The Blues Brothers                              1980    False\n",
       "The Dark Crystal                                1982     True\n",
       "The Great Gilly Hopkins                         2015    False\n",
       "The Great Muppet Caper                          1981     True\n",
       "The Muppet Christmas Carol                      1992     True\n",
       "The Muppet Movie                                1979     True\n",
       "The Muppets Take Manhattan                      1984     True\n",
       "Trading Places                                  1983    False\n",
       "Zathura: A Space Adventure                      2005    False\n",
       "dtype: bool"
      ]
     },
     "execution_count": 11,
     "metadata": {},
     "output_type": "execute_result"
    }
   ],
   "source": [
    "cast[cast.name=='Frank Oz'].groupby(['title','year']).size()>1"
   ]
  },
  {
   "cell_type": "markdown",
   "id": "1220cf2e",
   "metadata": {},
   "source": [
    "# 7.List each of the characters that Frank Oz has portrayed at least twice."
   ]
  },
  {
   "cell_type": "code",
   "execution_count": 12,
   "id": "022f2a1d",
   "metadata": {},
   "outputs": [
    {
     "data": {
      "text/plain": [
       "character\n",
       "Animal                                                   True\n",
       "Aughra, a Keeper Of Secrets (performer)                 False\n",
       "Bert                                                     True\n",
       "Brain Surgeon                                           False\n",
       "Chamberlain (performer)                                 False\n",
       "Cookie Monster                                           True\n",
       "Corrections Officer                                     False\n",
       "Corrupt Cop                                             False\n",
       "Doc Hopper's Men                                        False\n",
       "Fozzie                                                  False\n",
       "Fozzie Bear                                              True\n",
       "Fozzie Bear as Fozziewig                                False\n",
       "Fungus                                                  False\n",
       "George the Janitor                                      False\n",
       "Gramps                                                  False\n",
       "Grover                                                  False\n",
       "Horse and Carriage Driver                               False\n",
       "Marvin Suggs                                            False\n",
       "Miss Piggy                                               True\n",
       "Miss Piggy as Emily Cratchit                            False\n",
       "Motorcycle Guy                                          False\n",
       "Mr. Collins                                             False\n",
       "Ocean Breeze Soap Board Member                          False\n",
       "Pathologist                                             False\n",
       "Robot                                                   False\n",
       "Sam the Eagle                                            True\n",
       "Sam the Eagle as Headmaster of Junior High Graduates    False\n",
       "Subconscious Guard Dave                                 False\n",
       "Swedish Chef                                            False\n",
       "Swedish Chef (assistant)                                False\n",
       "Test Monitor                                            False\n",
       "The Wiseman                                             False\n",
       "Vegetable Salesman                                      False\n",
       "Warden                                                  False\n",
       "Yoda                                                     True\n",
       "dtype: bool"
      ]
     },
     "execution_count": 12,
     "metadata": {},
     "output_type": "execute_result"
    }
   ],
   "source": [
    "cast[cast.name=='Frank Oz'].groupby('character').size()>2"
   ]
  },
  {
   "cell_type": "code",
   "execution_count": null,
   "id": "4b138ce8",
   "metadata": {},
   "outputs": [],
   "source": []
  },
  {
   "cell_type": "code",
   "execution_count": null,
   "id": "d6c17d22",
   "metadata": {},
   "outputs": [],
   "source": []
  }
 ],
 "metadata": {
  "kernelspec": {
   "display_name": "Python 3 (ipykernel)",
   "language": "python",
   "name": "python3"
  },
  "language_info": {
   "codemirror_mode": {
    "name": "ipython",
    "version": 3
   },
   "file_extension": ".py",
   "mimetype": "text/x-python",
   "name": "python",
   "nbconvert_exporter": "python",
   "pygments_lexer": "ipython3",
   "version": "3.11.4"
  }
 },
 "nbformat": 4,
 "nbformat_minor": 5
}
