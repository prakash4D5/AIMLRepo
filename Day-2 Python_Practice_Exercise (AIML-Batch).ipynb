{
 "cells": [
  {
   "cell_type": "markdown",
   "id": "5f75e6d7",
   "metadata": {},
   "source": [
    "# Functions"
   ]
  },
  {
   "cell_type": "markdown",
   "id": "93850142",
   "metadata": {},
   "source": [
    "# 1 write a python program to print even and odd numbers in a list"
   ]
  },
  {
   "cell_type": "code",
   "execution_count": 38,
   "id": "e55f97fb",
   "metadata": {},
   "outputs": [],
   "source": [
    "def EvOd_function():\n",
    "    lst=[10,2,6,8,32,7,5,16,11]\n",
    "    m=[]\n",
    "    n=[]\n",
    "    for i in lst:\n",
    "        if(i%2==0):\n",
    "            m.append(i)\n",
    "                \n",
    "        else:\n",
    "            n.append(i)\n",
    "    return m,n\n",
    "    \n",
    "\n",
    "            \n",
    "\n",
    "  "
   ]
  },
  {
   "cell_type": "code",
   "execution_count": 39,
   "id": "294aaaa2",
   "metadata": {},
   "outputs": [
    {
     "name": "stdout",
     "output_type": "stream",
     "text": [
      "([10, 2, 6, 8, 32, 16], [7, 5, 11])\n"
     ]
    }
   ],
   "source": [
    "print(EvOd_function())"
   ]
  },
  {
   "cell_type": "markdown",
   "id": "a7e477b8",
   "metadata": {},
   "source": [
    "# 2 write and run a python program that asks the user to enter 8 integers were even numbers "
   ]
  },
  {
   "cell_type": "code",
   "execution_count": 124,
   "id": "4fea9ede",
   "metadata": {},
   "outputs": [
    {
     "name": "stdout",
     "output_type": "stream",
     "text": [
      "Enter the 8 Numbers2\n",
      "Enter the 8 Numbers2\n",
      "Enter the 8 Numbers2\n",
      "Enter the 8 Numbers2\n",
      "Enter the 8 Numbers2\n",
      "Enter the 8 Numbers2\n",
      "Enter the 8 Numbers2\n",
      "Enter the 8 Numbers2\n",
      "The Even numbers count is8\n"
     ]
    }
   ],
   "source": [
    "c= 0\n",
    "for _ in range(8):\n",
    "    n = int(input ('Enter the 8 Numbers'))\n",
    "    if n%2==0:\n",
    "        c=c+1\n",
    "print('The Even numbers count is{}'.format(c))"
   ]
  },
  {
   "cell_type": "markdown",
   "id": "e2bdc108",
   "metadata": {},
   "source": [
    "# 3 write a python program where you take any position interger n if n is even divide by 2 if n is odd multiply by 3"
   ]
  },
  {
   "cell_type": "code",
   "execution_count": 59,
   "id": "fec2037f",
   "metadata": {},
   "outputs": [
    {
     "name": "stdout",
     "output_type": "stream",
     "text": [
      "([6.0, 3.0, 5.0, 8.0, 4.0, 2.0, 1.0], [10.0, 16.0])\n"
     ]
    }
   ],
   "source": [
    "def even_Function(n):\n",
    "    lst1=[]\n",
    "    lst2=[]\n",
    "    while n > 1:\n",
    "        if n % 2 == 0:\n",
    "            n = n / 2\n",
    "            lst1.append(n)\n",
    "        else:\n",
    "            n = 3 * n + 1\n",
    "            lst2.append(n)\n",
    "    return lst1,lst2\n",
    "            \n",
    "print(even_Function(12))"
   ]
  },
  {
   "cell_type": "markdown",
   "id": "c3f8bcc4",
   "metadata": {},
   "source": [
    "# 4 write a python program to compute the sum of all the multiples of 3 or 5 below 500"
   ]
  },
  {
   "cell_type": "code",
   "execution_count": 63,
   "id": "3a7272b1",
   "metadata": {},
   "outputs": [
    {
     "name": "stdout",
     "output_type": "stream",
     "text": [
      "233\n"
     ]
    }
   ],
   "source": [
    "s=0\n",
    "for i in range(500):\n",
    "    if(i%5==0 or i%3==0):\n",
    "        s+=1\n",
    "print(s)\n",
    "        "
   ]
  },
  {
   "cell_type": "markdown",
   "id": "2b8c95bb",
   "metadata": {},
   "source": [
    "# 5 To write a python to find first n prime numbers from a list of given numbers"
   ]
  },
  {
   "cell_type": "code",
   "execution_count": 68,
   "id": "c800a32c",
   "metadata": {},
   "outputs": [
    {
     "name": "stdout",
     "output_type": "stream",
     "text": [
      "2\n",
      "3\n",
      "5\n",
      "7\n"
     ]
    }
   ],
   "source": [
    "i = 1\n",
    "x = [20,2,4,6,5,11,16]\n",
    "for k in x:\n",
    "    c = 0\n",
    "    for j in range(1, i+1):\n",
    "        a = i % j\n",
    "        if a == 0:\n",
    "            c = c + 1\n",
    "\n",
    "    if c == 2:\n",
    "        print(i)\n",
    "    else:\n",
    "        k = k - 1\n",
    "\n",
    "    i = i + 1"
   ]
  },
  {
   "cell_type": "markdown",
   "id": "83c40774",
   "metadata": {},
   "source": [
    "# 6 Write a python program to compute matrix multiplication"
   ]
  },
  {
   "cell_type": "markdown",
   "id": "192d094c",
   "metadata": {},
   "source": [
    "def Matrix_fun(ind1,ind2):\n",
    "    result=[]\n",
    "    for i in range(len(ind1)):\n",
    "        row=[]\n",
    "        for j in range(len(ind2)):\n",
    "            values = ind1[i][j] * ind2[i][j]\n",
    "            row.append(values)\n",
    "        result.append(row)\n",
    "    return result\n",
    "ind1=[[2,3,5],[52,26,54],[85,45,75]]\n",
    "ind2=[[89,47,72],[55,46,21],[45,12,19]]\n",
    "ans=Matrix_fun(ind1,ind2)\n",
    "print(ans)\n",
    "\n",
    "\n",
    "            \n",
    "        \n",
    "    "
   ]
  },
  {
   "cell_type": "code",
   "execution_count": 78,
   "id": "6fabd643",
   "metadata": {},
   "outputs": [
    {
     "name": "stdout",
     "output_type": "stream",
     "text": [
      "[[178, 141, 360], [178, 141, 360], [178, 141, 360]]\n"
     ]
    }
   ],
   "source": [
    "def Matrix_fun(ind1,ind2):\n",
    "    result=[]\n",
    "    for i in range(len(ind1)):\n",
    "        row=[]\n",
    "        for j in range(len(ind2)):\n",
    "            values = ind1[i][j] * ind2[i][j]\n",
    "            row.append(values)\n",
    "            result.append(row)\n",
    "        return result\n",
    "ind1=[[2,3,5],[52,26,54],[85,45,75]]\n",
    "ind2=[[89,47,72],[55,46,21],[45,12,19]]\n",
    "ans=Matrix_fun(ind1,ind2)\n",
    "print(ans)"
   ]
  },
  {
   "cell_type": "markdown",
   "id": "9a456071",
   "metadata": {},
   "source": [
    "# 7 Write a python function to count the number of vowels in"
   ]
  },
  {
   "cell_type": "code",
   "execution_count": 91,
   "id": "ee870b0e",
   "metadata": {},
   "outputs": [
    {
     "name": "stdout",
     "output_type": "stream",
     "text": [
      "enter the namenani\n",
      "The no of vowles in the given string is 2\n"
     ]
    }
   ],
   "source": [
    "ui=input(\"enter the name\")\n",
    "count=0\n",
    "lst_1 = ['A','a','E','e','I','i','O','o','U','u']\n",
    "for i in ui:\n",
    "    if(i in lst_1):\n",
    "        count = count + 1\n",
    "print('The no of vowles in the given string is {}'.format(count))\n",
    "        \n",
    "        \n",
    "        "
   ]
  },
  {
   "cell_type": "markdown",
   "id": "27347f80",
   "metadata": {},
   "source": [
    "# 8 write a python function for finding the factorial for the given number using a recursive function"
   ]
  },
  {
   "cell_type": "code",
   "execution_count": 101,
   "id": "f5a76adc",
   "metadata": {},
   "outputs": [
    {
     "data": {
      "text/plain": [
       "120"
      ]
     },
     "execution_count": 101,
     "metadata": {},
     "output_type": "execute_result"
    }
   ],
   "source": [
    "def Fact_num(n): #using Recursion\n",
    "    if n == 1:\n",
    "        return n\n",
    "    else:\n",
    "        return n * Fact_num(n-1)\n",
    "    \n",
    "    \n",
    "Fact_num(5)\n"
   ]
  },
  {
   "cell_type": "code",
   "execution_count": 118,
   "id": "1efb7403",
   "metadata": {},
   "outputs": [
    {
     "name": "stdout",
     "output_type": "stream",
     "text": [
      "Enter number:5\n",
      "120\n"
     ]
    }
   ],
   "source": [
    "n=int(input(\"Enter number:\")) # without recursive funtion\n",
    "fact=1\n",
    "while(n>0):\n",
    "    fact=fact*n\n",
    "    n=n-1\n",
    "\n",
    "print(fact)\n"
   ]
  },
  {
   "cell_type": "markdown",
   "id": "f286c333",
   "metadata": {},
   "source": [
    "# 9 write a function to print a fibonacci series"
   ]
  },
  {
   "cell_type": "code",
   "execution_count": 135,
   "id": "34f4bc42",
   "metadata": {},
   "outputs": [
    {
     "data": {
      "text/plain": [
       "55"
      ]
     },
     "execution_count": 135,
     "metadata": {},
     "output_type": "execute_result"
    }
   ],
   "source": [
    "def Fibo(n): #using functions\n",
    "    if n < 0:\n",
    "        print(\"Enter a positive value\")\n",
    "    elif n == 0:\n",
    "        return 0\n",
    "\n",
    "\n",
    "    elif n == 1 or n == 2:\n",
    "        return 1\n",
    "\n",
    "    else:\n",
    "        return Fibo(n-1) + Fibo(n-2)\n",
    "\n",
    "Fibo(10)"
   ]
  },
  {
   "cell_type": "markdown",
   "id": "7e7f2d12",
   "metadata": {},
   "source": [
    "# 10 Display the given integer into the Reverse order"
   ]
  },
  {
   "cell_type": "code",
   "execution_count": 143,
   "id": "64a011dc",
   "metadata": {},
   "outputs": [
    {
     "name": "stdout",
     "output_type": "stream",
     "text": [
      "15\n"
     ]
    }
   ],
   "source": [
    "def Inte(n): # reverse the string without inbuilt function\n",
    "    rev=0\n",
    "    while n!=0:\n",
    "        rem=n%10\n",
    "        rev=(rev*10)+rem\n",
    "        n=n//10\n",
    "    print(rev)\n",
    "    \n",
    "    \n",
    "    \n",
    "Inte(51)\n",
    "    "
   ]
  },
  {
   "cell_type": "markdown",
   "id": "8241247f",
   "metadata": {},
   "source": [
    "# 11 write a python program all integers within the range 200-300 whose sum of digital is an even number"
   ]
  },
  {
   "cell_type": "code",
   "execution_count": 1,
   "id": "79751489",
   "metadata": {},
   "outputs": [
    {
     "name": "stdout",
     "output_type": "stream",
     "text": [
      "24950\n"
     ]
    }
   ],
   "source": [
    "sum=0\n",
    "for i in range(200,300):\n",
    "    if(i!=0):\n",
    "        sum+=i\n",
    "print(sum)\n",
    "        "
   ]
  },
  {
   "cell_type": "markdown",
   "id": "e8604ee4",
   "metadata": {},
   "source": [
    "# 12 write a python function to find the no of digits and sum of digits for a given integer"
   ]
  },
  {
   "cell_type": "code",
   "execution_count": 21,
   "id": "f3e2233e",
   "metadata": {},
   "outputs": [
    {
     "name": "stdout",
     "output_type": "stream",
     "text": [
      "entert the integer10\n",
      "entert the integer10\n",
      "entert the integer10\n",
      "entert the integer10\n",
      "180\n",
      "40\n"
     ]
    }
   ],
   "source": [
    "sum1=0\n",
    "count=0\n",
    "for _ in range(0,4):\n",
    "    n=int(input(\"entert the integer\"))\n",
    "    for i in range(n):\n",
    "        sum1+=i\n",
    "        count+=1\n",
    "    \n",
    "print(sum1)\n",
    "print(count)"
   ]
  },
  {
   "cell_type": "markdown",
   "id": "4a90c82e",
   "metadata": {},
   "source": [
    "# 13 write function called is_sorted that takes a list as a parameter and return true if the list is sorted in ascending order and false otherwise and has_duplicate that takes a list and returns true if there is any element that appers more than once it should not modify the original list"
   ]
  },
  {
   "cell_type": "code",
   "execution_count": 2,
   "id": "bc7e5c24",
   "metadata": {},
   "outputs": [
    {
     "name": "stdout",
     "output_type": "stream",
     "text": [
      " List is:  [1, 2, 3, 4, 5, 6]\n",
      "Yes, The given list is sorted\n"
     ]
    },
    {
     "data": {
      "text/plain": [
       "False"
      ]
     },
     "execution_count": 2,
     "metadata": {},
     "output_type": "execute_result"
    }
   ],
   "source": [
    "def sorted_list(x):\n",
    "    flag =0\n",
    "    i=1\n",
    "    while i < len(x):\n",
    "        if (x[i] < x[i-1]):\n",
    "            flag = 1\n",
    "        i+=1\n",
    "        \n",
    "    if( not flag):\n",
    "        print(\"Yes, The given list is sorted\")\n",
    "    else:\n",
    "        print(\"No, The given list is not sorted\")\n",
    "            \n",
    "def dup(arr):\n",
    "    again =[]\n",
    "    for item in arr:\n",
    "        if item in again:\n",
    "            return True\n",
    "        again.append(item)\n",
    "    return False\n",
    "            \n",
    "list=[1,2,3,4,5,6]\n",
    "print(\" List is: \",list)\n",
    "sorted_list(list)\n",
    "dup(list)"
   ]
  },
  {
   "cell_type": "markdown",
   "id": "db7adfe1",
   "metadata": {},
   "source": [
    "# 14 write functions called nested_sum that takes a list of integers and adds up the element from all the nested lists and cumcum that takes alist "
   ]
  },
  {
   "cell_type": "code",
   "execution_count": 3,
   "id": "8938cea6",
   "metadata": {},
   "outputs": [
    {
     "ename": "TypeError",
     "evalue": "isinstance() arg 2 must be a type, a tuple of types, or a union",
     "output_type": "error",
     "traceback": [
      "\u001b[1;31m---------------------------------------------------------------------------\u001b[0m",
      "\u001b[1;31mTypeError\u001b[0m                                 Traceback (most recent call last)",
      "Cell \u001b[1;32mIn[3], line 11\u001b[0m\n\u001b[0;32m      8\u001b[0m     \u001b[38;5;28;01mreturn\u001b[39;00m total\n\u001b[0;32m     10\u001b[0m nested_list \u001b[38;5;241m=\u001b[39m [\u001b[38;5;241m2\u001b[39m, \u001b[38;5;241m4\u001b[39m, [\u001b[38;5;241m6\u001b[39m, \u001b[38;5;241m8\u001b[39m], [\u001b[38;5;241m10\u001b[39m, [\u001b[38;5;241m12\u001b[39m, \u001b[38;5;241m14\u001b[39m]]]\n\u001b[1;32m---> 11\u001b[0m result \u001b[38;5;241m=\u001b[39m nest(nested_list)\n\u001b[0;32m     12\u001b[0m \u001b[38;5;28mprint\u001b[39m(\u001b[38;5;124m\"\u001b[39m\u001b[38;5;124mSum of elements in nested list:\u001b[39m\u001b[38;5;124m\"\u001b[39m,result)\n\u001b[0;32m     14\u001b[0m \u001b[38;5;28;01mdef\u001b[39;00m \u001b[38;5;21mcumsum\u001b[39m(numbers):\n",
      "Cell \u001b[1;32mIn[3], line 4\u001b[0m, in \u001b[0;36mnest\u001b[1;34m(lst)\u001b[0m\n\u001b[0;32m      2\u001b[0m total \u001b[38;5;241m=\u001b[39m \u001b[38;5;241m0\u001b[39m\n\u001b[0;32m      3\u001b[0m \u001b[38;5;28;01mfor\u001b[39;00m item \u001b[38;5;129;01min\u001b[39;00m lst:\n\u001b[1;32m----> 4\u001b[0m     \u001b[38;5;28;01mif\u001b[39;00m \u001b[38;5;28misinstance\u001b[39m(item, \u001b[38;5;28mlist\u001b[39m):\n\u001b[0;32m      5\u001b[0m         total \u001b[38;5;241m+\u001b[39m\u001b[38;5;241m=\u001b[39m nest(item)\n\u001b[0;32m      6\u001b[0m     \u001b[38;5;28;01melse\u001b[39;00m:\n",
      "\u001b[1;31mTypeError\u001b[0m: isinstance() arg 2 must be a type, a tuple of types, or a union"
     ]
    }
   ],
   "source": [
    "def nest(lst):\n",
    "    total = 0\n",
    "    for item in lst:\n",
    "        if isinstance(item, list):\n",
    "            total += nest(item)\n",
    "        else:\n",
    "            total += item\n",
    "    return total\n",
    "\n",
    "nested_list = [2, 4, [6, 8], [10, [12, 14]]]\n",
    "result = nest(nested_list)\n",
    "print(\"Sum of elements in nested list:\",result)\n",
    "\n",
    "def cumsum(numbers):\n",
    "    cumulative_sum = []\n",
    "    current_sum = 0\n",
    "    for num in numbers:\n",
    "        current_sum += num\n",
    "        cumulative_sum.append(current_sum)\n",
    "    return cumulative_sum\n",
    "\n",
    "my_list = [1,2,3,4,5,6]\n",
    "cumulative_result = cumsum(my_list)\n",
    "print(\"Cumulative sum of the list:\", cumulative_result)"
   ]
  },
  {
   "cell_type": "code",
   "execution_count": null,
   "id": "ad62f8d9",
   "metadata": {},
   "outputs": [],
   "source": []
  }
 ],
 "metadata": {
  "kernelspec": {
   "display_name": "Python 3 (ipykernel)",
   "language": "python",
   "name": "python3"
  },
  "language_info": {
   "codemirror_mode": {
    "name": "ipython",
    "version": 3
   },
   "file_extension": ".py",
   "mimetype": "text/x-python",
   "name": "python",
   "nbconvert_exporter": "python",
   "pygments_lexer": "ipython3",
   "version": "3.11.4"
  }
 },
 "nbformat": 4,
 "nbformat_minor": 5
}
