{
 "cells": [
  {
   "cell_type": "markdown",
   "id": "42b301c1",
   "metadata": {},
   "source": [
    "# 1 create a 3x3x3 array with random values"
   ]
  },
  {
   "cell_type": "code",
   "execution_count": 1,
   "id": "fe87d0ca",
   "metadata": {},
   "outputs": [
    {
     "data": {
      "text/plain": [
       "array([[0.000e+000, 0.000e+000, 0.000e+000],\n",
       "       [0.000e+000, 0.000e+000, 6.996e-321],\n",
       "       [0.000e+000, 0.000e+000, 0.000e+000]])"
      ]
     },
     "execution_count": 1,
     "metadata": {},
     "output_type": "execute_result"
    }
   ],
   "source": [
    "import numpy as np\n",
    "e=np.empty([3,3])\n",
    "e"
   ]
  },
  {
   "cell_type": "markdown",
   "id": "10ec61dc",
   "metadata": {},
   "source": [
    "# 2 create a 5x5 matrix with values 1,2,3,4 just below the diagonal"
   ]
  },
  {
   "cell_type": "code",
   "execution_count": 3,
   "id": "d128f36e",
   "metadata": {},
   "outputs": [
    {
     "data": {
      "text/plain": [
       "array([[0, 0, 0, 0, 0],\n",
       "       [0, 1, 0, 0, 0],\n",
       "       [0, 0, 2, 0, 0],\n",
       "       [0, 0, 0, 3, 0],\n",
       "       [0, 0, 0, 0, 4]])"
      ]
     },
     "execution_count": 3,
     "metadata": {},
     "output_type": "execute_result"
    }
   ],
   "source": [
    "e=np.diag([0,1,2,3,4])\n",
    "e"
   ]
  },
  {
   "cell_type": "markdown",
   "id": "8a82a98b",
   "metadata": {},
   "source": [
    "# 3 Create a 8x8 matrix and fill it with a checkerboard pattern"
   ]
  },
  {
   "cell_type": "code",
   "execution_count": 13,
   "id": "a47faa59",
   "metadata": {},
   "outputs": [
    {
     "data": {
      "text/plain": [
       "array([[0, 0, 0, 0, 0, 0, 0, 0],\n",
       "       [0, 0, 0, 0, 0, 0, 0, 0],\n",
       "       [0, 0, 0, 0, 0, 0, 0, 0],\n",
       "       [0, 0, 0, 0, 0, 0, 0, 0],\n",
       "       [0, 0, 0, 0, 0, 0, 0, 0],\n",
       "       [0, 0, 0, 0, 0, 0, 0, 0],\n",
       "       [0, 0, 0, 0, 0, 0, 0, 0],\n",
       "       [0, 0, 0, 0, 0, 0, 0, 0]])"
      ]
     },
     "execution_count": 13,
     "metadata": {},
     "output_type": "execute_result"
    }
   ],
   "source": [
    "x=np.zeros((8,8),dtype=int)\n",
    "x"
   ]
  },
  {
   "cell_type": "markdown",
   "id": "f17a4626",
   "metadata": {},
   "source": [
    "# 4 Normalize a 5x5 random matrix"
   ]
  },
  {
   "cell_type": "code",
   "execution_count": 23,
   "id": "ff7df222",
   "metadata": {},
   "outputs": [
    {
     "name": "stdout",
     "output_type": "stream",
     "text": [
      "Original Matrix:\n",
      "[[0.32796731 0.35791998 0.02049289 0.9137475  0.36805221]\n",
      " [0.73740037 0.26641267 0.01540804 0.2298848  0.16038949]\n",
      " [0.30158561 0.81576119 0.31870388 0.33680919 0.35369044]\n",
      " [0.25840995 0.52528655 0.74878556 0.94991501 0.64600043]\n",
      " [0.64302601 0.0081007  0.01986146 0.87145228 0.08375599]]\n",
      "\n",
      "Normalized Matrix:\n",
      "[[0.33962811 0.37143126 0.01315778 0.96159805 0.38218947]\n",
      " [0.77435612 0.27427059 0.00775878 0.23548601 0.16169725]\n",
      " [0.31161654 0.8575581  0.32979237 0.34901624 0.36694042]\n",
      " [0.26577345 0.54913781 0.78644469 1.         0.67730945]\n",
      " [0.67415127 0.         0.01248733 0.91668982 0.0803293 ]]\n"
     ]
    }
   ],
   "source": [
    "import numpy as np\n",
    "\n",
    "# Create a 5x5 random matrix\n",
    "matrix = np.random.rand(5,5)\n",
    "\n",
    "\n",
    "min_val = matrix.min()\n",
    "max_val = matrix.max()\n",
    "\n",
    "\n",
    "normalized_matrix = (matrix - min_val)/(max_val - min_val)\n",
    "\n",
    "print(\"Original Matrix:\")\n",
    "print(matrix)\n",
    "print(\"\\nNormalized Matrix:\")\n",
    "print(normalized_matrix)\n"
   ]
  },
  {
   "cell_type": "markdown",
   "id": "4c264c91",
   "metadata": {},
   "source": [
    "# 5 how to find common values between two arrays"
   ]
  },
  {
   "cell_type": "code",
   "execution_count": 26,
   "id": "713aec35",
   "metadata": {},
   "outputs": [
    {
     "name": "stdout",
     "output_type": "stream",
     "text": [
      "The comman elements in the arrays are [2 6]\n"
     ]
    }
   ],
   "source": [
    "array1=np.array([1,5,6,3,2])\n",
    "array2=np.array([9,6,8,7,2])\n",
    "c_element=np.intersect1d(array1,array2)\n",
    "print(f\"The comman elements in the arrays are {c_element}\")"
   ]
  },
  {
   "cell_type": "markdown",
   "id": "19e48f23",
   "metadata": {},
   "source": [
    "# 6 how to get the dates of yesterday, today and tomorrow"
   ]
  },
  {
   "cell_type": "code",
   "execution_count": 29,
   "id": "80b9f85b",
   "metadata": {},
   "outputs": [
    {
     "name": "stdout",
     "output_type": "stream",
     "text": [
      "Yesterday ---> 2023-09-20\n",
      "Today ----> 2023-09-21\n",
      "Tomorrow ---> 2023-09-22\n"
     ]
    }
   ],
   "source": [
    "from datetime import datetime, timedelta\n",
    "\n",
    "# Get today's date\n",
    "today = datetime.now().date()\n",
    "\n",
    "# Calculate yesterday's date\n",
    "yesterday = today - timedelta(days=1)\n",
    "\n",
    "# Calculate tomorrow's date\n",
    "tomorrow = today + timedelta(days=1)\n",
    "\n",
    "# Format the dates as strings if needed\n",
    "today_str = today.strftime(\"%Y-%m-%d\")\n",
    "yesterday_str = yesterday.strftime(\"%Y-%m-%d\")\n",
    "tomorrow_str = tomorrow.strftime(\"%Y-%m-%d\")\n",
    "\n",
    "print(\"Yesterday --->\", yesterday_str)\n",
    "print(\"Today ---->\", today_str)\n",
    "print(\"Tomorrow --->\", tomorrow_str)\n"
   ]
  },
  {
   "cell_type": "markdown",
   "id": "b69e205b",
   "metadata": {},
   "source": [
    "# 7 Consider two random array Aand B check if they are equal"
   ]
  },
  {
   "cell_type": "code",
   "execution_count": null,
   "id": "5593d4c0",
   "metadata": {},
   "outputs": [],
   "source": [
    "array1=np.random.randint(0, 10, size=5)\n",
    "array2=np.random.randint(0, 10, size=5)\n",
    "check_a= np.array_equal(array1, array2)\n",
    "if check_a:\n",
    "    print(\"They are equal\")\n",
    "else:\n",
    "    print(\"There are not equal\")"
   ]
  },
  {
   "cell_type": "markdown",
   "id": "414560c8",
   "metadata": {},
   "source": [
    "# 8 Create random vector of size 10 and replace the maximum value by 0"
   ]
  },
  {
   "cell_type": "code",
   "execution_count": 50,
   "id": "f626a8b1",
   "metadata": {},
   "outputs": [
    {
     "name": "stdout",
     "output_type": "stream",
     "text": [
      "The Random Vector is: [12 42 10 19 53 66 26 88  0 98]\n"
     ]
    }
   ],
   "source": [
    "vect_pro = np.random.randint(0, 100, size=10)\n",
    "max_value = np.argmax(vect_pro)\n",
    "vect_pro[max_value] = 0\n",
    "print(\"The Random Vector is:\",vect_pro)"
   ]
  },
  {
   "cell_type": "markdown",
   "id": "caabd9c8",
   "metadata": {},
   "source": [
    "# 9 How to print all the values in the array"
   ]
  },
  {
   "cell_type": "code",
   "execution_count": 62,
   "id": "460c6aa3",
   "metadata": {},
   "outputs": [
    {
     "name": "stdout",
     "output_type": "stream",
     "text": [
      "[1 5 6 2 3 4 8 9 5 7]\n",
      "<class 'numpy.ndarray'>\n"
     ]
    }
   ],
   "source": [
    "arr = np.array([1,5,6,2,3,4,8,9,5,7])\n",
    "\n",
    "print(arr)\n",
    "print(type(arr))"
   ]
  },
  {
   "cell_type": "markdown",
   "id": "c72440f7",
   "metadata": {},
   "source": [
    "# 10 subtract the mean of each row of a matrix"
   ]
  },
  {
   "cell_type": "code",
   "execution_count": 68,
   "id": "53af09ca",
   "metadata": {},
   "outputs": [
    {
     "data": {
      "text/plain": [
       "array([[-1.66666667, -2.        , -2.33333333],\n",
       "       [ 0.33333333,  0.        ,  0.66666667],\n",
       "       [ 5.33333333,  0.        , -0.33333333]])"
      ]
     },
     "execution_count": 68,
     "metadata": {},
     "output_type": "execute_result"
    }
   ],
   "source": [
    "mat_1=np.array([[2,4,5],[4,6,8],[9,6,7]],dtype=int)\n",
    "e = mat_1 - mat_1.mean(axis=1)\n",
    "e\n"
   ]
  },
  {
   "cell_type": "markdown",
   "id": "b9cd6768",
   "metadata": {},
   "source": [
    "# 11 Consider a given vector how to add 1 to each element indexed by second vector (be carefull with repeated indices)"
   ]
  },
  {
   "cell_type": "code",
   "execution_count": 71,
   "id": "46487256",
   "metadata": {},
   "outputs": [],
   "source": [
    "vect=np.random.randn(10)"
   ]
  },
  {
   "cell_type": "code",
   "execution_count": 93,
   "id": "335bad0b",
   "metadata": {},
   "outputs": [
    {
     "name": "stdout",
     "output_type": "stream",
     "text": [
      "Result Vector: [4, 10, 7, 7, 10]\n"
     ]
    }
   ],
   "source": [
    "given_vector = [3, 8, 7, 6, 9]\n",
    "\n",
    "\n",
    "indices_to_increment = [1, 3, 1, 4, 0]\n",
    "\n",
    "\n",
    "for index in indices_to_increment:\n",
    "    if 0 <= index < len(given_vector):\n",
    "        given_vector[index] += 1\n",
    "\n",
    "\n",
    "print(\"Result Vector:\", given_vector)\n"
   ]
  },
  {
   "cell_type": "markdown",
   "id": "70b47877",
   "metadata": {},
   "source": [
    "# 12 how to get the diagonal of a dot product "
   ]
  },
  {
   "cell_type": "code",
   "execution_count": 95,
   "id": "a268d8be",
   "metadata": {},
   "outputs": [
    {
     "name": "stdout",
     "output_type": "stream",
     "text": [
      "The Dot Array is [[19 22]\n",
      " [43 50]]\n",
      "The Diagonal is [19 50]\n"
     ]
    }
   ],
   "source": [
    "arr1 = np.array([[1,2],[3,4]])\n",
    "arr2 = np.array([[5,6],[7,8]])\n",
    "\n",
    "dot_arr = np.dot(arr1,arr2)\n",
    "\n",
    "dia = np.diagonal(dot_arr)\n",
    "\n",
    "print(\"The Dot Array is {}\".format(dot_arr))\n",
    "print(\"The Diagonal is {}\".format(dia))"
   ]
  },
  {
   "cell_type": "markdown",
   "id": "b03b35a9",
   "metadata": {},
   "source": [
    "# 13 how to find the most frequent value in an array"
   ]
  },
  {
   "cell_type": "code",
   "execution_count": 96,
   "id": "de35287d",
   "metadata": {},
   "outputs": [
    {
     "name": "stdout",
     "output_type": "stream",
     "text": [
      "Array: [9 0 8 8 2 0 5 2 9 1 9 9 3 7 9 2 9 5 4 3 7 5 0 8 4 0 0 1 9 0 8 8 5 5 9 7 8\n",
      " 8 5 5 3 4 4 8 2 7 6 2 1 5]\n",
      "Most Common Value: 9\n"
     ]
    }
   ],
   "source": [
    "from collections import Counter\n",
    "\n",
    "x = np.random.randint(0,10,50)\n",
    "\n",
    "\n",
    "\n",
    "element_counts = Counter(x)\n",
    "\n",
    "\n",
    "most_common_elements = element_counts.most_common()\n",
    "\n",
    "\n",
    "most_common_value = most_common_elements[0][0] \n",
    "\n",
    "print(\"Array:\", x)\n",
    "print(\"Most Common Value:\", most_common_value)\n",
    "\n"
   ]
  },
  {
   "cell_type": "markdown",
   "id": "cad238d8",
   "metadata": {},
   "source": [
    "# 14 how to get the n largest element in the array"
   ]
  },
  {
   "cell_type": "code",
   "execution_count": 103,
   "id": "16b77708",
   "metadata": {},
   "outputs": [
    {
     "name": "stdout",
     "output_type": "stream",
     "text": [
      "Array: [ 5  2  6  4  5  8  5  9  6  4  7  5 16  2  5 22]\n",
      "1 Largest Elements: [9]\n"
     ]
    }
   ],
   "source": [
    "e=np.array([5,2,6,4,5,8,5,9,6,4,7,5,16,2,5,22])\n",
    "\n",
    "n=1\n",
    "\n",
    "largest_n_elements = np.partition(my_array, -n)[-n:]\n",
    "\n",
    "print(\"Array:\", e)\n",
    "print(f\"{n} Largest Elements:\", largest_n_elements)\n",
    "\n",
    "\n"
   ]
  },
  {
   "cell_type": "markdown",
   "id": "7e38442b",
   "metadata": {},
   "source": [
    "# 15 how to create a record array from regular array"
   ]
  },
  {
   "cell_type": "code",
   "execution_count": null,
   "id": "8fb42d5c",
   "metadata": {},
   "outputs": [],
   "source": []
  },
  {
   "cell_type": "markdown",
   "id": "9a601977",
   "metadata": {},
   "source": [
    "# 16 how to swap two rows of an array"
   ]
  },
  {
   "cell_type": "code",
   "execution_count": 104,
   "id": "2f6a1c80",
   "metadata": {},
   "outputs": [
    {
     "name": "stdout",
     "output_type": "stream",
     "text": [
      "[[1 6 7]\n",
      " [5 8 7]\n",
      " [2 6 8]]\n"
     ]
    }
   ],
   "source": [
    "n=np.array([[2,6,8],[5,8,7],[1,6,7]])\n",
    "\n",
    "n1_row=0\n",
    "n2_row=2\n",
    "n[n1_row],n[n2_row]=n[n2_row].copy(),n[n1_row].copy()\n",
    "print(n)"
   ]
  },
  {
   "cell_type": "code",
   "execution_count": null,
   "id": "9972f7cb",
   "metadata": {},
   "outputs": [],
   "source": []
  },
  {
   "cell_type": "markdown",
   "id": "38d2f29f",
   "metadata": {},
   "source": [
    "# 17 Wite a python code to reshape to the next dimension of numpy array"
   ]
  },
  {
   "cell_type": "code",
   "execution_count": null,
   "id": "1ca2ce41",
   "metadata": {},
   "outputs": [],
   "source": []
  }
 ],
 "metadata": {
  "kernelspec": {
   "display_name": "Python 3 (ipykernel)",
   "language": "python",
   "name": "python3"
  },
  "language_info": {
   "codemirror_mode": {
    "name": "ipython",
    "version": 3
   },
   "file_extension": ".py",
   "mimetype": "text/x-python",
   "name": "python",
   "nbconvert_exporter": "python",
   "pygments_lexer": "ipython3",
   "version": "3.11.4"
  }
 },
 "nbformat": 4,
 "nbformat_minor": 5
}
