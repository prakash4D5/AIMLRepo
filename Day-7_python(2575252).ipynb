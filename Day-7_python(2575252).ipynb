{
 "cells": [
  {
   "cell_type": "markdown",
   "id": "3e5882d6",
   "metadata": {},
   "source": [
    "# IMPLEMENTATION OF DATA STRUCTURES IN PYTHON"
   ]
  },
  {
   "cell_type": "markdown",
   "id": "b6839353",
   "metadata": {},
   "source": [
    "# 1. write a python program to find a target value in a list using linear search with following given steps"
   ]
  },
  {
   "cell_type": "code",
   "execution_count": 6,
   "id": "f1c0a4b5",
   "metadata": {},
   "outputs": [
    {
     "name": "stdout",
     "output_type": "stream",
     "text": [
      "Enter the item to be searched: 22\n",
      "element 22 was not found in the list\n"
     ]
    }
   ],
   "source": [
    "lst = [5, 10, 15, 20, 25]\n",
    "pos=0\n",
    "found = False\n",
    "mi = int(input(\"Enter the item to be searched: \"))\n",
    "for i in lst:\n",
    "    while mi < i and not found:\n",
    "        if(lst[pos]==mi):\n",
    "            found=True\n",
    "        else:\n",
    "            pos+=1\n",
    "        break\n",
    "\n",
    "\n",
    "if found:\n",
    "    print(f\"element {mi} was found at position {pos+1}\")\n",
    "else:\n",
    "    print(f\"element {mi} was not found in the list\")\n",
    "    "
   ]
  },
  {
   "cell_type": "markdown",
   "id": "73deeb4f",
   "metadata": {},
   "source": [
    "# 2 write a python program to implement binary search to find the target values from the list"
   ]
  },
  {
   "cell_type": "code",
   "execution_count": 11,
   "id": "e3b58d58",
   "metadata": {},
   "outputs": [
    {
     "name": "stdout",
     "output_type": "stream",
     "text": [
      "Enter # of elements to be inserted:\t5\n",
      "Enter Element 1: 2\n",
      "Enter Element 2: 4\n",
      "Enter Element 3: 8\n",
      "Enter Element 4: 6\n",
      "Enter Element 5: 7\n",
      "[2, 4, 6, 7, 8]\n",
      "Enter the value to be searched:\t6\n",
      "Value 6 Found at Position 3\n"
     ]
    }
   ],
   "source": [
    "def binary_search(data, e):\n",
    "    first = 0\n",
    "    last = len(data) - 1\n",
    "    found = False\n",
    "\n",
    "    while first <= last and not found:\n",
    "        mid = (first + last) // 2\n",
    "        if data[mid] == e:\n",
    "            found = True\n",
    "        else:\n",
    "            if e < data[mid]:\n",
    "                last = mid - 1\n",
    "            else:\n",
    "                first = mid + 1\n",
    "\n",
    "    \n",
    "    if found:\n",
    "        return mid  \n",
    "    else:\n",
    "        return -1\n",
    "\n",
    "\n",
    "data = []\n",
    "k = int(input('Enter the No of elements to be inserted:\\t'))\n",
    "for i in range(k):\n",
    "    x = int(input('Enter Element %d: ' % (i + 1)))\n",
    "    data.append(x)\n",
    "\n",
    "\n",
    "data.sort()\n",
    "print(data)\n",
    "\n",
    "\n",
    "e = int(input('Enter the value to be searched:\\t'))\n",
    "\n",
    "\n",
    "res=binary_search(data, e)\n",
    "    \n",
    "if res:\n",
    "    print(f'Value {e} Found at Position {res +1 }')\n",
    "else:\n",
    "    print(f'Value {e} is not found in the list')\n",
    "    "
   ]
  },
  {
   "cell_type": "markdown",
   "id": "7f61b575",
   "metadata": {},
   "source": [
    "# 3 write a python program for sorthing a list of elements using selection sort"
   ]
  },
  {
   "cell_type": "code",
   "execution_count": null,
   "id": "2bc730c6",
   "metadata": {},
   "outputs": [],
   "source": [
    "def selection_sort(arr):\n",
    "    sorted_list = []\n",
    "\n",
    "    while arr:  \n",
    "        \n",
    "        min_index = arr.index(min(arr))\n",
    "        min_element = arr.pop(min_index)\n",
    "\n",
    "       \n",
    "        if not sorted_list:\n",
    "            sorted_list.append(min_element)\n",
    "        else:\n",
    "            for i in range(len(sorted_list)):\n",
    "                if min_element < sorted_list[i]:\n",
    "                    sorted_list.insert(i, min_element)\n",
    "                    break\n",
    "            else:\n",
    "                sorted_list.append(min_element)\n",
    "\n",
    "    return sorted_list\n",
    "\n",
    "\n",
    "unsorted_list = [64, 25, 12, 22, 11]\n",
    "\n",
    "\n",
    "sorted_list = selection_sort(unsorted_list)\n",
    "\n",
    "\n",
    "print(\"Sorted list:\", sorted_list)"
   ]
  },
  {
   "cell_type": "markdown",
   "id": "2ebde8be",
   "metadata": {},
   "source": [
    "# 4 write a python program for sorting a list of elements using insertion sort algorithm"
   ]
  },
  {
   "cell_type": "code",
   "execution_count": null,
   "id": "e6b94c31",
   "metadata": {},
   "outputs": [],
   "source": [
    "def insertion_sort(input_list):\n",
    "    sorted_list = []\n",
    "    for unsorted_element in input_list:\n",
    "        if not sorted_list:\n",
    "            sorted_list.append(unsorted_element)\n",
    "        else:\n",
    "            for i in range(len(sorted_list)):\n",
    "                if unsorted_element < sorted_list[i]:\n",
    "                    sorted_list.insert(i, unsorted_element)\n",
    "                    break\n",
    "                elif i == len(sorted_list) - 1:\n",
    "                    sorted_list.append(unsorted_element)\n",
    "    \n",
    "    return sorted_list\n",
    "\n",
    "\n",
    "input_list = [9, 16, 32, 5, 4, 8]\n",
    "sorted_list = insertion_sort(input_list)\n",
    "print(\"Sorted List:\", sorted_list)"
   ]
  },
  {
   "cell_type": "code",
   "execution_count": null,
   "id": "61f745e5",
   "metadata": {},
   "outputs": [],
   "source": []
  },
  {
   "cell_type": "markdown",
   "id": "6720766a",
   "metadata": {},
   "source": [
    "# 5 write a python program that performs mege sort on alist of numbers"
   ]
  },
  {
   "cell_type": "code",
   "execution_count": 5,
   "id": "b0bb73fb",
   "metadata": {},
   "outputs": [
    {
     "name": "stdout",
     "output_type": "stream",
     "text": [
      "Sorted list: [1, 18, 35, 49, 53, 66, 75]\n"
     ]
    }
   ],
   "source": [
    "def merge_sort(arr):\n",
    "    if len(arr) <= 1:\n",
    "        return arr\n",
    "\n",
    "    mid = len(arr) // 2\n",
    "    left_half = arr[:mid]\n",
    "    right_half = arr[mid:]\n",
    "\n",
    "    left_half = merge_sort(left_half)\n",
    "    right_half = merge_sort(right_half)\n",
    "\n",
    "    sorted_arr = merge(left_half, right_half)\n",
    "\n",
    "    return sorted_arr\n",
    "\n",
    "def merge(left, right):\n",
    "    result = []\n",
    "    i = j = 0\n",
    "\n",
    "    while i < len(left) and j < len(right):\n",
    "        if left[i] < right[j]:\n",
    "            result.append(left[i])\n",
    "            i += 1\n",
    "        else:\n",
    "            result.append(right[j])\n",
    "            j += 1\n",
    "\n",
    "    result.extend(left[i:])\n",
    "    result.extend(right[j:])\n",
    "    \n",
    "    return result\n",
    "\n",
    "input_list = [66, 75, 35, 53, 49, 18, 1]\n",
    "\n",
    "sl = merge_sort(input_list)\n",
    "\n",
    "print(\"Sorted list:\", sl) \n"
   ]
  },
  {
   "cell_type": "code",
   "execution_count": null,
   "id": "d3b2a566",
   "metadata": {},
   "outputs": [],
   "source": []
  },
  {
   "cell_type": "markdown",
   "id": "820a61bd",
   "metadata": {},
   "source": [
    "# 6 write a python script to perform the following operations on a singly linked list"
   ]
  },
  {
   "cell_type": "code",
   "execution_count": 13,
   "id": "cfcc7e93",
   "metadata": {},
   "outputs": [
    {
     "name": "stdout",
     "output_type": "stream",
     "text": [
      "Original List: [7, 9, 1, 8, 6]\n",
      "Smallest Element: 1\n",
      "List After Insertions: [2, 5, 7, 9, 1, 8, 6]\n"
     ]
    }
   ],
   "source": [
    "class Node:\n",
    "    def __init__(self, data):\n",
    "        self.data = data\n",
    "        self.next = None\n",
    "\n",
    "class LinkedList:\n",
    "    def __init__(self):\n",
    "        self.head = None\n",
    "\n",
    "    def append(self, data):\n",
    "        new_node = Node(data)\n",
    "        if not self.head:\n",
    "            self.head = new_node\n",
    "            return\n",
    "        current = self.head\n",
    "        while current.next:\n",
    "            current = current.next\n",
    "        current.next = new_node\n",
    "\n",
    "    def find_smallest(self):\n",
    "        if not self.head:\n",
    "            return None\n",
    "        smallest = self.head.data\n",
    "        current = self.head.next\n",
    "        while current:\n",
    "            if current.data < smallest:\n",
    "                smallest = current.data\n",
    "            current = current.next\n",
    "        return smallest\n",
    "\n",
    "    def insert_unique(self, data):\n",
    "        if not self.head:\n",
    "            self.head = Node(data)\n",
    "            return\n",
    "        current = self.head\n",
    "        while current:\n",
    "            if current.data == data:\n",
    "                return  \n",
    "            if current.next is None:\n",
    "                current.next = Node(data)\n",
    "                return\n",
    "            current = current.next\n",
    "\n",
    "    def display_reverse(self):\n",
    "        if not self.head:\n",
    "            return []\n",
    "        values = []\n",
    "        current = self.head\n",
    "        while current:\n",
    "            values.append(current.data)\n",
    "            current = current.next\n",
    "        return values[::-1]\n",
    "\n",
    "\n",
    "linked_list = LinkedList()\n",
    "linked_list.append(6)\n",
    "linked_list.append(8)\n",
    "linked_list.append(1)\n",
    "linked_list.append(9)\n",
    "linked_list.append(7)\n",
    "\n",
    "print(\"Original List:\", linked_list.display_reverse())\n",
    "\n",
    "smallest_element = linked_list.find_smallest()\n",
    "print(\"Smallest Element:\", smallest_element)\n",
    "\n",
    "linked_list.insert_unique(5)\n",
    "linked_list.insert_unique(2)  \n",
    "\n",
    "print(\"List After Insertions:\", linked_list.display_reverse())"
   ]
  },
  {
   "cell_type": "code",
   "execution_count": null,
   "id": "35e02c7f",
   "metadata": {},
   "outputs": [],
   "source": []
  },
  {
   "cell_type": "markdown",
   "id": "74752d99",
   "metadata": {},
   "source": [
    "# 7 write apython program to implement various operations for stack ADT"
   ]
  },
  {
   "cell_type": "code",
   "execution_count": 17,
   "id": "e5fde681",
   "metadata": {},
   "outputs": [
    {
     "name": "stdout",
     "output_type": "stream",
     "text": [
      "Stack Contents:\n",
      "40\n",
      "85\n",
      "20\n",
      "15\n",
      "Stack Contents:\n",
      "85\n",
      "20\n",
      "15\n"
     ]
    }
   ],
   "source": [
    "class Stack:\n",
    "    def __init__(self):\n",
    "        self.stack = []\n",
    "\n",
    "    def push(self, item):\n",
    "        self.stack.append(item)\n",
    "\n",
    "    def pop(self):\n",
    "        if not self.is_empty():\n",
    "            return self.stack.pop()\n",
    "        else:\n",
    "            raise Exception(\"Stack is empty - nothing to pop\")\n",
    "\n",
    "    def is_empty(self):\n",
    "        return len(self.stack) == 0\n",
    "\n",
    "    def display(self):\n",
    "        if not self.is_empty():\n",
    "            print(\"Stack Contents:\")\n",
    "            for i in self.stack[::-1]:\n",
    "                print(i)\n",
    "        else:\n",
    "            print(\"Stack is empty\")\n",
    "\n",
    "\n",
    "s = Stack()\n",
    "s.push(15)\n",
    "s.push(20)\n",
    "s.push(85)\n",
    "s.push(40)\n",
    "\n",
    "\n",
    "s.display()\n",
    "s.pop()\n",
    "\n",
    "s.display()"
   ]
  },
  {
   "cell_type": "code",
   "execution_count": null,
   "id": "2729f303",
   "metadata": {},
   "outputs": [],
   "source": []
  },
  {
   "cell_type": "markdown",
   "id": "a0439de8",
   "metadata": {},
   "source": [
    "# 8 write a python script to implement the various operations for queue ADT"
   ]
  },
  {
   "cell_type": "code",
   "execution_count": 16,
   "id": "38f2f31f",
   "metadata": {},
   "outputs": [
    {
     "name": "stdout",
     "output_type": "stream",
     "text": [
      "\n",
      " Queue contents: \n",
      "22 14 32 15 33 \n",
      " Queue contents: \n",
      "32 15 33 "
     ]
    }
   ],
   "source": [
    "class Queue:\n",
    "    \n",
    "    def __init__(self):\n",
    "        self.__queue=[]\n",
    "        \n",
    "    def is_empty(self):\n",
    "        if len(self.__queue)==0:\n",
    "            return True\n",
    "        else:\n",
    "            return False\n",
    "        \n",
    "    def size(self):\n",
    "        return len(self.__queue)\n",
    "        \n",
    "    def insert(self,item):\n",
    "        self.__queue.append(item)\n",
    "        \n",
    "    def delete(self):\n",
    "        if len(self.__queue)==0:\n",
    "            raise Exception('Queue is empty!!- no need to call pop punction ')\n",
    "            \n",
    "        else:\n",
    "            return self.__queue.pop(0)\n",
    "    \n",
    "    def display(self):\n",
    "        if not self.is_empty():\n",
    "            print('\\n Queue contents: ')\n",
    "            for i in self.__queue:\n",
    "                print(i, end=\" \")\n",
    "        \n",
    "        \n",
    "        \n",
    "    def peek(self):\n",
    "        print(self.__queue)\n",
    "        if (self.is_empty()):\n",
    "            raise Exception('Queue is empty')\n",
    "        else:\n",
    "            return self.__queue[0]\n",
    "q=Queue() \n",
    "\n",
    "\n",
    "q.insert(22)\n",
    "q.insert(14)\n",
    "q.insert(32)\n",
    "q.insert(15)\n",
    "q.insert(33)\n",
    "q.display()\n",
    "\n",
    "q.delete()\n",
    "q.delete()\n",
    "\n",
    "q.display()"
   ]
  },
  {
   "cell_type": "code",
   "execution_count": null,
   "id": "76bdc292",
   "metadata": {},
   "outputs": [],
   "source": []
  },
  {
   "cell_type": "markdown",
   "id": "8bccb348",
   "metadata": {},
   "source": [
    "# 9 Write a python program to convert the following infix expression to its postfix from using push and pop operations of a stack"
   ]
  },
  {
   "cell_type": "code",
   "execution_count": null,
   "id": "01ff205a",
   "metadata": {},
   "outputs": [],
   "source": [
    "class Stack:\n",
    "    def _init_(self):\n",
    "        self.items = []\n",
    "\n",
    "    def push(self, item):\n",
    "        self.items.append(item)\n",
    "\n",
    "    def pop(self):\n",
    "        if not self.is_empty():\n",
    "            return self.items.pop()\n",
    "        else:\n",
    "            raise Exception('Stack is empty - cannot pop')\n",
    "\n",
    "    def is_empty(self):\n",
    "        return len(self.items) == 0\n",
    "\n",
    "    def peek(self):\n",
    "        if not self.is_empty():\n",
    "            return self.items[-1]\n",
    "        else:\n",
    "            return None\n",
    "\n",
    "def infix_to_postfix(expression):\n",
    "    precedence = {'+': 1, '-': 1, '*': 2, '/': 2, '^': 3}\n",
    "\n",
    "    stack = Stack()\n",
    "    postfix = []\n",
    "\n",
    "    for char in expression:\n",
    "        if char.isalnum():\n",
    "            postfix.append(char)\n",
    "        elif char == '(':\n",
    "            stack.push(char)\n",
    "        elif char == ')':\n",
    "            while not stack.is_empty() and stack.peek() != '(':\n",
    "                postfix.append(stack.pop())\n",
    "            stack.pop()  # Pop the left parenthesis\n",
    "        else:\n",
    "            while (not stack.is_empty() and\n",
    "                   stack.peek() != '(' and\n",
    "                   precedence.get(char, 0) <= precedence.get(stack.peek(), 0)):\n",
    "                postfix.append(stack.pop())\n",
    "            stack.push(char)\n",
    "\n",
    "    while not stack.is_empty():\n",
    "        postfix.append(stack.pop())\n",
    "\n",
    "    return ''.join(postfix)\n",
    "\n",
    "# Test cases\n",
    "expression_a = \"A/B^C+D*E-F*G\"\n",
    "expression_b = \"(B^2-4*A*C)^(1/2) (100)\"\n",
    "\n",
    "postfix_a = infix_to_postfix(expression_a)\n",
    "postfix_b = infix_to_postfix(expression_b)\n",
    "\n",
    "print(\"Postfix expression (a):\", postfix_a)\n",
    "print(\"Postfix expression (b):\", postfix_b)"
   ]
  }
 ],
 "metadata": {
  "kernelspec": {
   "display_name": "Python 3 (ipykernel)",
   "language": "python",
   "name": "python3"
  },
  "language_info": {
   "codemirror_mode": {
    "name": "ipython",
    "version": 3
   },
   "file_extension": ".py",
   "mimetype": "text/x-python",
   "name": "python",
   "nbconvert_exporter": "python",
   "pygments_lexer": "ipython3",
   "version": "3.11.4"
  }
 },
 "nbformat": 4,
 "nbformat_minor": 5
}
