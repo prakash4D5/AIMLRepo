{
 "cells": [
  {
   "cell_type": "markdown",
   "id": "1371a929",
   "metadata": {},
   "source": [
    "# file handling"
   ]
  },
  {
   "cell_type": "markdown",
   "id": "32b773a4",
   "metadata": {},
   "source": [
    "# 1 write a python functionthat copies a file reading and writing upto 50 char at a time"
   ]
  },
  {
   "cell_type": "code",
   "execution_count": 36,
   "id": "b9c93833",
   "metadata": {},
   "outputs": [
    {
     "name": "stdout",
     "output_type": "stream",
     "text": [
      "Born and raised in New Delhi, Kohli trained at the\n"
     ]
    }
   ],
   "source": [
    "def copy_f():\n",
    "    with open('virat_vk.txt','r') as first:\n",
    "        dc=first.read(50)\n",
    "    with open('bio_kohili.txt','w') as second:\n",
    "        second.write(dc)\n",
    "    \n",
    "    with open('bio_kohili.txt','r') as second:\n",
    "        result=second.read()\n",
    "        print(result)\n",
    "\n",
    "copy_f()  \n",
    "        \n"
   ]
  },
  {
   "cell_type": "markdown",
   "id": "8107a28e",
   "metadata": {},
   "source": [
    "# 2 print all numbrs present in the text file and print the number of blank spaces in that file"
   ]
  },
  {
   "cell_type": "code",
   "execution_count": 59,
   "id": "c91ed7f3",
   "metadata": {},
   "outputs": [
    {
     "name": "stdout",
     "output_type": "stream",
     "text": [
      "1 5 2 0 0 8 2 0 1 1 2 0 1 3 2 0 1 4 2 0 2 0 1 8 4 2 0 1 9 2 0 0 0 0 2 0 2 1 2 0 2 0 2 0 2 2 2 0 1 2 2 0 1 7 2 0 1 8 5 2 0 1 8 2 0 1 6 2 0 1 8 2 0 1 3 2 0 1 7 2 0 1 8 2 0 1 6 2 0 1 8 1 0 0 2 0 2 0 6 6 1 0 0 2 0 2 0 2 6 ¹ 1 6 5 2 1 2 0 2 2 The total number of spaces are 408\n"
     ]
    }
   ],
   "source": [
    "def blank_spaces():\n",
    "    f2=open('virat_vk.txt', 'r')\n",
    "    c=f2.read()\n",
    "    count=0\n",
    "    for i in c:\n",
    "        if i.isnumeric():\n",
    "            print(i,end=\" \")\n",
    "            \n",
    "        if i.isspace():\n",
    "            count+=1\n",
    "            \n",
    "    print(\"The total number of spaces are {}\".format(count))\n",
    "\n",
    "blank_spaces()\n"
   ]
  },
  {
   "cell_type": "markdown",
   "id": "2bd0403b",
   "metadata": {},
   "source": [
    "# 3 Write a function called sed that takes as arguments a pattern string, a replacement string, and two filenames; it should read the first file and write the contents into the second file (creating it if necessary). If the pattern string appears anywhere in the file, it should be replaced with the replacement string. If an error occurs while opening, reading, writing, or closing files, your program should catch the exception, print an error message, and exit"
   ]
  },
  {
   "cell_type": "code",
   "execution_count": 50,
   "id": "fd1787c8",
   "metadata": {},
   "outputs": [
    {
     "name": "stdout",
     "output_type": "stream",
     "text": [
      "File 'virat_vk.txt' processed successfully. Output written to 'bio_kohili.txt'.\n"
     ]
    }
   ],
   "source": [
    "def sed(pattern, replacement, input_file, output_file):\n",
    "    try:\n",
    "        # Open the input file for reading\n",
    "        with open(input_file, 'r') as infile:\n",
    "            # Read the contents of the input file\n",
    "            file_contents = infile.read()\n",
    "\n",
    "        # Replace the pattern with the replacement string\n",
    "        modified_contents = file_contents.replace(pattern, replacement)\n",
    "\n",
    "        # Open the output file for writing\n",
    "        with open(output_file, 'w') as outfile:\n",
    "            # Write the modified contents to the output file\n",
    "            outfile.write(modified_contents)\n",
    "\n",
    "    except FileNotFoundError:\n",
    "        print(f\"Error: One or both of the specified files not found.\")\n",
    "    except Exception as e:\n",
    "        print(f\"An error occurred: {str(e)}\")\n",
    "    else:\n",
    "        print(f\"File '{input_file}' processed successfully. Output written to '{output_file}'.\")\n",
    "\n",
    "sed(\"old_text\", \"new_text\", \"virat_vk.txt\", \"bio_kohili.txt\")\n"
   ]
  },
  {
   "cell_type": "code",
   "execution_count": 54,
   "id": "f0bc2300",
   "metadata": {},
   "outputs": [
    {
     "data": {
      "text/plain": [
       "\"Born and raised in New Delhi, Kohli trained at the West Delhi Cricket Academy and started his youth career with the Delhi Under-15 team. He made his international debut in 2008 and quickly became a key player in the ODI team and later made his Test debut in 2011. In 2013, Kohli reached the number one spot in the ICC rankings for ODI batsmen for the first time. During 2014 T20 World Cup, he set a record for the most runs scored in the tournament. In 2018, he achieved yet another milestone, becoming the world's top-ranked Test batsman, making him the only Indian cricketer to hold the number one spot in all three formats of 4 the game. His form continued in 2019, when he became the first player to score 20,000 international runs in a single decade. In 2021, Kohli made the decision to step down as the captain of the Indian national team for T20Is, following the T20 World Cup and in early 2022 he stepped down as the captain of the Test team as well.\\n\\nHe has received many accolades for his performances on the cricket field. He was recognized as the ICC ODI Player of the Year in 2012 and has won the Sir Garfield Sobers Trophy, given to the ICC Cricketer of the Year, on two occasions, in 2017 and 2018 respectively. Subsequently, Kohli also won ICC Test Player of the Year and ICC ODI Player of 5 the Year awards in 2018, becoming the first player to win both awards in the same year. Additionally, he was named the Wisden Leading Cricketer in the World for three consecutive years, from 2016 to 2018. At the national level, Kohli was honoured with the Arjuna Award in 2013, the Padma Shri under the sports category in 2017 and the Khel Ratna award, India's highest sporting honour, in 2018.\\n\\nIn 2016, he was ranked as one of the world's most famous athletes by ESPN, and one of the most valuable athlete brands by Forbes. In 2018, Time magazine included him on its list of the 100 most influential people in the world. In 2020, he was ranked 66th in Forbes list of the top 100 highest-paid athletes in the world for the year 2020 with estimated earnings of over $26 million. Kohli has been deemed one of the most commercially viable cricketers, with estimated earnings of â‚¹165 crore (US$21 million) in the year 2022.\""
      ]
     },
     "execution_count": 54,
     "metadata": {},
     "output_type": "execute_result"
    }
   ],
   "source": [
    "f=open(\"bio_kohili.txt\",'r')\n",
    "f.read()"
   ]
  },
  {
   "cell_type": "markdown",
   "id": "ada66296",
   "metadata": {},
   "source": [
    "# 4 Log File Analysis: You have a log file containing records of user activities on a website. Each line in the file represents a log entry with details like timestamp, user ID, and action performed. Your task is to analyze this log file.\n",
    "\n",
    "a. Write Python code to read the log file and extract specific information, such as the number of unique users or the most common action.\n",
    "\n",
    "b. How would you handle large log files efficiently without loading the entire file into memory?"
   ]
  },
  {
   "cell_type": "code",
   "execution_count": null,
   "id": "380e536f",
   "metadata": {},
   "outputs": [],
   "source": []
  },
  {
   "cell_type": "markdown",
   "id": "1a3402f9",
   "metadata": {},
   "source": [
    "# 5 text File Search and Replace: You have a text file with a large amount of text, and you want to search for specific words or phrases and replace them with new content.\n",
    "\n",
    "a. Write Python code to search for and replace text within a text file. \n",
    "b. How would you handle cases where you need to perform multiple replacements in a single pass?"
   ]
  },
  {
   "cell_type": "code",
   "execution_count": 91,
   "id": "14dad11d",
   "metadata": {
    "scrolled": true
   },
   "outputs": [
    {
     "name": "stdout",
     "output_type": "stream",
     "text": [
      "Replacement complete. Check bio_kohili.txt for the updated content\n",
      "inborn and raised in New Delhi, Kohli trained at the West Delhi Cricket Academy and started his youth career with the Delhi Under-15 team. He made his international debut in 2008 and quickly became a key player in the ODI team and later made his Test debut in 2011. In 2013, Kohli reached the number one spot in the ICC rankings for ODI batsmen for the first time. During 2014 T20 World Cup, he set a record for the most runs scored in the tournament. In 2018, he achieved yet another milestone, becoming the world's top-ranked Test batsman, making him the only Indian cricketer to hold the number one spot in all three formats of 4 the game. His form continued in 2019, when he became the first player to score 20,000 international runs in a single decade. In 2021, Kohli made the decision to step down as the captain of the Indian national team for T20Is, following the T20 World Cup and in early 2022 he stepped down as the captain of the Test team as well.\n",
      "\n"
     ]
    }
   ],
   "source": [
    "def search_Text(input1, output, search_text, replace_text):\n",
    "    \n",
    "        with open(input1, 'r') as infile, open(output, 'w') as outfile:\n",
    "            for line in infile:\n",
    "                # Replace occurrences of search_text with replace_text in each line\n",
    "                modified_line = line.replace(search_text, replace_text)\n",
    "                outfile.write(modified_line)\n",
    "        print(\"Replacement complete. Check {} for the updated content\".format(output))\n",
    "\n",
    "search_Text(\"virat_vk.txt\", \"bio_kohili.txt\", 'Born', 'inborn')\n",
    "f=open(\"bio_kohili.txt\",'r')\n",
    "print(f.readline())"
   ]
  },
  {
   "cell_type": "code",
   "execution_count": 110,
   "id": "409a1627",
   "metadata": {},
   "outputs": [
    {
     "name": "stdout",
     "output_type": "stream",
     "text": [
      "checkout the file was replaced 2nd file\n"
     ]
    }
   ],
   "source": [
    "def fun_replace(f_txt,l_txt,r_text):\n",
    "    f=open(f_txt,'r')\n",
    "    l=open(l_txt,'w')\n",
    "    \n",
    "    for i in f:\n",
    "        for search,replace in r_text.items():\n",
    "            i=i.replace(search,replace)\n",
    "            \n",
    "        l.write(i)\n",
    "        \n",
    "    print(\"checkout the file was replaced 2nd file\")\n",
    "    \n",
    "        \n",
    "r_text={'prakash':'surya','22':'23','born':'inborn'}\n",
    "\n",
    "fun_replace(\"dict.txt\",\"dict2.txt\",r_text)            \n",
    "        \n",
    "        "
   ]
  },
  {
   "cell_type": "code",
   "execution_count": 114,
   "id": "9064e8fd",
   "metadata": {},
   "outputs": [
    {
     "name": "stdout",
     "output_type": "stream",
     "text": [
      "my name is surya and my age is 23 and inborn in narsapuram\n"
     ]
    }
   ],
   "source": [
    "f=open(\"dict2.txt\",'r')\n",
    "for i in f:\n",
    "    print(i)"
   ]
  },
  {
   "cell_type": "code",
   "execution_count": null,
   "id": "39d52bfe",
   "metadata": {},
   "outputs": [],
   "source": []
  },
  {
   "cell_type": "markdown",
   "id": "8335118d",
   "metadata": {},
   "source": [
    "# 6 Write a Python script that concatenates the contents of multiple text files into a single output file. Allow the user to specify the input files and the output file."
   ]
  },
  {
   "cell_type": "code",
   "execution_count": 121,
   "id": "0ac6428a",
   "metadata": {
    "scrolled": true
   },
   "outputs": [
    {
     "name": "stdout",
     "output_type": "stream",
     "text": [
      "Enter the input files hear....virat_vk.txt\n",
      "Enter the input files hear....virat_king.txt\n",
      "Enter the input files hear....final_king.txt\n",
      "Enter the name of the output text file: output.txt\n",
      "\n",
      "\n"
     ]
    }
   ],
   "source": [
    "def concatenate_files(input_files, output_file):\n",
    "    with open(output_file, 'w') as output:\n",
    "        for input_file in input_files:\n",
    "            with open(input_file, 'r') as file:\n",
    "                output.write(file.read())\n",
    "                print(\"\")\n",
    " \n",
    "\n",
    "def main():\n",
    "    input_files = []\n",
    "    for i in range(3):\n",
    "        user_input=input(\"Enter the input files hear....\")\n",
    "        input_files.append(user_input)\n",
    "\n",
    "    if not input_files:\n",
    "        print(\"No input files specified. Exiting.\")\n",
    "        return\n",
    "\n",
    "    output_file = input(\"Enter the name of the output text file: \")\n",
    "\n",
    "    input_files.pop()\n",
    "\n",
    "    concatenate_files(input_files, output_file)\n",
    "\n",
    "\n",
    "main()"
   ]
  },
  {
   "cell_type": "code",
   "execution_count": 123,
   "id": "50bc76cc",
   "metadata": {},
   "outputs": [
    {
     "name": "stdout",
     "output_type": "stream",
     "text": [
      "Born and raised in New Delhi, Kohli trained at the West Delhi Cricket Academy and started his youth career with the Delhi Under-15 team. He made his international debut in 2008 and quickly became a key player in the ODI team and later made his Test debut in 2011. In 2013, Kohli reached the number one spot in the ICC rankings for ODI batsmen for the first time. During 2014 T20 World Cup, he set a record for the most runs scored in the tournament. In 2018, he achieved yet another milestone, becoming the world's top-ranked Test batsman, making him the only Indian cricketer to hold the number one spot in all three formats of 4 the game. His form continued in 2019, when he became the first player to score 20,000 international runs in a single decade. In 2021, Kohli made the decision to step down as the captain of the Indian national team for T20Is, following the T20 World Cup and in early 2022 he stepped down as the captain of the Test team as well.\n",
      "\n",
      "He has received many accolades for his performances on the cricket field. He was recognized as the ICC ODI Player of the Year in 2012 and has won the Sir Garfield Sobers Trophy, given to the ICC Cricketer of the Year, on two occasions, in 2017 and 2018 respectively. Subsequently, Kohli also won ICC Test Player of the Year and ICC ODI Player of 5 the Year awards in 2018, becoming the first player to win both awards in the same year. Additionally, he was named the Wisden Leading Cricketer in the World for three consecutive years, from 2016 to 2018. At the national level, Kohli was honoured with the Arjuna Award in 2013, the Padma Shri under the sports category in 2017 and the Khel Ratna award, India's highest sporting honour, in 2018.\n",
      "\n",
      "In 2016, he was ranked as one of the world's most famous athletes by ESPN, and one of the most valuable athlete brands by Forbes. In 2018, Time magazine included him on its list of the 100 most influential people in the world. In 2020, he was ranked 66th in Forbes list of the top 100 highest-paid athletes in the world for the year 2020 with estimated earnings of over $26 million. Kohli has been deemed one of the most commercially viable cricketers, with estimated earnings of â‚¹165 crore (US$21 million) in the year 2022.He has received many accolades for his performances on the cricket field. He was recognized as the ICC ODI Player of the Year in 2012 and has won the Sir Garfield Sobers Trophy, given to the ICC Cricketer of the Year, on two occasions, in 2017 and 2018 respectively. Subsequently, Kohli also won ICC Test Player of the Year and ICC ODI Player of 5 the Year awards in 2018, becoming the first player to win both awards in the same year. Additionally, he was named the Wisden Leading Cricketer in the World for three consecutive years, from 2016 to 2018. At the national level, Kohli was honoured with the Arjuna Award in 2013, the Padma Shri under the sports category in 2017 and the Khel Ratna award, India's highest sporting honour, in 2018.\n",
      "Virat Kohli is an Indian international cricketer and the former captain of the Indian national cricket team who plays for Royal Challengers Bangalore in the IPL and Delhi in domestic cricket.\n",
      "Nicknamed \"The King\", due to his dominant style of play and popularity, Kohli holds numerous records in his career across all formats. In 2020, the International Cricket Council named him the male cricketer of the decade.\n"
     ]
    }
   ],
   "source": [
    "f=open(\"output.txt\",'r')\n",
    "print(f.read())"
   ]
  },
  {
   "cell_type": "markdown",
   "id": "d553b348",
   "metadata": {},
   "source": [
    "# 7  You are given a text file named input.txt containing a list of words, one word per line. Your task is to create a Python program that reads the contents of input.txt, processes the words, and writes the result to an output file named output.txt.\n",
    "\n",
    "a. The program should perform the following operations:\n",
    "\n",
    "i. Read the words from input.txt.\n",
    "\n",
    "ii. For each word in the input file, calculate the length of the word and store it in a dictionary where the word is the key, and the length is the value.\n",
    "\n",
    "iii. Write the word-length dictionary to output.txt in the following"
   ]
  },
  {
   "cell_type": "code",
   "execution_count": 142,
   "id": "f0b231fd",
   "metadata": {},
   "outputs": [
    {
     "name": "stdout",
     "output_type": "stream",
     "text": [
      "Processing completed. Check 'output.txt' for results.\n",
      "Processing completed. Check 'output.txt' for results.\n",
      "Processing completed. Check 'output.txt' for results.\n",
      "Processing completed. Check 'output.txt' for results.\n",
      "Born and raised in New Delhi, Kohli trained at the West Delhi Cricket Academy and started his youth career with the Delhi Under-15 team. He made his international debut in 2008 and quickly became a key player in the ODI team and later made his Test debut in 2011. In 2013, Kohli reached the number one spot in the ICC rankings for ODI batsmen for the first time. During 2014 T20 World Cup, he set a record for the most runs scored in the tournament. In 2018, he achieved yet another milestone, becoming the world's top-ranked Test batsman, making him the only Indian cricketer to hold the number one spot in all three formats of 4 the game. His form continued in 2019, when he became the first player to score 20,000 international runs in a single decade. In 2021, Kohli made the decision to step down as the captain of the Indian national team for T20Is, following the T20 World Cup and in early 2022 he stepped down as the captain of the Test team as well.: 958\n",
      ": 0\n",
      "He has received many accolades for his performances on the cricket field. He was recognized as the ICC ODI Player of the Year in 2012 and has won the Sir Garfield Sobers Trophy, given to the ICC Cricketer of the Year, on two occasions, in 2017 and 2018 respectively. Subsequently, Kohli also won ICC Test Player of the Year and ICC ODI Player of 5 the Year awards in 2018, becoming the first player to win both awards in the same year. Additionally, he was named the Wisden Leading Cricketer in the World for three consecutive years, from 2016 to 2018. At the national level, Kohli was honoured with the Arjuna Award in 2013, the Padma Shri under the sports category in 2017 and the Khel Ratna award, India's highest sporting honour, in 2018.: 742\n",
      "In 2016, he was ranked as one of the world's most famous athletes by ESPN, and one of the most valuable athlete brands by Forbes. In 2018, Time magazine included him on its list of the 100 most influential people in the world. In 2020, he was ranked 66th in Forbes list of the top 100 highest-paid athletes in the world for the year 2020 with estimated earnings of over $26 million. Kohli has been deemed one of the most commercially viable cricketers, with estimated earnings of â‚¹165 crore (US$21 million) in the year 2022.: 526\n",
      "\n"
     ]
    }
   ],
   "source": [
    "# Define the input and output file names\n",
    "input_file_name = 'virat_vk.txt'\n",
    "output_file_name = 'output.txt'\n",
    "\n",
    "with open(input_file_name, 'r') as input_file:\n",
    "    word_length_dict = {}  \n",
    "    for line in input_file:\n",
    "        word = line.strip() \n",
    "        length = len(word)   \n",
    "        word_length_dict[word] = length\n",
    "with open(output_file_name, 'w') as output_file:\n",
    "    for word, length in word_length_dict.items():\n",
    "        output_file.write(f\"{word}: {length}\\n\")\n",
    "        print(\"Processing completed. Check 'output.txt' for results.\")\n",
    "        \n",
    "f=open(\"output.txt\")\n",
    "print(f.read())"
   ]
  },
  {
   "cell_type": "markdown",
   "id": "23256f29",
   "metadata": {},
   "source": [
    "# 8 Assume that you are developing a student gradebook system for a school. The system should allow teachers to input student grades for various subjects, store the data in files, and provide students with the ability to view their grades.\n",
    "\n",
    "Design a Python program that accomplishes the following tasks:\n",
    "\n",
    "i. Teachers should be able to input grades for students in different subjects.\n",
    "\n",
    "ii. Store the student grade data in separate text files for each subject.\n",
    "\n",
    "iii. Students should be able to view their grades for each subject.\n",
    "\n",
    "iv. Implement error handling for file operations, such as file not found or permission issues."
   ]
  },
  {
   "cell_type": "code",
   "execution_count": 139,
   "id": "e856a3fb",
   "metadata": {},
   "outputs": [
    {
     "name": "stdout",
     "output_type": "stream",
     "text": [
      "Gradebook Menu:\n",
      "1. Input Grades\n",
      "2. View Grades\n",
      "3. Exit\n"
     ]
    },
    {
     "ename": "KeyboardInterrupt",
     "evalue": "Interrupted by user",
     "output_type": "error",
     "traceback": [
      "\u001b[1;31m---------------------------------------------------------------------------\u001b[0m",
      "\u001b[1;31mKeyboardInterrupt\u001b[0m                         Traceback (most recent call last)",
      "Cell \u001b[1;32mIn[139], line 27\u001b[0m\n\u001b[0;32m     25\u001b[0m \u001b[38;5;28mprint\u001b[39m(\u001b[38;5;124m\"\u001b[39m\u001b[38;5;124m2. View Grades\u001b[39m\u001b[38;5;124m\"\u001b[39m)\n\u001b[0;32m     26\u001b[0m \u001b[38;5;28mprint\u001b[39m(\u001b[38;5;124m\"\u001b[39m\u001b[38;5;124m3. Exit\u001b[39m\u001b[38;5;124m\"\u001b[39m)\n\u001b[1;32m---> 27\u001b[0m choice \u001b[38;5;241m=\u001b[39m \u001b[38;5;28minput\u001b[39m(\u001b[38;5;124m\"\u001b[39m\u001b[38;5;124mEnter your choice (1/2/3): \u001b[39m\u001b[38;5;124m\"\u001b[39m)\n\u001b[0;32m     29\u001b[0m \u001b[38;5;28;01mif\u001b[39;00m choice \u001b[38;5;241m==\u001b[39m \u001b[38;5;124m\"\u001b[39m\u001b[38;5;124m1\u001b[39m\u001b[38;5;124m\"\u001b[39m:\n\u001b[0;32m     30\u001b[0m     student_id \u001b[38;5;241m=\u001b[39m \u001b[38;5;28minput\u001b[39m(\u001b[38;5;124m\"\u001b[39m\u001b[38;5;124mEnter Student ID: \u001b[39m\u001b[38;5;124m\"\u001b[39m)\n",
      "File \u001b[1;32m~\\anaconda3\\Lib\\site-packages\\ipykernel\\kernelbase.py:1175\u001b[0m, in \u001b[0;36mKernel.raw_input\u001b[1;34m(self, prompt)\u001b[0m\n\u001b[0;32m   1171\u001b[0m \u001b[38;5;28;01mif\u001b[39;00m \u001b[38;5;129;01mnot\u001b[39;00m \u001b[38;5;28mself\u001b[39m\u001b[38;5;241m.\u001b[39m_allow_stdin:\n\u001b[0;32m   1172\u001b[0m     \u001b[38;5;28;01mraise\u001b[39;00m StdinNotImplementedError(\n\u001b[0;32m   1173\u001b[0m         \u001b[38;5;124m\"\u001b[39m\u001b[38;5;124mraw_input was called, but this frontend does not support input requests.\u001b[39m\u001b[38;5;124m\"\u001b[39m\n\u001b[0;32m   1174\u001b[0m     )\n\u001b[1;32m-> 1175\u001b[0m \u001b[38;5;28;01mreturn\u001b[39;00m \u001b[38;5;28mself\u001b[39m\u001b[38;5;241m.\u001b[39m_input_request(\n\u001b[0;32m   1176\u001b[0m     \u001b[38;5;28mstr\u001b[39m(prompt),\n\u001b[0;32m   1177\u001b[0m     \u001b[38;5;28mself\u001b[39m\u001b[38;5;241m.\u001b[39m_parent_ident[\u001b[38;5;124m\"\u001b[39m\u001b[38;5;124mshell\u001b[39m\u001b[38;5;124m\"\u001b[39m],\n\u001b[0;32m   1178\u001b[0m     \u001b[38;5;28mself\u001b[39m\u001b[38;5;241m.\u001b[39mget_parent(\u001b[38;5;124m\"\u001b[39m\u001b[38;5;124mshell\u001b[39m\u001b[38;5;124m\"\u001b[39m),\n\u001b[0;32m   1179\u001b[0m     password\u001b[38;5;241m=\u001b[39m\u001b[38;5;28;01mFalse\u001b[39;00m,\n\u001b[0;32m   1180\u001b[0m )\n",
      "File \u001b[1;32m~\\anaconda3\\Lib\\site-packages\\ipykernel\\kernelbase.py:1217\u001b[0m, in \u001b[0;36mKernel._input_request\u001b[1;34m(self, prompt, ident, parent, password)\u001b[0m\n\u001b[0;32m   1214\u001b[0m             \u001b[38;5;28;01mbreak\u001b[39;00m\n\u001b[0;32m   1215\u001b[0m \u001b[38;5;28;01mexcept\u001b[39;00m \u001b[38;5;167;01mKeyboardInterrupt\u001b[39;00m:\n\u001b[0;32m   1216\u001b[0m     \u001b[38;5;66;03m# re-raise KeyboardInterrupt, to truncate traceback\u001b[39;00m\n\u001b[1;32m-> 1217\u001b[0m     \u001b[38;5;28;01mraise\u001b[39;00m \u001b[38;5;167;01mKeyboardInterrupt\u001b[39;00m(\u001b[38;5;124m\"\u001b[39m\u001b[38;5;124mInterrupted by user\u001b[39m\u001b[38;5;124m\"\u001b[39m) \u001b[38;5;28;01mfrom\u001b[39;00m \u001b[38;5;28;01mNone\u001b[39;00m\n\u001b[0;32m   1218\u001b[0m \u001b[38;5;28;01mexcept\u001b[39;00m \u001b[38;5;167;01mException\u001b[39;00m:\n\u001b[0;32m   1219\u001b[0m     \u001b[38;5;28mself\u001b[39m\u001b[38;5;241m.\u001b[39mlog\u001b[38;5;241m.\u001b[39mwarning(\u001b[38;5;124m\"\u001b[39m\u001b[38;5;124mInvalid Message:\u001b[39m\u001b[38;5;124m\"\u001b[39m, exc_info\u001b[38;5;241m=\u001b[39m\u001b[38;5;28;01mTrue\u001b[39;00m)\n",
      "\u001b[1;31mKeyboardInterrupt\u001b[0m: Interrupted by user"
     ]
    }
   ],
   "source": [
    "import os\n",
    "\n",
    "\n",
    "def input_grades(student_id, subject, grade):\n",
    "    filename = f\"{subject}_grades.txt\"\n",
    "    with open(filename, 'a') as file:\n",
    "        file.write(f\"{student_id}: {grade}\\n\")\n",
    "\n",
    "def view_grades(student_id, subject):\n",
    "    filename = f\"{subject}_grades.txt\"\n",
    "    with open(filename, 'r') as file:\n",
    "        lines = file.readlines()\n",
    "        student_grades = [line.strip() for line in lines if line.startswith(f\"{student_id}: \")]\n",
    "        if student_grades:\n",
    "            print(f\"Grades for {student_id} in {subject}:\")\n",
    "            for grade in student_grades:\n",
    "                print(grade)\n",
    "        else:\n",
    "            print(f\"No grades found for {student_id} in {subject}.\")\n",
    "\n",
    "\n",
    "while True:\n",
    "    print(\"Gradebook Menu:\")\n",
    "    print(\"1. Input Grades\")\n",
    "    print(\"2. View Grades\")\n",
    "    print(\"3. Exit\")\n",
    "    choice = input(\"Enter your choice (1/2/3): \")\n",
    "\n",
    "    if choice == \"1\":\n",
    "        student_id = input(\"Enter Student ID: \")\n",
    "        subject = input(\"Enter Subject: \")\n",
    "        grade = input(\"Enter Grade: \")\n",
    "        input_grades(student_id, subject, grade)\n",
    "    elif choice == \"2\":\n",
    "        student_id = input(\"Enter Student ID: \")\n",
    "        subject = input(\"Enter Subject: \")\n",
    "        view_grades(student_id, subject)\n",
    "    elif choice == \"3\":\n",
    "        print(\"Exiting.\")\n",
    "    break"
   ]
  },
  {
   "cell_type": "code",
   "execution_count": null,
   "id": "807206b2",
   "metadata": {},
   "outputs": [],
   "source": []
  },
  {
   "cell_type": "markdown",
   "id": "348ea9fe",
   "metadata": {},
   "source": []
  }
 ],
 "metadata": {
  "kernelspec": {
   "display_name": "Python 3 (ipykernel)",
   "language": "python",
   "name": "python3"
  },
  "language_info": {
   "codemirror_mode": {
    "name": "ipython",
    "version": 3
   },
   "file_extension": ".py",
   "mimetype": "text/x-python",
   "name": "python",
   "nbconvert_exporter": "python",
   "pygments_lexer": "ipython3",
   "version": "3.11.4"
  }
 },
 "nbformat": 4,
 "nbformat_minor": 5
}
