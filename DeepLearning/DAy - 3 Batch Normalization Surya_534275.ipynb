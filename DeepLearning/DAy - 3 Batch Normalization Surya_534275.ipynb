{
 "cells": [
  {
   "cell_type": "code",
   "execution_count": 14,
   "id": "4af4ff84",
   "metadata": {},
   "outputs": [],
   "source": [
    "from keras.datasets import mnist\n",
    "from keras.models import Sequential\n",
    "from keras.layers import Dense\n",
    "\n",
    "from tensorflow.keras.layers import BatchNormalization\n",
    "from tensorflow.keras.optimizers import SGD\n",
    "\n",
    "from matplotlib import pyplot\n",
    "import matplotlib.pyplot as plt"
   ]
  },
  {
   "cell_type": "code",
   "execution_count": 2,
   "id": "731204d1",
   "metadata": {},
   "outputs": [],
   "source": [
    "batch_size=128\n",
    "num_classes=10\n",
    "epochs=20"
   ]
  },
  {
   "cell_type": "code",
   "execution_count": 15,
   "id": "116f4d4f",
   "metadata": {},
   "outputs": [
    {
     "name": "stdout",
     "output_type": "stream",
     "text": [
      "Shape-x:\t (60000, 28, 28)\n",
      "Shape-y:\t (60000,)\n"
     ]
    }
   ],
   "source": [
    "(xtrain,ytrain),(xtest,ytest)=mnist.load_data()\n",
    "print('Shape-x:\\t',xtrain.shape)\n",
    "print('Shape-y:\\t',ytrain.shape)"
   ]
  },
  {
   "cell_type": "code",
   "execution_count": 16,
   "id": "35367c43",
   "metadata": {},
   "outputs": [
    {
     "name": "stdout",
     "output_type": "stream",
     "text": [
      "Shape-x-train:\t (60000, 784)\n",
      "Shape-x-Test:\t (10000, 784)\n"
     ]
    }
   ],
   "source": [
    "xtrain=xtrain.reshape(60000,784)\n",
    "xtest=xtest.reshape(10000,784)\n",
    "print('Shape-x-train:\\t',xtrain.shape)\n",
    "print('Shape-x-Test:\\t',xtest.shape)"
   ]
  },
  {
   "cell_type": "code",
   "execution_count": null,
   "id": "ec2f96df",
   "metadata": {},
   "outputs": [],
   "source": []
  },
  {
   "cell_type": "code",
   "execution_count": 17,
   "id": "7d413551",
   "metadata": {},
   "outputs": [],
   "source": [
    "xtrain=xtrain.astype('float32')\n",
    "xtest=xtest.astype('float32')"
   ]
  },
  {
   "cell_type": "code",
   "execution_count": 18,
   "id": "0bd4afa2",
   "metadata": {},
   "outputs": [],
   "source": [
    "xtrain=xtrain/255.\n",
    "xtest=xtest/255."
   ]
  },
  {
   "cell_type": "code",
   "execution_count": 19,
   "id": "c9d11d73",
   "metadata": {},
   "outputs": [],
   "source": [
    "import keras\n",
    "ytrain=keras.utils.to_categorical(ytrain,num_classes)\n",
    "ytest=keras.utils.to_categorical(ytest,num_classes)"
   ]
  },
  {
   "cell_type": "code",
   "execution_count": 20,
   "id": "0c91c3b8",
   "metadata": {},
   "outputs": [],
   "source": [
    "model=Sequential()\n",
    "model.add(Dense(512,activation='relu',input_shape=(784,)))\n",
    "model.add(Dense(512,activation='relu'))\n",
    "model.add(BatchNormalization())\n",
    "model.add(Dense(num_classes,activation='softmax'))\n",
    "\n",
    "optm=SGD(learning_rate=0.01,momentum=0.9)\n",
    "\n",
    "model.compile(loss='binary_crossentropy',optimizer=optm,metrics=['accuracy'])"
   ]
  },
  {
   "cell_type": "code",
   "execution_count": null,
   "id": "22cbf517",
   "metadata": {},
   "outputs": [],
   "source": []
  },
  {
   "cell_type": "code",
   "execution_count": 21,
   "id": "90545eea",
   "metadata": {},
   "outputs": [
    {
     "name": "stdout",
     "output_type": "stream",
     "text": [
      "Model: \"sequential_1\"\n",
      "_________________________________________________________________\n",
      " Layer (type)                Output Shape              Param #   \n",
      "=================================================================\n",
      " dense_3 (Dense)             (None, 512)               401920    \n",
      "                                                                 \n",
      " dense_4 (Dense)             (None, 512)               262656    \n",
      "                                                                 \n",
      " batch_normalization_1 (Bat  (None, 512)               2048      \n",
      " chNormalization)                                                \n",
      "                                                                 \n",
      " dense_5 (Dense)             (None, 10)                5130      \n",
      "                                                                 \n",
      "=================================================================\n",
      "Total params: 671754 (2.56 MB)\n",
      "Trainable params: 670730 (2.56 MB)\n",
      "Non-trainable params: 1024 (4.00 KB)\n",
      "_________________________________________________________________\n"
     ]
    }
   ],
   "source": [
    "model.summary()"
   ]
  },
  {
   "cell_type": "code",
   "execution_count": 24,
   "id": "1c28af28",
   "metadata": {},
   "outputs": [
    {
     "name": "stdout",
     "output_type": "stream",
     "text": [
      "Epoch 1/20\n",
      "1875/1875 [==============================] - 30s 16ms/step - loss: 0.0291 - accuracy: 0.9630 - val_loss: 0.0217 - val_accuracy: 0.9716\n",
      "Epoch 2/20\n",
      "1875/1875 [==============================] - 29s 16ms/step - loss: 0.0204 - accuracy: 0.9750 - val_loss: 0.0183 - val_accuracy: 0.9753\n",
      "Epoch 3/20\n",
      "1875/1875 [==============================] - 30s 16ms/step - loss: 0.0159 - accuracy: 0.9815 - val_loss: 0.0164 - val_accuracy: 0.9780\n",
      "Epoch 4/20\n",
      "1875/1875 [==============================] - 29s 16ms/step - loss: 0.0128 - accuracy: 0.9859 - val_loss: 0.0147 - val_accuracy: 0.9805\n",
      "Epoch 5/20\n",
      "1875/1875 [==============================] - 30s 16ms/step - loss: 0.0102 - accuracy: 0.9894 - val_loss: 0.0138 - val_accuracy: 0.9804\n",
      "Epoch 6/20\n",
      "1875/1875 [==============================] - 30s 16ms/step - loss: 0.0084 - accuracy: 0.9918 - val_loss: 0.0139 - val_accuracy: 0.9796\n",
      "Epoch 7/20\n",
      "1875/1875 [==============================] - 30s 16ms/step - loss: 0.0069 - accuracy: 0.9941 - val_loss: 0.0139 - val_accuracy: 0.9801\n",
      "Epoch 8/20\n",
      "1875/1875 [==============================] - 30s 16ms/step - loss: 0.0058 - accuracy: 0.9957 - val_loss: 0.0125 - val_accuracy: 0.9821\n",
      "Epoch 9/20\n",
      "1875/1875 [==============================] - 32s 17ms/step - loss: 0.0051 - accuracy: 0.9965 - val_loss: 0.0123 - val_accuracy: 0.9829\n",
      "Epoch 10/20\n",
      "1875/1875 [==============================] - 30s 16ms/step - loss: 0.0043 - accuracy: 0.9974 - val_loss: 0.0123 - val_accuracy: 0.9822\n",
      "Epoch 11/20\n",
      "1875/1875 [==============================] - 27s 14ms/step - loss: 0.0036 - accuracy: 0.9981 - val_loss: 0.0123 - val_accuracy: 0.9815\n",
      "Epoch 12/20\n",
      "1875/1875 [==============================] - 27s 14ms/step - loss: 0.0032 - accuracy: 0.9986 - val_loss: 0.0124 - val_accuracy: 0.9827\n",
      "Epoch 13/20\n",
      "1875/1875 [==============================] - 29s 15ms/step - loss: 0.0028 - accuracy: 0.9991 - val_loss: 0.0119 - val_accuracy: 0.9831\n",
      "Epoch 14/20\n",
      "1875/1875 [==============================] - 29s 15ms/step - loss: 0.0024 - accuracy: 0.9995 - val_loss: 0.0118 - val_accuracy: 0.9835\n",
      "Epoch 15/20\n",
      "1875/1875 [==============================] - 29s 15ms/step - loss: 0.0022 - accuracy: 0.9994 - val_loss: 0.0118 - val_accuracy: 0.9838\n",
      "Epoch 16/20\n",
      "1875/1875 [==============================] - 30s 16ms/step - loss: 0.0019 - accuracy: 0.9995 - val_loss: 0.0115 - val_accuracy: 0.9845\n",
      "Epoch 17/20\n",
      "1875/1875 [==============================] - 29s 15ms/step - loss: 0.0017 - accuracy: 0.9997 - val_loss: 0.0120 - val_accuracy: 0.9836\n",
      "Epoch 18/20\n",
      "1875/1875 [==============================] - 29s 16ms/step - loss: 0.0016 - accuracy: 0.9997 - val_loss: 0.0118 - val_accuracy: 0.9845\n",
      "Epoch 19/20\n",
      "1875/1875 [==============================] - 31s 16ms/step - loss: 0.0015 - accuracy: 0.9998 - val_loss: 0.0117 - val_accuracy: 0.9849\n",
      "Epoch 20/20\n",
      "1875/1875 [==============================] - 31s 16ms/step - loss: 0.0014 - accuracy: 0.9998 - val_loss: 0.0117 - val_accuracy: 0.9848\n"
     ]
    }
   ],
   "source": [
    "history=model.fit(xtrain,ytrain,validation_data=(xtest,ytest),epochs=20,verbose=1)"
   ]
  },
  {
   "cell_type": "code",
   "execution_count": 25,
   "id": "cfb35f94",
   "metadata": {},
   "outputs": [
    {
     "name": "stdout",
     "output_type": "stream",
     "text": [
      "1875/1875 [==============================] - 16s 8ms/step - loss: 5.4729e-04 - accuracy: 1.0000\n",
      "313/313 [==============================] - 3s 9ms/step - loss: 0.0117 - accuracy: 0.9848\n",
      "Train Accuracy:\t 1.0\n",
      "\n",
      "Test Accuracy:\t 0.9847999811172485\n"
     ]
    }
   ],
   "source": [
    "_,train_acc=model.evaluate(xtrain,ytrain,verbose=1)\n",
    "_,test_acc=model.evaluate(xtest,ytest,verbose=1)\n",
    "print('Train Accuracy:\\t',train_acc)\n",
    "print()\n",
    "print('Test Accuracy:\\t',test_acc)"
   ]
  },
  {
   "cell_type": "code",
   "execution_count": 26,
   "id": "88019a3d",
   "metadata": {
    "scrolled": false
   },
   "outputs": [
    {
     "data": {
      "image/png": "[encoded data removed]",
      "text/plain": [
       "<Figure size 640x480 with 1 Axes>"
      ]
     },
     "metadata": {},
     "output_type": "display_data"
    }
   ],
   "source": [
    "pyplot.plot(history.history['accuracy'],label='train')\n",
    "pyplot.plot(history.history['val_accuracy'],label='test')\n",
    "pyplot.legend()\n",
    "pyplot.show()"
   ]
  },
  {
   "cell_type": "code",
   "execution_count": 31,
   "id": "56941a9b",
   "metadata": {},
   "outputs": [],
   "source": [
    "import keras_tuner\n",
    "from kerastuner.tuners import Hyperband"
   ]
  },
  {
   "cell_type": "code",
   "execution_count": 32,
   "id": "7e36a36b",
   "metadata": {},
   "outputs": [],
   "source": [
    "import tensorflow as tf\n",
    "from tensorflow import keras\n",
    "from tensorflow.keras import layers\n",
    "from kerastuner.engine.hyperparameters import HyperParameter"
   ]
  },
  {
   "cell_type": "code",
   "execution_count": null,
   "id": "773029fe",
   "metadata": {
    "scrolled": false
   },
   "outputs": [
    {
     "name": "stdout",
     "output_type": "stream",
     "text": [
      "Trial 30 Complete [00h 02m 32s]\n",
      "val_accuracy: 0.9697999954223633\n",
      "\n",
      "Best val_accuracy So Far: 0.9804999828338623\n",
      "Total elapsed time: 00h 30m 51s\n",
      "Epoch 1/10\n",
      "1875/1875 [==============================] - 16s 8ms/step - loss: 0.2947 - accuracy: 0.9149 - val_loss: 0.1378 - val_accuracy: 0.9593\n",
      "Epoch 2/10\n",
      "1875/1875 [==============================] - 13s 7ms/step - loss: 0.1415 - accuracy: 0.9582 - val_loss: 0.0993 - val_accuracy: 0.9711\n",
      "Epoch 3/10\n",
      "1875/1875 [==============================] - 13s 7ms/step - loss: 0.1055 - accuracy: 0.9673 - val_loss: 0.0951 - val_accuracy: 0.9705\n",
      "Epoch 4/10\n",
      "1875/1875 [==============================] - 13s 7ms/step - loss: 0.0860 - accuracy: 0.9736 - val_loss: 0.0793 - val_accuracy: 0.9753\n",
      "Epoch 5/10\n",
      "1875/1875 [==============================] - 13s 7ms/step - loss: 0.0734 - accuracy: 0.9763 - val_loss: 0.0681 - val_accuracy: 0.9796\n",
      "Epoch 6/10\n",
      "1875/1875 [==============================] - 14s 7ms/step - loss: 0.0647 - accuracy: 0.9788 - val_loss: 0.0674 - val_accuracy: 0.9787\n",
      "Epoch 7/10\n",
      "1875/1875 [==============================] - 14s 7ms/step - loss: 0.0578 - accuracy: 0.9816 - val_loss: 0.0696 - val_accuracy: 0.9796\n",
      "Epoch 8/10\n",
      "1687/1875 [=========================>....] - ETA: 1s - loss: 0.0505 - accuracy: 0.9834"
     ]
    }
   ],
   "source": [
    "# Load and preprocess the MNIST dataset\n",
    "(x_train, y_train), (x_test, y_test) = keras.datasets.mnist.load_data()\n",
    "x_train, x_test = x_train / 255.0, x_test / 255.0\n",
    "\n",
    "# Define the model-building function\n",
    "def build_model(hp):\n",
    "    model = keras.Sequential()\n",
    "    model.add(layers.Flatten(input_shape=(28, 28)))\n",
    "\n",
    "    # Tune the number of hidden layers and units\n",
    "    for i in range(hp.Int('num_layers', 1, 3)):\n",
    "        model.add(layers.Dense(units=hp.Int(f'units_{i}', 32, 128, step=32), activation='relu'))\n",
    "        model.add(layers.Dropout(0.2))\n",
    "\n",
    "    model.add(layers.Dense(10, activation='softmax'))\n",
    "\n",
    "    # Compile the model with a tunable learning rate\n",
    "    model.compile(\n",
    "        optimizer=keras.optimizers.Adam(learning_rate=hp.Choice('learning_rate', values=[1e-2, 1e-3, 1e-4])),\n",
    "        loss='sparse_categorical_crossentropy',\n",
    "        metrics=['accuracy']\n",
    "    )\n",
    "\n",
    "    return model\n",
    "\n",
    "# Instantiate the tuner and perform hyperparameter tuning\n",
    "tuner = Hyperband(\n",
    "    build_model,\n",
    "    objective='val_accuracy',\n",
    "    max_epochs=10,\n",
    "    factor=3,\n",
    "    directory='keras_tuner_dir',\n",
    "    project_name='mnist_hyperband'\n",
    ")\n",
    "\n",
    "tuner.search(x_train, y_train, epochs=10, validation_data=(x_test,y_test))\n",
    "\n",
    "# Get the best hyperparameters\n",
    "best_hps = tuner.get_best_hyperparameters(num_trials=1)[0]\n",
    "\n",
    "# Build the model with the best hyperparameters\n",
    "best_model = tuner.hypermodel.build(best_hps)\n",
    "\n",
    "# Train the model with the best hyperparameters\n",
    "best_model.fit(x_train, y_train, epochs=10, validation_data=(x_test,y_test))"
   ]
  },
  {
   "cell_type": "code",
   "execution_count": null,
   "id": "203daa13",
   "metadata": {},
   "outputs": [],
   "source": []
  }
 ],
 "metadata": {
  "kernelspec": {
   "display_name": "Python 3 (ipykernel)",
   "language": "python",
   "name": "python3"
  },
  "language_info": {
   "codemirror_mode": {
    "name": "ipython",
    "version": 3
   },
   "file_extension": ".py",
   "mimetype": "text/x-python",
   "name": "python",
   "nbconvert_exporter": "python",
   "pygments_lexer": "ipython3",
   "version": "3.11.4"
  }
 },
 "nbformat": 4,
 "nbformat_minor": 5
}
