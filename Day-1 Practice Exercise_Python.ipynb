{
 "cells": [
  {
   "cell_type": "markdown",
   "id": "bcabf269",
   "metadata": {},
   "source": [
    "# 1 Manipulate using a list"
   ]
  },
  {
   "cell_type": "code",
   "execution_count": 1,
   "id": "fe81cc02",
   "metadata": {},
   "outputs": [
    {
     "data": {
      "text/plain": [
       "[20, 50, 'prakash', 'mphasis']"
      ]
     },
     "execution_count": 1,
     "metadata": {},
     "output_type": "execute_result"
    }
   ],
   "source": [
    "lst = [20,50,'prakash','mphasis']\n",
    "lst"
   ]
  },
  {
   "cell_type": "code",
   "execution_count": 2,
   "id": "71023ef4",
   "metadata": {},
   "outputs": [
    {
     "data": {
      "text/plain": [
       "[20, 50, 'prakash', 'mphasis', 36]"
      ]
     },
     "execution_count": 2,
     "metadata": {},
     "output_type": "execute_result"
    }
   ],
   "source": [
    "lst.append(36) #Adding the new element\n",
    "lst"
   ]
  },
  {
   "cell_type": "code",
   "execution_count": 5,
   "id": "8f42bb85",
   "metadata": {},
   "outputs": [
    {
     "data": {
      "text/plain": [
       "[36, 'mphasis', 'prakash', 50, 20]"
      ]
     },
     "execution_count": 5,
     "metadata": {},
     "output_type": "execute_result"
    }
   ],
   "source": [
    "lst.reverse() #Reverse the list\n",
    "lst"
   ]
  },
  {
   "cell_type": "code",
   "execution_count": 6,
   "id": "3aacd9d1",
   "metadata": {},
   "outputs": [
    {
     "data": {
      "text/plain": [
       "[36, 'mphasis', 'prakash', 50, 20, 36, 'mphasis', 'prakash', 50, 20]"
      ]
     },
     "execution_count": 6,
     "metadata": {},
     "output_type": "execute_result"
    }
   ],
   "source": [
    "lst*2 # list of elements multiple times"
   ]
  },
  {
   "cell_type": "code",
   "execution_count": 12,
   "id": "1bc6af82",
   "metadata": {},
   "outputs": [
    {
     "data": {
      "text/plain": [
       "[36, 'mphasis', 'prakash', 50, 20, 30, 60, 70, 10, 2]"
      ]
     },
     "execution_count": 12,
     "metadata": {},
     "output_type": "execute_result"
    }
   ],
   "source": [
    "lst2 = [30,60,70,10,2] #concatenate two lists\n",
    "final_lst = lst + lst2\n",
    "final_lst"
   ]
  },
  {
   "cell_type": "code",
   "execution_count": 14,
   "id": "bcbc792a",
   "metadata": {},
   "outputs": [
    {
     "data": {
      "text/plain": [
       "[2, 10, 30, 60, 70]"
      ]
     },
     "execution_count": 14,
     "metadata": {},
     "output_type": "execute_result"
    }
   ],
   "source": [
    "lst2.sort() # sorting the elements in the lsit\n",
    "lst2"
   ]
  },
  {
   "cell_type": "markdown",
   "id": "16c3b0af",
   "metadata": {},
   "source": [
    "# 2 Write a program to do in the Tuples"
   ]
  },
  {
   "cell_type": "code",
   "execution_count": 16,
   "id": "f7c92f16",
   "metadata": {},
   "outputs": [
    {
     "data": {
      "text/plain": [
       "tuple"
      ]
     },
     "execution_count": 16,
     "metadata": {},
     "output_type": "execute_result"
    }
   ],
   "source": [
    "tup = (10,20,'praksh',48) # tuple was created\n",
    "type(tup) "
   ]
  },
  {
   "cell_type": "code",
   "execution_count": 21,
   "id": "0ac2342b",
   "metadata": {},
   "outputs": [
    {
     "name": "stdout",
     "output_type": "stream",
     "text": [
      "(20, 50, 601, 46, 34, 'praksh')\n"
     ]
    }
   ],
   "source": [
    "lst1 = [20,50,601,46,34,'praksh'] #manipulating the tuple \n",
    "my_tuple = tuple(lst1)\n",
    "print(my_tuple)"
   ]
  },
  {
   "cell_type": "code",
   "execution_count": 44,
   "id": "e1c38c2e",
   "metadata": {},
   "outputs": [
    {
     "data": {
      "text/plain": [
       "('praksh', 34, 46, 601, 50, 20)"
      ]
     },
     "execution_count": 44,
     "metadata": {},
     "output_type": "execute_result"
    }
   ],
   "source": [
    "lst1.reverse()\n",
    "my_tuple= tuple(lst1)\n",
    "my_tuple"
   ]
  },
  {
   "cell_type": "code",
   "execution_count": 61,
   "id": "d48f5725",
   "metadata": {
    "scrolled": true
   },
   "outputs": [
    {
     "data": {
      "text/plain": [
       "(10, 'prakas', 56, 78, 43, 2, 10, 'prakas', 56, 78, 43, 2)"
      ]
     },
     "execution_count": 61,
     "metadata": {},
     "output_type": "execute_result"
    }
   ],
   "source": [
    "lst_new = [10,'prakas',56,78,43,2]#Display multiple times\n",
    "n = lst_new*2\n",
    "new_Tuple=tuple(n)\n",
    "new_Tuple\n"
   ]
  },
  {
   "cell_type": "code",
   "execution_count": 65,
   "id": "829b8ab1",
   "metadata": {},
   "outputs": [
    {
     "data": {
      "text/plain": [
       "(10, 4, 80, 67, 89, 43, 2, 10, 'prakas', 56, 78, 43, 2)"
      ]
     },
     "execution_count": 65,
     "metadata": {},
     "output_type": "execute_result"
    }
   ],
   "source": [
    "List1= [10,4,80,67,89,43,2] #concatenate two tuples\n",
    "np = List1 + lst_new\n",
    "my_Tuple = tuple(np)\n",
    "my_Tuple\n"
   ]
  },
  {
   "cell_type": "code",
   "execution_count": 68,
   "id": "0c366257",
   "metadata": {},
   "outputs": [
    {
     "data": {
      "text/plain": [
       "(2, 4, 10, 43, 67, 80, 89)"
      ]
     },
     "execution_count": 68,
     "metadata": {},
     "output_type": "execute_result"
    }
   ],
   "source": [
    "List1.sort() #sorting the list and type casting into tuple\n",
    "my_Tuple1 = tuple(List1)\n",
    "my_Tuple1"
   ]
  },
  {
   "cell_type": "markdown",
   "id": "fa76a816",
   "metadata": {},
   "source": [
    "# 3 Write aprogram to implement the following using list"
   ]
  },
  {
   "cell_type": "code",
   "execution_count": 69,
   "id": "41cf0e6c",
   "metadata": {},
   "outputs": [
    {
     "data": {
      "text/plain": [
       "[2, 3, 5, 6, 7, 9, 8, 4, 1, 10]"
      ]
     },
     "execution_count": 69,
     "metadata": {},
     "output_type": "execute_result"
    }
   ],
   "source": [
    "list_integers = [2,3,5,6,7,9,8,4,1,10] #created a list with minimum Ten Integers\n",
    "list_integers"
   ]
  },
  {
   "cell_type": "code",
   "execution_count": 71,
   "id": "ea6a85e4",
   "metadata": {},
   "outputs": [
    {
     "data": {
      "text/plain": [
       "10"
      ]
     },
     "execution_count": 71,
     "metadata": {},
     "output_type": "execute_result"
    }
   ],
   "source": [
    "list_integers[-1] #last number in the list \n"
   ]
  },
  {
   "cell_type": "code",
   "execution_count": 72,
   "id": "fdab9dff",
   "metadata": {},
   "outputs": [
    {
     "data": {
      "text/plain": [
       "[2, 3, 5, 6]"
      ]
     },
     "execution_count": 72,
     "metadata": {},
     "output_type": "execute_result"
    }
   ],
   "source": [
    "list_integers[0:4] # for display 0 to 4 indexing values in list"
   ]
  },
  {
   "cell_type": "code",
   "execution_count": 73,
   "id": "98d067ce",
   "metadata": {},
   "outputs": [
    {
     "data": {
      "text/plain": [
       "[5, 6, 7, 9, 8, 4, 1, 10]"
      ]
     },
     "execution_count": 73,
     "metadata": {},
     "output_type": "execute_result"
    }
   ],
   "source": [
    "list_integers[2:] # for display 2 to end of the indexing values in list"
   ]
  },
  {
   "cell_type": "code",
   "execution_count": 74,
   "id": "689137ec",
   "metadata": {},
   "outputs": [
    {
     "data": {
      "text/plain": [
       "[2, 3, 5, 6, 7, 9]"
      ]
     },
     "execution_count": 74,
     "metadata": {},
     "output_type": "execute_result"
    }
   ],
   "source": [
    "list_integers[:6] # defaulty it took 0 to 6 of the indexing values in list"
   ]
  },
  {
   "cell_type": "markdown",
   "id": "976993af",
   "metadata": {},
   "source": [
    "# 4 write a python program for tuple"
   ]
  },
  {
   "cell_type": "code",
   "execution_count": 78,
   "id": "519cd626",
   "metadata": {},
   "outputs": [
    {
     "data": {
      "text/plain": [
       "(10, 50, 20, 40, 30)"
      ]
     },
     "execution_count": 78,
     "metadata": {},
     "output_type": "execute_result"
    }
   ],
   "source": [
    "\n",
    "t0=(10,50,20,40,30) #As mention to create a tuple by using this values\n",
    "t0"
   ]
  },
  {
   "cell_type": "code",
   "execution_count": 79,
   "id": "be51fd5c",
   "metadata": {},
   "outputs": [
    {
     "data": {
      "text/plain": [
       "(10, 50)"
      ]
     },
     "execution_count": 79,
     "metadata": {},
     "output_type": "execute_result"
    }
   ],
   "source": [
    "t0[:2] #To display 10 and 50 from tuple "
   ]
  },
  {
   "cell_type": "code",
   "execution_count": 80,
   "id": "b00ed648",
   "metadata": {},
   "outputs": [
    {
     "data": {
      "text/plain": [
       "5"
      ]
     },
     "execution_count": 80,
     "metadata": {},
     "output_type": "execute_result"
    }
   ],
   "source": [
    "len(t0) #To display length"
   ]
  },
  {
   "cell_type": "code",
   "execution_count": 81,
   "id": "0f85c0f4",
   "metadata": {},
   "outputs": [
    {
     "data": {
      "text/plain": [
       "10"
      ]
     },
     "execution_count": 81,
     "metadata": {},
     "output_type": "execute_result"
    }
   ],
   "source": [
    "min(t0) #To display minimum values"
   ]
  },
  {
   "cell_type": "code",
   "execution_count": 82,
   "id": "de3a797c",
   "metadata": {},
   "outputs": [
    {
     "data": {
      "text/plain": [
       "150"
      ]
     },
     "execution_count": 82,
     "metadata": {},
     "output_type": "execute_result"
    }
   ],
   "source": [
    "sum(t0) #to sum of all elements in the tuple"
   ]
  },
  {
   "cell_type": "code",
   "execution_count": 83,
   "id": "c8416eaf",
   "metadata": {},
   "outputs": [
    {
     "data": {
      "text/plain": [
       "(10, 50, 20, 40, 30, 10, 50, 20, 40, 30)"
      ]
     },
     "execution_count": 83,
     "metadata": {},
     "output_type": "execute_result"
    }
   ],
   "source": [
    "t0*2 #to displaythe same tuple multiple times"
   ]
  },
  {
   "cell_type": "markdown",
   "id": "59808c9d",
   "metadata": {},
   "source": [
    "# 5 write a python program"
   ]
  },
  {
   "cell_type": "code",
   "execution_count": 84,
   "id": "ac9c245d",
   "metadata": {},
   "outputs": [
    {
     "data": {
      "text/plain": [
       "'prakash'"
      ]
     },
     "execution_count": 84,
     "metadata": {},
     "output_type": "execute_result"
    }
   ],
   "source": [
    "st = 'prakash' #creating the string value\n",
    "st"
   ]
  },
  {
   "cell_type": "code",
   "execution_count": 85,
   "id": "8547a4cf",
   "metadata": {},
   "outputs": [
    {
     "data": {
      "text/plain": [
       "7"
      ]
     },
     "execution_count": 85,
     "metadata": {},
     "output_type": "execute_result"
    }
   ],
   "source": [
    "len(st) #length of string"
   ]
  },
  {
   "cell_type": "code",
   "execution_count": 90,
   "id": "1eb1868e",
   "metadata": {},
   "outputs": [
    {
     "data": {
      "text/plain": [
       "'hsakarp'"
      ]
     },
     "execution_count": 90,
     "metadata": {},
     "output_type": "execute_result"
    }
   ],
   "source": [
    "st[::-1] #reverse the string"
   ]
  },
  {
   "cell_type": "code",
   "execution_count": 97,
   "id": "be881e7c",
   "metadata": {},
   "outputs": [
    {
     "data": {
      "text/plain": [
       "'prakashprakash'"
      ]
     },
     "execution_count": 97,
     "metadata": {},
     "output_type": "execute_result"
    }
   ],
   "source": [
    "st*2 #multiple time of string"
   ]
  },
  {
   "cell_type": "code",
   "execution_count": 101,
   "id": "d06af077",
   "metadata": {},
   "outputs": [
    {
     "data": {
      "text/plain": [
       "'prakashnani'"
      ]
     },
     "execution_count": 101,
     "metadata": {},
     "output_type": "execute_result"
    }
   ],
   "source": [
    "st2 = 'nani' #concatenation of two strings\n",
    "st1 = st + st2 \n",
    "st1"
   ]
  },
  {
   "cell_type": "code",
   "execution_count": 102,
   "id": "64c4e727",
   "metadata": {},
   "outputs": [
    {
     "data": {
      "text/plain": [
       "'India'"
      ]
     },
     "execution_count": 102,
     "metadata": {},
     "output_type": "execute_result"
    }
   ],
   "source": [
    "Str1 = \"South India\" #using slicing to display india\n",
    "Str1[6:]"
   ]
  },
  {
   "cell_type": "markdown",
   "id": "35bdb563",
   "metadata": {},
   "source": [
    "# 6 perform the following"
   ]
  },
  {
   "cell_type": "code",
   "execution_count": 105,
   "id": "2509bedb",
   "metadata": {},
   "outputs": [
    {
     "data": {
      "text/plain": [
       "{'f_name': 'prakash', 'l_name': 'nani', 'age': '22'}"
      ]
     },
     "execution_count": 105,
     "metadata": {},
     "output_type": "execute_result"
    }
   ],
   "source": [
    "dic = {'f_name':'prakash','l_name':'nani','age':'22'} #creating the dictionary\n",
    "dic\n",
    "\n"
   ]
  },
  {
   "cell_type": "code",
   "execution_count": 106,
   "id": "c2dd4c19",
   "metadata": {},
   "outputs": [
    {
     "data": {
      "text/plain": [
       "dict_values(['prakash', 'nani', '22'])"
      ]
     },
     "execution_count": 106,
     "metadata": {},
     "output_type": "execute_result"
    }
   ],
   "source": [
    "dic.values() #Accessing the values"
   ]
  },
  {
   "cell_type": "code",
   "execution_count": 107,
   "id": "6c005a43",
   "metadata": {},
   "outputs": [
    {
     "data": {
      "text/plain": [
       "{'f_name': 'prakash', 'l_name': 'nani', 'age': '23'}"
      ]
     },
     "execution_count": 107,
     "metadata": {},
     "output_type": "execute_result"
    }
   ],
   "source": [
    "dic.update({'age':'23'}) #Updating the dictionary file\n",
    "dic"
   ]
  },
  {
   "cell_type": "code",
   "execution_count": 124,
   "id": "97a732ac",
   "metadata": {},
   "outputs": [
    {
     "data": {
      "text/plain": [
       "{}"
      ]
     },
     "execution_count": 124,
     "metadata": {},
     "output_type": "execute_result"
    }
   ],
   "source": [
    "dic.clear()\n",
    "dic\n"
   ]
  },
  {
   "cell_type": "markdown",
   "id": "c90f04c4",
   "metadata": {},
   "source": [
    "# 7 Python program to insert a number to any position in the list"
   ]
  },
  {
   "cell_type": "code",
   "execution_count": 128,
   "id": "0f43f656",
   "metadata": {},
   "outputs": [
    {
     "data": {
      "text/plain": [
       "[20, 6, 35, 80, 65, 45, 3, 89, 3, 2, 5, 6, 78]"
      ]
     },
     "execution_count": 128,
     "metadata": {},
     "output_type": "execute_result"
    }
   ],
   "source": [
    "List_name = [20,6,80,65,45,3,89,3,2,5,6,78] \n",
    "List_name.insert(2,35) #By using insert method i added 35 in the 2 index number\n",
    "List_name"
   ]
  },
  {
   "cell_type": "markdown",
   "id": "18d69a10",
   "metadata": {},
   "source": [
    "# 8 python program to delete an element from list by index"
   ]
  },
  {
   "cell_type": "code",
   "execution_count": 131,
   "id": "2902f121",
   "metadata": {},
   "outputs": [
    {
     "data": {
      "text/plain": [
       "[25, 9, 5, 4, 7, 8, 23, 2, 4, 6]"
      ]
     },
     "execution_count": 131,
     "metadata": {},
     "output_type": "execute_result"
    }
   ],
   "source": [
    "Listname = [25,9,6,5,4,7,8,23,2,4,6] #creating list \n",
    "Listname.remove(6) # the number six was deleted in the index\n",
    "Listname"
   ]
  },
  {
   "cell_type": "markdown",
   "id": "c78f179f",
   "metadata": {},
   "source": [
    "# 9 write a program to display 1 to 100"
   ]
  },
  {
   "cell_type": "code",
   "execution_count": 136,
   "id": "6f1b3abd",
   "metadata": {},
   "outputs": [
    {
     "name": "stdout",
     "output_type": "stream",
     "text": [
      "1 2 3 4 5 6 7 8 9 10 11 12 13 14 15 16 17 18 19 20 21 22 23 24 25 26 27 28 29 30 31 32 33 34 35 36 37 38 39 40 41 42 43 44 45 46 47 48 49 50 51 52 53 54 55 56 57 58 59 60 61 62 63 64 65 66 67 68 69 70 71 72 73 74 75 76 77 78 79 80 81 82 83 84 85 86 87 88 89 90 91 92 93 94 95 96 97 98 99 100 "
     ]
    }
   ],
   "source": [
    "n=1\n",
    "while n <= 100:\n",
    "    print(n,end=\" \")\n",
    "    n = n + 1"
   ]
  },
  {
   "cell_type": "markdown",
   "id": "a1959861",
   "metadata": {},
   "source": [
    "# 10 write a program to print sum of all iteams in tuple"
   ]
  },
  {
   "cell_type": "code",
   "execution_count": 138,
   "id": "e99d59ef",
   "metadata": {},
   "outputs": [
    {
     "data": {
      "text/plain": [
       "104"
      ]
     },
     "execution_count": 138,
     "metadata": {},
     "output_type": "execute_result"
    }
   ],
   "source": [
    "tup = (10,70,5,4,7,8) #sum of all values in the tuple\n",
    "sum(tup)"
   ]
  },
  {
   "cell_type": "markdown",
   "id": "d13ce913",
   "metadata": {},
   "source": [
    "# 11 creating dictionary containing three lambda functions square, cube and square root"
   ]
  },
  {
   "cell_type": "code",
   "execution_count": 162,
   "id": "55436a13",
   "metadata": {},
   "outputs": [
    {
     "name": "stdout",
     "output_type": "stream",
     "text": [
      "Enter the Square value20\n",
      "Enter the cube value5\n",
      "Enter the Square Root4\n"
     ]
    }
   ],
   "source": [
    "s=int(input(\"Enter the Square value\"))\n",
    "c=int(input(\"Enter the cube value\"))\n",
    "sq=int(input(\"Enter the Square Root\"))\n",
    "dict1={'Square':s,'Cube':c,'SquareRoot':sq}"
   ]
  },
  {
   "cell_type": "code",
   "execution_count": 163,
   "id": "27f3ab5d",
   "metadata": {},
   "outputs": [
    {
     "data": {
      "text/plain": [
       "{'Square': 20, 'Cube': 5, 'SquareRoot': 4}"
      ]
     },
     "execution_count": 163,
     "metadata": {},
     "output_type": "execute_result"
    }
   ],
   "source": [
    "dict1 #the input values are stored"
   ]
  },
  {
   "cell_type": "code",
   "execution_count": 164,
   "id": "8df8d10f",
   "metadata": {},
   "outputs": [
    {
     "name": "stdout",
     "output_type": "stream",
     "text": [
      "29\n"
     ]
    }
   ],
   "source": [
    "print(sum(dict1.values())) #sum of all the thre lambda function\n",
    "\n"
   ]
  },
  {
   "cell_type": "markdown",
   "id": "cda0c4c9",
   "metadata": {},
   "source": [
    "# 12 A list of words is given find words from the list that have their second character in upper case"
   ]
  },
  {
   "cell_type": "code",
   "execution_count": 172,
   "id": "abb50029",
   "metadata": {},
   "outputs": [
    {
     "data": {
      "text/plain": [
       "['hOw', 'ARe']"
      ]
     },
     "execution_count": 172,
     "metadata": {},
     "output_type": "execute_result"
    }
   ],
   "source": [
    "ls = ['hello','Dear','hOw','ARe','You'] #find out second character capital letter\n",
    "ls1=[]\n",
    "for i in ls:\n",
    "    \n",
    "    if i[1].isupper():\n",
    "        ls1.append(i)\n",
    "ls1\n"
   ]
  },
  {
   "cell_type": "code",
   "execution_count": 10,
   "id": "bfa769cc",
   "metadata": {},
   "outputs": [
    {
     "name": "stdout",
     "output_type": "stream",
     "text": [
      "1 2 3 4 5 6 7 8 9 10 11 12 13 14 15 16 17 18 19 20 21 22 23 24 25 26 27 28 29 30 31 32 33 34 35 36 37 38 39 40 41 42 43 44 45 46 47 48 49 50 51 52 53 54 55 56 57 58 59 60 61 62 63 64 65 66 67 68 69 70 71 72 73 74 75 76 77 78 79 80 81 82 83 84 85 86 87 88 89 90 91 92 93 94 95 96 97 98 99 100 "
     ]
    }
   ],
   "source": [
    "13\n"
   ]
  },
  {
   "cell_type": "code",
   "execution_count": null,
   "id": "b2b65212",
   "metadata": {},
   "outputs": [],
   "source": []
  },
  {
   "cell_type": "code",
   "execution_count": null,
   "id": "728f42fc",
   "metadata": {},
   "outputs": [],
   "source": []
  },
  {
   "cell_type": "code",
   "execution_count": null,
   "id": "b0c3a958",
   "metadata": {},
   "outputs": [],
   "source": []
  },
  {
   "cell_type": "markdown",
   "id": "5f28a5d8",
   "metadata": {},
   "source": [
    "   # Control Structures"
   ]
  },
  {
   "cell_type": "markdown",
   "id": "63155b01",
   "metadata": {},
   "source": [
    "# 1 write a program to find first N prim numbers"
   ]
  },
  {
   "cell_type": "code",
   "execution_count": 183,
   "id": "fe74274f",
   "metadata": {
    "scrolled": true
   },
   "outputs": [
    {
     "name": "stdout",
     "output_type": "stream",
     "text": [
      "Enter the number:10\n",
      "2\n",
      "3\n",
      "5\n",
      "7\n"
     ]
    }
   ],
   "source": [
    "i = 1\n",
    "x = int(input(\"Enter the number:\"))\n",
    "for k in range(1, x+1):\n",
    "    c = 0\n",
    "    for j in range(1, i+1):\n",
    "        a = i % j\n",
    "        if a == 0:\n",
    "            c = c + 1\n",
    "\n",
    "    if c == 2:\n",
    "        print(i)\n",
    "    else:\n",
    "        k = k - 1\n",
    "\n",
    "    i = i + 1"
   ]
  },
  {
   "cell_type": "markdown",
   "id": "a762f9a0",
   "metadata": {},
   "source": [
    "# 2 write the python code that calculates the salary of an employee"
   ]
  },
  {
   "cell_type": "code",
   "execution_count": 184,
   "id": "cd64c0ce",
   "metadata": {},
   "outputs": [
    {
     "name": "stdout",
     "output_type": "stream",
     "text": [
      "Enter the SA30000\n",
      "Enter the HRA500\n",
      "Enter the TA1000\n",
      "Enter the DA500\n"
     ]
    },
    {
     "data": {
      "text/plain": [
       "28800.0"
      ]
     },
     "execution_count": 184,
     "metadata": {},
     "output_type": "execute_result"
    }
   ],
   "source": [
    "sa = int(input(\"Enter the SA\"))\n",
    "hra = int(input(\"Enter the HRA\"))\n",
    "ta = int(input(\"Enter the TA\"))\n",
    "da = int(input(\"Enter the DA\"))\n",
    "Gross_salary=sa+hra+ta+da\n",
    "deduct = 0.1 * Gross_salary\n",
    "total_salary = Gross_salary - deduct\n",
    "total_salary"
   ]
  },
  {
   "cell_type": "markdown",
   "id": "776cf81e",
   "metadata": {},
   "source": [
    "# 3 write a python program to search for string in the given list"
   ]
  },
  {
   "cell_type": "code",
   "execution_count": 191,
   "id": "aa9b57bb",
   "metadata": {},
   "outputs": [
    {
     "name": "stdout",
     "output_type": "stream",
     "text": [
      "enter the nameprakash\n",
      "The name Matched\n"
     ]
    }
   ],
   "source": [
    "List_one = ['prakash','nani','surya','king','pawan']\n",
    "n = input(\"enter the name\")\n",
    "for i in List_one:\n",
    "    if(i == n):\n",
    "        print(\"The name Matched\")\n",
    "        break\n",
    "    else:\n",
    "        print(\"The name wa not matched\")"
   ]
  },
  {
   "cell_type": "markdown",
   "id": "2ed2df4b",
   "metadata": {},
   "source": [
    "# 4 write a python function that accepts a string and calculates the number of upper case-case letters and lower-case letters"
   ]
  },
  {
   "cell_type": "code",
   "execution_count": 18,
   "id": "f39b9174",
   "metadata": {},
   "outputs": [
    {
     "name": "stdout",
     "output_type": "stream",
     "text": [
      "1\n",
      "5\n"
     ]
    }
   ],
   "source": [
    "n='prAksh'\n",
    "upp=0\n",
    "low=0\n",
    "for i in n:\n",
    "    if i.isupper():\n",
    "        upp=upp+1\n",
    "    else:\n",
    "        low=low+1\n",
    "print(upp)\n",
    "print(low)\n",
    "        "
   ]
  },
  {
   "cell_type": "code",
   "execution_count": null,
   "id": "355708d7",
   "metadata": {},
   "outputs": [],
   "source": []
  },
  {
   "cell_type": "code",
   "execution_count": null,
   "id": "c7d76f8f",
   "metadata": {},
   "outputs": [],
   "source": []
  },
  {
   "cell_type": "markdown",
   "id": "453692c9",
   "metadata": {},
   "source": [
    "# 5 Program to display the sum of odd numbers and even numbers that fall between 12 and 37"
   ]
  },
  {
   "cell_type": "code",
   "execution_count": 199,
   "id": "881582c6",
   "metadata": {},
   "outputs": [
    {
     "name": "stdout",
     "output_type": "stream",
     "text": [
      "The sum of even numbers 312\n",
      "The sum of odd numbers 325\n"
     ]
    }
   ],
   "source": [
    "n=0\n",
    "m=0\n",
    "for i in range(12,38):\n",
    "    if(i%2==0):\n",
    "        n=n+i\n",
    "print(\"The sum of even numbers {}\".format(n))\n",
    "for j in range(12,38):\n",
    "    if(j%2!=0):\n",
    "        m=m+j\n",
    "print(\"The sum of odd numbers {}\".format(m))"
   ]
  },
  {
   "cell_type": "markdown",
   "id": "11deb7ba",
   "metadata": {},
   "source": [
    "# 6 write a program to print a table"
   ]
  },
  {
   "cell_type": "code",
   "execution_count": 203,
   "id": "db550fa7",
   "metadata": {},
   "outputs": [
    {
     "name": "stdout",
     "output_type": "stream",
     "text": [
      "2 * 1 = 2\n",
      "2 * 2 = 4\n",
      "2 * 3 = 6\n",
      "2 * 4 = 8\n",
      "2 * 5 = 10\n",
      "2 * 6 = 12\n",
      "2 * 7 = 14\n",
      "2 * 8 = 16\n",
      "2 * 9 = 18\n",
      "2 * 10 = 20\n"
     ]
    }
   ],
   "source": [
    "n=2\n",
    "m=0\n",
    "for i in range(1,11):\n",
    "    m=n*i\n",
    "    print(\"{} * {} = {}\".format(n,i,m))\n",
    "    \n",
    "    "
   ]
  },
  {
   "cell_type": "markdown",
   "id": "9ed0beac",
   "metadata": {},
   "source": [
    "# 7 write a program to sum the first 10 prime numbers"
   ]
  },
  {
   "cell_type": "code",
   "execution_count": 204,
   "id": "35d891e3",
   "metadata": {},
   "outputs": [
    {
     "name": "stdout",
     "output_type": "stream",
     "text": [
      "Enter the number:10\n",
      "2\n",
      "3\n",
      "5\n",
      "7\n"
     ]
    }
   ],
   "source": [
    "i = 1\n",
    "m=0\n",
    "x = int(input(\"Enter the number:\"))\n",
    "for k in range(1, x+1):\n",
    "    c = 0\n",
    "    for j in range(1, i+1):\n",
    "        a = i % j\n",
    "        if a == 0:\n",
    "            c = c + 1\n",
    "\n",
    "    if c == 2:\n",
    "       \n",
    "        print(i)\n",
    "    else:\n",
    "        k = k - 1\n",
    "\n",
    "    i = i + 1"
   ]
  },
  {
   "cell_type": "markdown",
   "id": "dbe56bee",
   "metadata": {},
   "source": [
    "# 8 python program to implement arithmetic operations using nested if statement"
   ]
  },
  {
   "cell_type": "code",
   "execution_count": 14,
   "id": "327d9839",
   "metadata": {},
   "outputs": [
    {
     "name": "stdout",
     "output_type": "stream",
     "text": [
      "Enter the 1st number: 12\n",
      "Enter the 2nd number: 10\n",
      "Enter the Operation: Subtraction\n",
      "2\n"
     ]
    }
   ],
   "source": [
    "S1= int (input(\"Enter the 1st number: \"))\n",
    "S2= int(input(\"Enter the 2nd number: \"))\n",
    "opr= input(\"Enter the Operation: \")\n",
    "if opr == 'Addition':\n",
    "    print(S1+S2)\n",
    "elif opr == 'Subtraction':\n",
    "    print(S1 - S2)\n",
    "elif opr == 'Multiplication':\n",
    "    print(S1*S2)\n",
    "else:\n",
    "    print(S1/S2)"
   ]
  },
  {
   "cell_type": "markdown",
   "id": "dcc4e155",
   "metadata": {},
   "source": [
    "# 9 python program to take the temperature in celsius and convert it to a fahrenheat"
   ]
  },
  {
   "cell_type": "code",
   "execution_count": 15,
   "id": "f0f567f1",
   "metadata": {
    "scrolled": true
   },
   "outputs": [
    {
     "name": "stdout",
     "output_type": "stream",
     "text": [
      "Enter the Celsius Value: 25\n",
      "25.0 Celsius equals to 77.0 Fahrenhit\n"
     ]
    }
   ],
   "source": [
    "c=float(input(\"Enter the Celsius Value: \"))\n",
    "f= (c * 1.8) +32\n",
    "print('{} Celsius equals to {} Fahrenhit'.format(c,f))"
   ]
  },
  {
   "cell_type": "markdown",
   "id": "be3faef3",
   "metadata": {},
   "source": [
    "# 10 write a python program to print maximum and minimum in a list without inbuilt function"
   ]
  },
  {
   "cell_type": "code",
   "execution_count": 34,
   "id": "8eba3ce8",
   "metadata": {
    "scrolled": true
   },
   "outputs": [
    {
     "name": "stdout",
     "output_type": "stream",
     "text": [
      "The MAx of Number in the list is 0\n",
      "The MIn of Number in the list is 52\n"
     ]
    }
   ],
   "source": [
    "m_l=0\n",
    "max_l=0\n",
    "lst_t = [20,52,2,4,6,7,8,9,2]\n",
    "for i in lst_t:\n",
    "    if i > max_l:\n",
    "        max_l=i\n",
    "    elif i < m_l:\n",
    "        m_l = i\n",
    "        \n",
    "print(\"The MAx of Number in the list is {}\".format(m_l))\n",
    "print(\"The MIn of Number in the list is {}\".format(max_l))\n",
    "        \n",
    "    "
   ]
  },
  {
   "cell_type": "markdown",
   "id": "1c9e6e81",
   "metadata": {},
   "source": [
    "# 11 write a python program to print out the number of second in 30-day month 30 days,24 hours"
   ]
  },
  {
   "cell_type": "code",
   "execution_count": 42,
   "id": "50cbcb42",
   "metadata": {},
   "outputs": [
    {
     "name": "stdout",
     "output_type": "stream",
     "text": [
      "The no of seconds in a year 2592000\n"
     ]
    }
   ],
   "source": [
    "num_month=30\n",
    "no_hoursaday=24\n",
    "nof_secondsinday=no_hoursaday*60*60\n",
    "nof_secondsinayear=nof_secondsinday * num_month\n",
    "print('The no of seconds in a month {}'.format(nof_secondsinayear))"
   ]
  },
  {
   "cell_type": "code",
   "execution_count": null,
   "id": "aed3923d",
   "metadata": {},
   "outputs": [],
   "source": []
  },
  {
   "cell_type": "markdown",
   "id": "e1d7b780",
   "metadata": {},
   "source": [
    "# 12 write a python program to print out the number of seconds in year"
   ]
  },
  {
   "cell_type": "code",
   "execution_count": 43,
   "id": "e61c89ce",
   "metadata": {},
   "outputs": [
    {
     "name": "stdout",
     "output_type": "stream",
     "text": [
      "The no of second in a year 31536000\n"
     ]
    }
   ],
   "source": [
    "nof_daysina_year=365\n",
    "nof_daysina_leapyear=366\n",
    "noof_hoursinaday=24\n",
    "nofsecinaday=noof_hoursinaday*60*60\n",
    "nofsecina_year=nof_daysina_year * nofsecinaday\n",
    "print('The no of second in a year {}'.format(nofsecina_year))"
   ]
  },
  {
   "cell_type": "markdown",
   "id": "745419d7",
   "metadata": {},
   "source": [
    "# 13 A high Speed Train Can travel"
   ]
  },
  {
   "cell_type": "code",
   "execution_count": 26,
   "id": "080e9711",
   "metadata": {},
   "outputs": [
    {
     "name": "stdout",
     "output_type": "stream",
     "text": [
      "0.5\n"
     ]
    }
   ],
   "source": [
    "Avg_speed=200\n",
    "Avg_dist=400\n",
    "Avg_tim=Avg_speed / Avg_dist\n",
    "\n",
    "print(Avg_tim)"
   ]
  },
  {
   "cell_type": "markdown",
   "id": "6cb43e4f",
   "metadata": {},
   "source": [
    "# 14 python program to print a define variables"
   ]
  },
  {
   "cell_type": "code",
   "execution_count": 27,
   "id": "70526899",
   "metadata": {},
   "outputs": [
    {
     "name": "stdout",
     "output_type": "stream",
     "text": [
      "total hours : 1152\n",
      "total hours : 2304\n",
      "total hours : 3456\n",
      "total hours : 4608\n",
      "total hours : 5760\n"
     ]
    }
   ],
   "source": [
    "days=192\n",
    "tm=0\n",
    "for i in range(7,12):\n",
    "    tm=tm+(192*6)\n",
    "    print(\"total hours :\",tm)"
   ]
  },
  {
   "cell_type": "markdown",
   "id": "2e133cf2",
   "metadata": {},
   "source": [
    "# 15 if age of ram sam and khan are input throught the keyboard write a python program to determine the elder and youngest of the thre"
   ]
  },
  {
   "cell_type": "code",
   "execution_count": 36,
   "id": "45db792b",
   "metadata": {},
   "outputs": [
    {
     "name": "stdout",
     "output_type": "stream",
     "text": [
      "Enter the Age of Ram :2\n",
      "Enter the Age of Sam :5\n",
      "Enter the Age of khan :4\n",
      "The Youngest Age is Ram\n",
      "The Edlest Age is Sam\n"
     ]
    }
   ],
   "source": [
    "r= int(input(\"Enter the Age of Ram :\"))\n",
    "s= int(input(\"Enter the Age of Sam :\"))\n",
    "k = int(input(\"Enter the Age of khan :\"))\n",
    "\n",
    "if(r < s and r <k):\n",
    "    print(\"The Youngest Age is Ram\")\n",
    "    \n",
    "elif(s<r and s<k):\n",
    "    print(\"The Youngest Age is Sam\")\n",
    "    \n",
    "else:\n",
    "    print(\"The Youngest Age is Khan\")\n",
    "    \n",
    "if(r > s and r >k):\n",
    "    print(\"The Eldest Age is Ram\")\n",
    "    \n",
    "elif(s>r and s>k):\n",
    "    print(\"The Edlest Age is Sam\")\n",
    "    \n",
    "else:\n",
    "    print(\"The Edlest Age is Khan\")"
   ]
  },
  {
   "cell_type": "markdown",
   "id": "8e0d94a5",
   "metadata": {},
   "source": [
    "# 16 write a python program to rotate a list by right n times with and witout slicing technique"
   ]
  },
  {
   "cell_type": "code",
   "execution_count": null,
   "id": "13342c74",
   "metadata": {},
   "outputs": [],
   "source": []
  },
  {
   "cell_type": "markdown",
   "id": "df6b0e9e",
   "metadata": {},
   "source": [
    "# 17 print a pattern"
   ]
  },
  {
   "cell_type": "code",
   "execution_count": 9,
   "id": "0527700b",
   "metadata": {},
   "outputs": [
    {
     "name": "stdout",
     "output_type": "stream",
     "text": [
      "enter number 5\n",
      "*\n",
      "**\n",
      "***\n",
      "****\n",
      "*****\n"
     ]
    }
   ],
   "source": [
    "n=int(input(\"enter number \"))\n",
    "for i in range(1,n+1):\n",
    "    print(\"*\"*i)"
   ]
  },
  {
   "cell_type": "code",
   "execution_count": 24,
   "id": "281e3871",
   "metadata": {
    "scrolled": false
   },
   "outputs": [
    {
     "name": "stdout",
     "output_type": "stream",
     "text": [
      "\n",
      "P \n",
      "P Y \n",
      "P Y T \n",
      "P Y T H \n",
      "P Y T H O \n",
      "P Y T H O N "
     ]
    }
   ],
   "source": [
    "str=\"PYTHON\"\n",
    "p=len(str)\n",
    "for i in range(0,p):\n",
    "    print()\n",
    "    for j in range(0,i+1):\n",
    "        print(str[j],end=' ')\n",
    "\n",
    "    "
   ]
  },
  {
   "cell_type": "code",
   "execution_count": 35,
   "id": "ca0d3bdc",
   "metadata": {},
   "outputs": [
    {
     "name": "stdout",
     "output_type": "stream",
     "text": [
      "        * \n",
      "      * * * \n",
      "    * * * * * \n",
      "  * * * * * * * \n",
      "* * * * * * * * * \n"
     ]
    }
   ],
   "source": [
    "\n",
    "N = 5\n",
    "\n",
    "\n",
    "for i in range(1,N+1):\n",
    "\n",
    "\n",
    "    for k in range(N,i,-1):\n",
    "\n",
    "\n",
    "        print(\" \",end=' ')\n",
    "\n",
    "\n",
    "    for j in range(1,i+1):\n",
    "\n",
    "\n",
    "        print('*', end=' ')\n",
    "\n",
    "\n",
    "    for l in range(i-1,0,-1):  \n",
    "\n",
    "\n",
    "        print('*',end=' ')  \n",
    "\n",
    "\n",
    "    print()"
   ]
  },
  {
   "cell_type": "code",
   "execution_count": null,
   "id": "49ad2c34",
   "metadata": {},
   "outputs": [],
   "source": []
  },
  {
   "cell_type": "code",
   "execution_count": null,
   "id": "27b0ba8a",
   "metadata": {},
   "outputs": [],
   "source": []
  }
 ],
 "metadata": {
  "kernelspec": {
   "display_name": "Python 3 (ipykernel)",
   "language": "python",
   "name": "python3"
  },
  "language_info": {
   "codemirror_mode": {
    "name": "ipython",
    "version": 3
   },
   "file_extension": ".py",
   "mimetype": "text/x-python",
   "name": "python",
   "nbconvert_exporter": "python",
   "pygments_lexer": "ipython3",
   "version": "3.11.4"
  }
 },
 "nbformat": 4,
 "nbformat_minor": 5
}
