{
 "cells": [
  {
   "cell_type": "code",
   "execution_count": 69,
   "id": "161332e0",
   "metadata": {},
   "outputs": [],
   "source": [
    "import pandas as pd\n",
    "import numpy as np\n",
    "import matplotlib.pyplot\n",
    "import csv\n",
    "import math\n"
   ]
  },
  {
   "cell_type": "code",
   "execution_count": null,
   "id": "576e7ae8",
   "metadata": {},
   "outputs": [],
   "source": [
    "from IPython.core.display import HTML\n",
    "css = open('style-table.css').read() + open('style-notebooks.css').read()\n",
    "HTML('<style>{}</style>'.format(css))"
   ]
  },
  {
   "cell_type": "code",
   "execution_count": 7,
   "id": "800d0d4e",
   "metadata": {},
   "outputs": [
    {
     "data": {
      "text/html": [
       "<div>\n",
       "<style scoped>\n",
       "    .dataframe tbody tr th:only-of-type {\n",
       "        vertical-align: middle;\n",
       "    }\n",
       "\n",
       "    .dataframe tbody tr th {\n",
       "        vertical-align: top;\n",
       "    }\n",
       "\n",
       "    .dataframe thead th {\n",
       "        text-align: right;\n",
       "    }\n",
       "</style>\n",
       "<table border=\"1\" class=\"dataframe\">\n",
       "  <thead>\n",
       "    <tr style=\"text-align: right;\">\n",
       "      <th></th>\n",
       "      <th>title</th>\n",
       "      <th>year</th>\n",
       "    </tr>\n",
       "  </thead>\n",
       "  <tbody>\n",
       "    <tr>\n",
       "      <th>0</th>\n",
       "      <td>Tasveer Mere Sanam</td>\n",
       "      <td>1996</td>\n",
       "    </tr>\n",
       "    <tr>\n",
       "      <th>1</th>\n",
       "      <td>Only You</td>\n",
       "      <td>1994</td>\n",
       "    </tr>\n",
       "    <tr>\n",
       "      <th>2</th>\n",
       "      <td>El pueblo del terror</td>\n",
       "      <td>1970</td>\n",
       "    </tr>\n",
       "    <tr>\n",
       "      <th>3</th>\n",
       "      <td>Machine</td>\n",
       "      <td>2007</td>\n",
       "    </tr>\n",
       "    <tr>\n",
       "      <th>4</th>\n",
       "      <td>MARy</td>\n",
       "      <td>2008</td>\n",
       "    </tr>\n",
       "  </tbody>\n",
       "</table>\n",
       "</div>"
      ],
      "text/plain": [
       "                  title  year\n",
       "0    Tasveer Mere Sanam  1996\n",
       "1              Only You  1994\n",
       "2  El pueblo del terror  1970\n",
       "3               Machine  2007\n",
       "4                  MARy  2008"
      ]
     },
     "execution_count": 7,
     "metadata": {},
     "output_type": "execute_result"
    }
   ],
   "source": [
    "titles = pd.read_csv('titles.csv')\n",
    "titles.head()"
   ]
  },
  {
   "cell_type": "markdown",
   "id": "525418a4",
   "metadata": {},
   "source": [
    "# 1 how many movies are listed in the titles dataframe"
   ]
  },
  {
   "cell_type": "code",
   "execution_count": 39,
   "id": "0bc3c4d4",
   "metadata": {},
   "outputs": [
    {
     "name": "stdout",
     "output_type": "stream",
     "text": [
      "244914\n"
     ]
    }
   ],
   "source": [
    "import pandas as pd\n",
    "\n",
    "movie_count = dataframes['titles.csv'].shape[0]\n",
    "print(movie_count)"
   ]
  },
  {
   "cell_type": "markdown",
   "id": "41d7b333",
   "metadata": {},
   "source": [
    "# 2: What are the earliest two films listed in the titles dataframe?"
   ]
  },
  {
   "cell_type": "code",
   "execution_count": 27,
   "id": "503352c8",
   "metadata": {},
   "outputs": [
    {
     "data": {
      "text/html": [
       "<div>\n",
       "<style scoped>\n",
       "    .dataframe tbody tr th:only-of-type {\n",
       "        vertical-align: middle;\n",
       "    }\n",
       "\n",
       "    .dataframe tbody tr th {\n",
       "        vertical-align: top;\n",
       "    }\n",
       "\n",
       "    .dataframe thead th {\n",
       "        text-align: right;\n",
       "    }\n",
       "</style>\n",
       "<table border=\"1\" class=\"dataframe\">\n",
       "  <thead>\n",
       "    <tr style=\"text-align: right;\">\n",
       "      <th></th>\n",
       "      <th>title</th>\n",
       "      <th>year</th>\n",
       "    </tr>\n",
       "  </thead>\n",
       "  <tbody>\n",
       "    <tr>\n",
       "      <th>193222</th>\n",
       "      <td>Miss Jerry</td>\n",
       "      <td>1894</td>\n",
       "    </tr>\n",
       "    <tr>\n",
       "      <th>51388</th>\n",
       "      <td>The Startled Lover</td>\n",
       "      <td>1898</td>\n",
       "    </tr>\n",
       "  </tbody>\n",
       "</table>\n",
       "</div>"
      ],
      "text/plain": [
       "                     title  year\n",
       "193222          Miss Jerry  1894\n",
       "51388   The Startled Lover  1898"
      ]
     },
     "execution_count": 27,
     "metadata": {},
     "output_type": "execute_result"
    }
   ],
   "source": [
    "dataframes['titles.csv'].sort_values(['year']).iloc[0:2]"
   ]
  },
  {
   "cell_type": "markdown",
   "id": "8cdfb8c3",
   "metadata": {},
   "source": [
    "# 3: How many movies have the title \"Hamlet\"?"
   ]
  },
  {
   "cell_type": "code",
   "execution_count": 29,
   "id": "130b56c2",
   "metadata": {},
   "outputs": [
    {
     "data": {
      "text/plain": [
       "20"
      ]
     },
     "execution_count": 29,
     "metadata": {},
     "output_type": "execute_result"
    }
   ],
   "source": [
    "len(np.where(dataframes['titles.csv']['title'] == 'Hamlet')[0])"
   ]
  },
  {
   "cell_type": "markdown",
   "id": "b230ee6f",
   "metadata": {},
   "source": [
    "# 4: How many movies are titled \"North by Northwest\""
   ]
  },
  {
   "cell_type": "code",
   "execution_count": 34,
   "id": "0d2b678b",
   "metadata": {},
   "outputs": [
    {
     "data": {
      "text/plain": [
       "1"
      ]
     },
     "execution_count": 34,
     "metadata": {},
     "output_type": "execute_result"
    }
   ],
   "source": [
    "len(np.where(dataframes['titles.csv']['title'] == 'North by Northwest'))"
   ]
  },
  {
   "cell_type": "markdown",
   "id": "b79e223f",
   "metadata": {},
   "source": [
    "# 5: When was the first movie titled \"Hamlet\" made"
   ]
  },
  {
   "cell_type": "code",
   "execution_count": 35,
   "id": "cba888a9",
   "metadata": {},
   "outputs": [
    {
     "data": {
      "text/plain": [
       "1910"
      ]
     },
     "execution_count": 35,
     "metadata": {},
     "output_type": "execute_result"
    }
   ],
   "source": [
    "dataframes['titles.csv'].loc[(dataframes['titles.csv']['title'] == 'Hamlet'), 'year'].sort_values().iloc[0]"
   ]
  },
  {
   "cell_type": "markdown",
   "id": "0074ae2f",
   "metadata": {},
   "source": [
    "# 6: List all of the \"Treasure Island\" movies from earliest to most recent"
   ]
  },
  {
   "cell_type": "code",
   "execution_count": 41,
   "id": "ec751f24",
   "metadata": {},
   "outputs": [
    {
     "data": {
      "text/plain": [
       "55686     1918\n",
       "196514    1920\n",
       "141822    1934\n",
       "77354     1950\n",
       "65051     1972\n",
       "37238     1973\n",
       "173051    1985\n",
       "27076     1999\n",
       "Name: year, dtype: int64"
      ]
     },
     "execution_count": 41,
     "metadata": {},
     "output_type": "execute_result"
    }
   ],
   "source": [
    "dataframes['titles.csv'].loc[(dataframes['titles.csv']['title']=='Treasure Island'), 'year'].sort_values()"
   ]
  },
  {
   "cell_type": "markdown",
   "id": "ab59aa14",
   "metadata": {},
   "source": [
    "# 7. How many movies were made in the year 1950"
   ]
  },
  {
   "cell_type": "code",
   "execution_count": 42,
   "id": "49cd9fa2",
   "metadata": {},
   "outputs": [
    {
     "data": {
      "text/plain": [
       "1113"
      ]
     },
     "execution_count": 42,
     "metadata": {},
     "output_type": "execute_result"
    }
   ],
   "source": [
    "dataframes['titles.csv'].loc[(dataframes['titles.csv']['year']==1950), 'year'].count()"
   ]
  },
  {
   "cell_type": "markdown",
   "id": "48d73ee2",
   "metadata": {},
   "source": [
    "# 8. How many movies were made from 1950 through 1959"
   ]
  },
  {
   "cell_type": "code",
   "execution_count": 46,
   "id": "83e08694",
   "metadata": {},
   "outputs": [
    {
     "data": {
      "text/plain": [
       "12934"
      ]
     },
     "execution_count": 46,
     "metadata": {},
     "output_type": "execute_result"
    }
   ],
   "source": [
    "dataframes['titles.csv'].loc[(dataframes['titles.csv']['year']>=1950) & (dataframes['titles.csv']['year'] <=1959), 'year'].count()"
   ]
  },
  {
   "cell_type": "markdown",
   "id": "95c399d6",
   "metadata": {},
   "source": [
    "# 9. In what years has a movie titled \"Batman\" been released"
   ]
  },
  {
   "cell_type": "code",
   "execution_count": 52,
   "id": "c33d6bd5",
   "metadata": {},
   "outputs": [
    {
     "data": {
      "text/plain": [
       "array([1943, 1989], dtype=int64)"
      ]
     },
     "execution_count": 52,
     "metadata": {},
     "output_type": "execute_result"
    }
   ],
   "source": [
    "dataframes['titles.csv'].loc[(dataframes['titles.csv']['title'] == 'Batman'), 'year'].unique()"
   ]
  },
  {
   "cell_type": "markdown",
   "id": "966ed4b7",
   "metadata": {},
   "source": [
    "# 10. How many roles were there in the movie \"Inception\""
   ]
  },
  {
   "cell_type": "code",
   "execution_count": 53,
   "id": "a5c29149",
   "metadata": {},
   "outputs": [
    {
     "data": {
      "text/plain": [
       "78"
      ]
     },
     "execution_count": 53,
     "metadata": {},
     "output_type": "execute_result"
    }
   ],
   "source": [
    "dataframes['cast.csv'].loc[(dataframes['cast.csv']['title']=='Inception'), 'character'].count()"
   ]
  },
  {
   "cell_type": "markdown",
   "id": "238ff634",
   "metadata": {},
   "source": [
    "# 11. How many roles in the movie \"Inception\" are NOT ranked by an \"n\" value"
   ]
  },
  {
   "cell_type": "code",
   "execution_count": null,
   "id": "e77849c5",
   "metadata": {},
   "outputs": [],
   "source": []
  },
  {
   "cell_type": "markdown",
   "id": "77baf6c2",
   "metadata": {},
   "source": [
    "# 12. But how many roles in the movie \"Inception\" did receive an \"n\" value"
   ]
  },
  {
   "cell_type": "code",
   "execution_count": 75,
   "id": "8e31a611",
   "metadata": {},
   "outputs": [
    {
     "name": "stdout",
     "output_type": "stream",
     "text": [
      "Number of roles in the movie 'Inception' with an 'n' value: 27\n"
     ]
    }
   ],
   "source": [
    "import pandas as pd\n",
    "import numpy as np\n",
    "import matplotlib.pyplot\n",
    "import csv\n",
    "import math\n",
    "cast=pd.read_csv(\"cast.csv\")\n",
    "\n",
    "inception_cast = cast[(cast['title'] == 'Inception') & (cast['n'].isna())]\n",
    "number_of_roles_in_inception_with_n_value = len(inception_cast)\n",
    "print(\"Number of roles in the movie 'Inception' with an 'n' value:\", number_of_roles_in_inception_with_n_value)\n"
   ]
  },
  {
   "cell_type": "markdown",
   "id": "fec7cef3",
   "metadata": {},
   "source": [
    "# 13. Display the cast of \"North by Northwest\" in their correct \"n\"-value order, ignoring roles that did not earn a numeric \"n\" value"
   ]
  },
  {
   "cell_type": "code",
   "execution_count": 83,
   "id": "83d07892",
   "metadata": {},
   "outputs": [
    {
     "name": "stdout",
     "output_type": "stream",
     "text": [
      "Number of roles in the movie 'Inception' with an 'n' value: 51\n"
     ]
    }
   ],
   "source": [
    "inception_cast_with_n = cast[(cast['title'] == 'Inception') & (~cast['n'].\n",
    "isna())]\n",
    "number_of_roles_in_inception_with_n_value = len(inception_cast_with_n)\n",
    "print(\"Number of roles in the movie 'Inception' with an 'n' value:\",\n",
    "number_of_roles_in_inception_with_n_value)"
   ]
  },
  {
   "cell_type": "markdown",
   "id": "5d06e42b",
   "metadata": {},
   "source": [
    "# 14 . Display the entire cast, in \"n\"-order, of the 1972 film \"Sleuth\""
   ]
  },
  {
   "cell_type": "code",
   "execution_count": 85,
   "id": "6553be36",
   "metadata": {},
   "outputs": [
    {
     "name": "stdout",
     "output_type": "stream",
     "text": [
      "            n                  name\n",
      "871426    1.0            Cary Grant\n",
      "3518333   2.0       Eva Marie Saint\n",
      "1457165   3.0           James Mason\n",
      "3157232   4.0   Jessie Royce Landis\n",
      "356707    5.0        Leo G. Carroll\n",
      "3048272   6.0  Josephine Hutchinson\n",
      "1695173   7.0           Philip Ober\n",
      "1275337   8.0         Martin Landau\n",
      "2447081   9.0         Adam Williams\n",
      "1811387  10.0          Edward Platt\n",
      "665768   11.0     Robert Ellenstein\n",
      "2295714  12.0          Les Tremayne\n",
      "464736   13.0       Philip Coolidge\n",
      "1508344  14.0         Patrick McVey\n",
      "206471   15.0          Edward Binns\n",
      "1384780  16.0             Ken Lynch\n"
     ]
    },
    {
     "name": "stderr",
     "output_type": "stream",
     "text": [
      "C:\\Users\\Prakash Nani\\AppData\\Local\\Temp\\ipykernel_12844\\145714794.py:3: SettingWithCopyWarning: \n",
      "A value is trying to be set on a copy of a slice from a DataFrame.\n",
      "Try using .loc[row_indexer,col_indexer] = value instead\n",
      "\n",
      "See the caveats in the documentation: https://pandas.pydata.org/pandas-docs/stable/user_guide/indexing.html#returning-a-view-versus-a-copy\n",
      "  north_by_northwest_cast['n'] = pd.to_numeric(north_by_northwest_cast['n'])\n"
     ]
    }
   ],
   "source": [
    "north_by_northwest_cast = cast[(cast['title'] == 'North by Northwest') &\n",
    "(cast['n'].notna())]\n",
    "north_by_northwest_cast['n'] = pd.to_numeric(north_by_northwest_cast['n'])\n",
    "north_by_northwest_cast_sorted = north_by_northwest_cast.sort_values(by='n')\n",
    "print(north_by_northwest_cast_sorted[['n','name']])"
   ]
  },
  {
   "cell_type": "markdown",
   "id": "2e601719",
   "metadata": {},
   "source": [
    "# 15. Now display the entire cast, in \"n\"-order, of the 2007 version of \"Sleuth\"."
   ]
  },
  {
   "cell_type": "code",
   "execution_count": 87,
   "id": "3732ac97",
   "metadata": {},
   "outputs": [
    {
     "name": "stdout",
     "output_type": "stream",
     "text": [
      "           n                name\n",
      "326774   1.0       Michael Caine\n",
      "1705394  1.0    Laurence Olivier\n",
      "326773   2.0       Michael Caine\n",
      "1293634  2.0            Jude Law\n",
      "373876   3.0      Alec Cawthorne\n",
      "1805907  3.0       Harold Pinter\n",
      "1465483  4.0  John (II) Matthews\n",
      "2724553  5.0  Eve (III) Channing\n",
      "1448690  6.0        Teddy Martin\n"
     ]
    },
    {
     "name": "stderr",
     "output_type": "stream",
     "text": [
      "C:\\Users\\Prakash Nani\\AppData\\Local\\Temp\\ipykernel_12844\\4170791345.py:2: SettingWithCopyWarning: \n",
      "A value is trying to be set on a copy of a slice from a DataFrame.\n",
      "Try using .loc[row_indexer,col_indexer] = value instead\n",
      "\n",
      "See the caveats in the documentation: https://pandas.pydata.org/pandas-docs/stable/user_guide/indexing.html#returning-a-view-versus-a-copy\n",
      "  sleuth_1972_cast['n'] = pd.to_numeric(sleuth_1972_cast['n'])\n"
     ]
    }
   ],
   "source": [
    "sleuth_1972_cast = cast[(cast['title'] == 'Sleuth') & (cast['n'].notna())]\n",
    "sleuth_1972_cast['n'] = pd.to_numeric(sleuth_1972_cast['n'])\n",
    "sleuth_1972_cast_sorted = sleuth_1972_cast.sort_values(by='n')\n",
    "print(sleuth_1972_cast_sorted[['n','name']])"
   ]
  },
  {
   "cell_type": "markdown",
   "id": "fc40e443",
   "metadata": {},
   "source": [
    "# 16. How many roles were credited in the silent 1921 version of Hamlet"
   ]
  },
  {
   "cell_type": "code",
   "execution_count": 88,
   "id": "308b1b0f",
   "metadata": {},
   "outputs": [
    {
     "name": "stdout",
     "output_type": "stream",
     "text": [
      "           n           name\n",
      "326774   1.0  Michael Caine\n",
      "1293634  2.0       Jude Law\n",
      "1805907  3.0  Harold Pinter\n"
     ]
    },
    {
     "name": "stderr",
     "output_type": "stream",
     "text": [
      "C:\\Users\\Prakash Nani\\AppData\\Local\\Temp\\ipykernel_12844\\1729215678.py:3: SettingWithCopyWarning: \n",
      "A value is trying to be set on a copy of a slice from a DataFrame.\n",
      "Try using .loc[row_indexer,col_indexer] = value instead\n",
      "\n",
      "See the caveats in the documentation: https://pandas.pydata.org/pandas-docs/stable/user_guide/indexing.html#returning-a-view-versus-a-copy\n",
      "  sleuth_2007_cast['n'] = pd.to_numeric(sleuth_2007_cast['n'])\n"
     ]
    }
   ],
   "source": [
    "import pandas as pd\n",
    "sleuth_2007_cast = cast[(cast['title'] == 'Sleuth') & (cast['n'].notna()) & (cast['year'] == 2007)]\n",
    "sleuth_2007_cast['n'] = pd.to_numeric(sleuth_2007_cast['n'])\n",
    "sleuth_2007_cast_sorted = sleuth_2007_cast.sort_values(by='n')\n",
    "print(sleuth_2007_cast_sorted[['n','name']])"
   ]
  },
  {
   "cell_type": "markdown",
   "id": "85afa1fe",
   "metadata": {},
   "source": [
    "# 17. How many roles were credited in Branagh's 1996 Hamlet"
   ]
  },
  {
   "cell_type": "code",
   "execution_count": 89,
   "id": "e7add313",
   "metadata": {},
   "outputs": [
    {
     "name": "stdout",
     "output_type": "stream",
     "text": [
      "Number of credited roles in the silent 1921 version of 'Hamlet': 9\n"
     ]
    }
   ],
   "source": [
    "hamlet_1921_cast = cast[(cast['title'] == 'Hamlet') & (cast['year'] == 1921)]\n",
    "number_of_roles_in_hamlet_1921 = len(hamlet_1921_cast['character'].unique())\n",
    "print(\"Number of credited roles in the silent 1921 version of 'Hamlet':\",number_of_roles_in_hamlet_1921)"
   ]
  },
  {
   "cell_type": "markdown",
   "id": "c4a2e52d",
   "metadata": {},
   "source": [
    "# 18. How many \"Hamlet\" roles have been listed in all film credits through history"
   ]
  },
  {
   "cell_type": "code",
   "execution_count": 90,
   "id": "2a2d3122",
   "metadata": {},
   "outputs": [
    {
     "name": "stdout",
     "output_type": "stream",
     "text": [
      "Number of credited roles in Branagh's 1996 version of 'Hamlet': 49\n"
     ]
    }
   ],
   "source": [
    "branagh_hamlet_cast = cast[(cast['title'] == 'Hamlet') & (cast['year'] == 1996)]\n",
    "number_of_roles_in_branagh_hamlet = len(branagh_hamlet_cast['character'].unique())\n",
    "print(\"Number of credited roles in Branagh's 1996 version of 'Hamlet':\",number_of_roles_in_branagh_hamlet)"
   ]
  },
  {
   "cell_type": "markdown",
   "id": "94ad3ec1",
   "metadata": {},
   "source": [
    "# 19. How many people have played an \"Ophelia\""
   ]
  },
  {
   "cell_type": "code",
   "execution_count": 91,
   "id": "fca06984",
   "metadata": {},
   "outputs": [
    {
     "name": "stdout",
     "output_type": "stream",
     "text": [
      "Number of 'Hamlet' roles listed in all film credits through history: 112\n"
     ]
    }
   ],
   "source": [
    "hamlet_roles = cast[cast['title'] == 'Hamlet']\n",
    "number_of_hamlet_roles = len(hamlet_roles['character'].unique())\n",
    "print(\"Number of 'Hamlet' roles listed in all film credits through history:\",number_of_hamlet_roles)"
   ]
  },
  {
   "cell_type": "markdown",
   "id": "0ef2ebed",
   "metadata": {},
   "source": [
    "# 20. How many people have played a role called \"The Dude\""
   ]
  },
  {
   "cell_type": "code",
   "execution_count": 92,
   "id": "5f3cbb45",
   "metadata": {},
   "outputs": [
    {
     "name": "stdout",
     "output_type": "stream",
     "text": [
      "Number of people who have played the role of 'Ophelia': 115\n"
     ]
    }
   ],
   "source": [
    "ophelia_actors = cast[cast['character'] == 'Ophelia']\n",
    "number_of_ophelia_actors = len(ophelia_actors['name'].unique())\n",
    "print(\"Number of people who have played the role of 'Ophelia':\",number_of_ophelia_actors)"
   ]
  },
  {
   "cell_type": "markdown",
   "id": "ac849b37",
   "metadata": {},
   "source": [
    "# 21. How many people have played a role called \"The Stranger\""
   ]
  },
  {
   "cell_type": "code",
   "execution_count": 93,
   "id": "7f9f44c1",
   "metadata": {},
   "outputs": [
    {
     "name": "stdout",
     "output_type": "stream",
     "text": [
      "Number of people who have played the role of 'The Dude': 19\n"
     ]
    }
   ],
   "source": [
    "the_dude_actors = cast[cast['character'] == 'The Dude']\n",
    "number_of_the_dude_actors = len(the_dude_actors['name'].unique())\n",
    "print(\"Number of people who have played the role of 'The Dude':\",number_of_the_dude_actors)"
   ]
  },
  {
   "cell_type": "markdown",
   "id": "211fd862",
   "metadata": {},
   "source": [
    "# 22. How many roles has Sidney Poitier played throughout his career"
   ]
  },
  {
   "cell_type": "code",
   "execution_count": 94,
   "id": "ce85ddbf",
   "metadata": {},
   "outputs": [
    {
     "name": "stdout",
     "output_type": "stream",
     "text": [
      "Number of people who have played the role of 'The Stranger': 202\n"
     ]
    }
   ],
   "source": [
    "the_stranger_actors = cast[cast['character'] == 'The Stranger']\n",
    "number_of_the_stranger_actors = len(the_stranger_actors['name'].unique())\n",
    "print(\"Number of people who have played the role of 'The Stranger':\",number_of_the_stranger_actors)"
   ]
  },
  {
   "cell_type": "markdown",
   "id": "8ca37e66",
   "metadata": {},
   "source": [
    "# 23. How many roles has Judi Dench played"
   ]
  },
  {
   "cell_type": "code",
   "execution_count": 96,
   "id": "5f59c8f0",
   "metadata": {},
   "outputs": [
    {
     "name": "stdout",
     "output_type": "stream",
     "text": [
      "Number of roles played by Sidney Poitier throughout his career: 41\n"
     ]
    }
   ],
   "source": [
    "sidney_poitier_roles = cast[cast['name'] == 'Sidney Poitier']\n",
    "number_of_roles_by_sidney_poitier = len(sidney_poitier_roles['character'].unique())\n",
    "print(\"Number of roles played by Sidney Poitier throughout his career:\",number_of_roles_by_sidney_poitier)"
   ]
  },
  {
   "cell_type": "markdown",
   "id": "b00f05f9",
   "metadata": {},
   "source": [
    "# 24. List the supporting roles (having n=2) played by Cary Grant in the 1940s, in order by year"
   ]
  },
  {
   "cell_type": "code",
   "execution_count": 97,
   "id": "5eed8569",
   "metadata": {},
   "outputs": [
    {
     "name": "stdout",
     "output_type": "stream",
     "text": [
      "Number of roles played by Judi Dench throughout her career: 46\n"
     ]
    }
   ],
   "source": [
    "import pandas as pd\n",
    "judi_dench_roles = cast[cast['name'] == 'Judi Dench']\n",
    "number_of_roles_by_judi_dench = len(judi_dench_roles['character'].unique())\n",
    "print(\"Number of roles played by Judi Dench throughout her career:\",number_of_roles_by_judi_dench)"
   ]
  },
  {
   "cell_type": "markdown",
   "id": "14e2a184",
   "metadata": {},
   "source": [
    "# 25. List the leading roles that Cary Grant played in the 1940s in order by year"
   ]
  },
  {
   "cell_type": "code",
   "execution_count": 100,
   "id": "6d0483c8",
   "metadata": {},
   "outputs": [
    {
     "name": "stdout",
     "output_type": "stream",
     "text": [
      "        year    character\n",
      "871423  1940   Nick Arden\n",
      "871433  1941  Roger Adams\n"
     ]
    }
   ],
   "source": [
    "cary_grant_supporting_roles_1940s = cast[(cast['name'] == 'Cary Grant') &(cast['n'] == 2) & (cast['year'] >= 1940) & (cast['year'] <= 1949)]\n",
    "cary_grant_supporting_roles_1940s_sorted = cary_grant_supporting_roles_1940s.sort_values(by='year')\n",
    "print(cary_grant_supporting_roles_1940s_sorted[['year','character']])"
   ]
  },
  {
   "cell_type": "markdown",
   "id": "944c3489",
   "metadata": {},
   "source": [
    "# 26. How many roles were available for actors in the 1950s"
   ]
  },
  {
   "cell_type": "code",
   "execution_count": 102,
   "id": "607f9214",
   "metadata": {},
   "outputs": [
    {
     "name": "stdout",
     "output_type": "stream",
     "text": [
      "        year                             character\n",
      "871448  1940                           Matt Howard\n",
      "871407  1940                          Walter Burns\n",
      "871450  1940                    C. K. Dexter Haven\n",
      "871438  1941                      Johnnie Aysgarth\n",
      "871452  1942                          Leopold Dilg\n",
      "871429  1942                 Patrick 'Pat' O'Toole\n",
      "871398  1943                         Capt. Cassidy\n",
      "871422  1943  Joe Adams -posing as Joe Bascopolous\n",
      "871430  1944                           Jerry Flynn\n",
      "871390  1944                     Mortimer Brewster\n",
      "871425  1944                            Ernie Mott\n",
      "871424  1946                           Cole Porter\n",
      "871427  1946                                Devlin\n",
      "871444  1947                           Dick Nugent\n",
      "871445  1947                                Dudley\n",
      "871421  1948                         Jim Blandings\n",
      "871402  1948                     Dr. Madison Brown\n",
      "871411  1949                 Captain Henri Rochard\n"
     ]
    }
   ],
   "source": [
    "cary_grant_leading_roles_1940s = cast[(cast['name'] == 'Cary Grant') &(cast['n'] == 1) & (cast['year'] >= 1940) & (cast['year'] <= 1949)]\n",
    "cary_grant_leading_roles_1940s_sorted = cary_grant_leading_roles_1940s.sort_values(by='year')\n",
    "print(cary_grant_leading_roles_1940s_sorted[['year','character']])"
   ]
  },
  {
   "cell_type": "markdown",
   "id": "6cc214dd",
   "metadata": {},
   "source": [
    "# 27. How many roles were available for actresses in the 1950s"
   ]
  },
  {
   "cell_type": "code",
   "execution_count": 103,
   "id": "cf27a361",
   "metadata": {},
   "outputs": [
    {
     "name": "stdout",
     "output_type": "stream",
     "text": [
      "Number of roles available for actors in the 1950s: 128233\n"
     ]
    }
   ],
   "source": [
    "roles_in_1950s = cast[(cast['year'] >= 1950) & (cast['year'] <= 1959)]\n",
    "number_of_roles_in_1950s = len(roles_in_1950s['character'].unique())\n",
    "print(\"Number of roles available for actors in the 1950s:\",number_of_roles_in_1950s)"
   ]
  },
  {
   "cell_type": "markdown",
   "id": "2897749a",
   "metadata": {},
   "source": [
    "# 28. How many leading roles (n=1) were available from the beginning of film history through 1980"
   ]
  },
  {
   "cell_type": "code",
   "execution_count": 104,
   "id": "7afcd247",
   "metadata": {},
   "outputs": [
    {
     "name": "stdout",
     "output_type": "stream",
     "text": [
      "57733\n"
     ]
    }
   ],
   "source": [
    "actress_roles_1950s = cast[(cast['year'] >= 1950) & (cast['year'] <= 1959) &(cast['type'] == 'actress')]\n",
    "num_actress_roles_1950s = len(actress_roles_1950s)\n",
    "print(num_actress_roles_1950s)"
   ]
  },
  {
   "cell_type": "markdown",
   "id": "dd722fa0",
   "metadata": {},
   "source": [
    "# 29. How many non-leading roles were available through from the beginning of film history through 1980"
   ]
  },
  {
   "cell_type": "code",
   "execution_count": 105,
   "id": "449adcf8",
   "metadata": {},
   "outputs": [
    {
     "name": "stdout",
     "output_type": "stream",
     "text": [
      "Number of leading roles (n=1) available from the beginning of film history through 1980: 65140\n"
     ]
    }
   ],
   "source": [
    "leading_roles_until_1980 = cast[(cast['n'] == 1) & (cast['year'] <= 1980)]\n",
    "number_of_leading_roles_until_1980 = len(leading_roles_until_1980)\n",
    "print(\"Number of leading roles (n=1) available from the beginning of film history through 1980:\", number_of_leading_roles_until_1980)"
   ]
  },
  {
   "cell_type": "code",
   "execution_count": null,
   "id": "ac7c3185",
   "metadata": {},
   "outputs": [],
   "source": []
  },
  {
   "cell_type": "markdown",
   "id": "184fc984",
   "metadata": {},
   "source": [
    "# 30. How many roles through 1980 were minor enough that they did not warrant a numeric \"n\" rank"
   ]
  },
  {
   "cell_type": "code",
   "execution_count": 106,
   "id": "aa35bf97",
   "metadata": {},
   "outputs": [
    {
     "name": "stdout",
     "output_type": "stream",
     "text": [
      "Number of non-leading roles available from the beginning of film history through 1980: 1117667\n"
     ]
    }
   ],
   "source": [
    "import pandas as pd\n",
    "non_leading_roles_until_1980 = cast[(cast['n'] != 1) & (cast['year'] <= 1980)]\n",
    "number_of_non_leading_roles_until_1980 = len(non_leading_roles_until_1980)\n",
    "print(\"Number of non-leading roles available from the beginning of film history through 1980:\", number_of_non_leading_roles_until_1980)"
   ]
  },
  {
   "cell_type": "markdown",
   "id": "09374c10",
   "metadata": {},
   "source": [
    "# 31 how many roles through 1980 were minor enough that they did not warrant a numeric \"n\" rank"
   ]
  },
  {
   "cell_type": "code",
   "execution_count": 107,
   "id": "5032ec3e",
   "metadata": {},
   "outputs": [
    {
     "name": "stdout",
     "output_type": "stream",
     "text": [
      "Number of roles through 1980 that did not warrant a numeric 'n' rank: 448347\n"
     ]
    }
   ],
   "source": [
    "import numpy as np\n",
    "minor_roles_until_1980 = cast[(cast['year'] <= 1980) & (cast['n'].isna())]\n",
    "number_of_minor_roles_until_1980 = len(minor_roles_until_1980)\n",
    "print(\"Number of roles through 1980 that did not warrant a numeric 'n' rank:\",number_of_minor_roles_until_1980)"
   ]
  },
  {
   "cell_type": "code",
   "execution_count": null,
   "id": "6f20f78a",
   "metadata": {},
   "outputs": [],
   "source": []
  }
 ],
 "metadata": {
  "kernelspec": {
   "display_name": "Python 3 (ipykernel)",
   "language": "python",
   "name": "python3"
  },
  "language_info": {
   "codemirror_mode": {
    "name": "ipython",
    "version": 3
   },
   "file_extension": ".py",
   "mimetype": "text/x-python",
   "name": "python",
   "nbconvert_exporter": "python",
   "pygments_lexer": "ipython3",
   "version": "3.11.4"
  }
 },
 "nbformat": 4,
 "nbformat_minor": 5
}
