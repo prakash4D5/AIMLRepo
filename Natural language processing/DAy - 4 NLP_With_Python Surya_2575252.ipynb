{
 "cells": [
  {
   "cell_type": "markdown",
   "id": "747f362e",
   "metadata": {},
   "source": [
    "# Problem: Create Your Own Spell Checker"
   ]
  },
  {
   "cell_type": "code",
   "execution_count": 1,
   "id": "1aec3246",
   "metadata": {},
   "outputs": [
    {
     "name": "stderr",
     "output_type": "stream",
     "text": [
      "[nltk_data] Downloading package words to C:\\Users\\Prakash\n",
      "[nltk_data]     Nani\\AppData\\Roaming\\nltk_data...\n",
      "[nltk_data]   Unzipping corpora\\words.zip.\n"
     ]
    }
   ],
   "source": [
    "import nltk\n",
    "from nltk.corpus import words\n",
    "from string import punctuation\n",
    "\n",
    "nltk.download('words')\n",
    "\n",
    "valid_words = words.words()"
   ]
  },
  {
   "cell_type": "code",
   "execution_count": 2,
   "id": "2c2681fe",
   "metadata": {},
   "outputs": [
    {
     "name": "stdout",
     "output_type": "stream",
     "text": [
      "['A', 'a', 'aa', 'aal', 'aalii', 'aam', 'Aani', 'aardvark', 'aardwolf', 'Aaron']\n"
     ]
    }
   ],
   "source": [
    "print(valid_words[:10])"
   ]
  },
  {
   "cell_type": "code",
   "execution_count": 3,
   "id": "5fd0ee88",
   "metadata": {},
   "outputs": [
    {
     "name": "stdout",
     "output_type": "stream",
     "text": [
      "['emblematicize', 'ovate', 'nativist', 'mashpee', 'scotlandwards', 'soho', 'superabundant', 'unstubborn', 'kameelthorn', 'ciliary']\n"
     ]
    }
   ],
   "source": [
    "valid_words_lower = [word.lower() for word in valid_words]\n",
    "valid_words_lower = list(set(valid_words_lower))\n",
    "print(valid_words_lower[:10])"
   ]
  },
  {
   "cell_type": "code",
   "execution_count": 4,
   "id": "0d294350",
   "metadata": {},
   "outputs": [
    {
     "name": "stderr",
     "output_type": "stream",
     "text": [
      "[nltk_data] Downloading package stopwords to C:\\Users\\Prakash\n",
      "[nltk_data]     Nani\\AppData\\Roaming\\nltk_data...\n",
      "[nltk_data]   Package stopwords is already up-to-date!\n"
     ]
    }
   ],
   "source": [
    "from nltk.corpus import stopwords\n",
    "\n",
    "nltk.download('stopwords')\n",
    "\n",
    "stop_words = set(stopwords.words('english')).union(set(punctuation))"
   ]
  },
  {
   "cell_type": "code",
   "execution_count": 5,
   "id": "152689a8",
   "metadata": {},
   "outputs": [],
   "source": [
    "from nltk.metrics import edit_distance\n",
    "\n",
    "def get_correct_term(target_word, valid_words):\n",
    "    edit_distances = {}\n",
    "    for word in valid_words:\n",
    "        if word[0] == target_word[0]:\n",
    "            distance = edit_distance(target_word, word)\n",
    "            edit_distances[word] = distance\n",
    "        else:\n",
    "            continue\n",
    "    sorted_edits = sorted(edit_distances.items(), key=lambda x: x[1])\n",
    "    return sorted_edits[0][0] "
   ]
  },
  {
   "cell_type": "code",
   "execution_count": 6,
   "id": "dcb099b3",
   "metadata": {},
   "outputs": [],
   "source": [
    "valid_words_set = set(valid_words_lower)"
   ]
  },
  {
   "cell_type": "code",
   "execution_count": 7,
   "id": "c8c74db4",
   "metadata": {},
   "outputs": [],
   "source": [
    "def correct_spelling(sentence):\n",
    "    tokenized_sentence = nltk.word_tokenize(sentence.lower())\n",
    "    corrected_sentence = []\n",
    "    \n",
    "    for word in tokenized_sentence:\n",
    "        if word in valid_words_set:\n",
    "            corrected_sentence.append(word)\n",
    "        else:\n",
    "            correct_word = get_correct_term(word, valid_words_lower)\n",
    "            corrected_sentence.append(correct_word)\n",
    "    \n",
    "\n",
    "    return ' '.join(corrected_sentence)"
   ]
  },
  {
   "cell_type": "code",
   "execution_count": 9,
   "id": "519ad16b",
   "metadata": {},
   "outputs": [
    {
     "name": "stdout",
     "output_type": "stream",
     "text": [
      "apple is green colour\n"
     ]
    }
   ],
   "source": [
    "sentence = \"Applee is green colour\"\n",
    "corrected_sentence = correct_spelling(sentence)\n",
    "print(corrected_sentence)"
   ]
  },
  {
   "cell_type": "code",
   "execution_count": null,
   "id": "f83086a5",
   "metadata": {},
   "outputs": [],
   "source": []
  }
 ],
 "metadata": {
  "kernelspec": {
   "display_name": "Python 3 (ipykernel)",
   "language": "python",
   "name": "python3"
  },
  "language_info": {
   "codemirror_mode": {
    "name": "ipython",
    "version": 3
   },
   "file_extension": ".py",
   "mimetype": "text/x-python",
   "name": "python",
   "nbconvert_exporter": "python",
   "pygments_lexer": "ipython3",
   "version": "3.11.4"
  }
 },
 "nbformat": 4,
 "nbformat_minor": 5
}
