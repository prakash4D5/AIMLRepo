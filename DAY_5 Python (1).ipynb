{
 "cells": [
  {
   "cell_type": "markdown",
   "id": "fd9b641b",
   "metadata": {},
   "source": [
    "# Data base programming"
   ]
  },
  {
   "cell_type": "markdown",
   "id": "0153ec06",
   "metadata": {},
   "source": [
    "# Implement inventory management in python with MYSQL"
   ]
  },
  {
   "cell_type": "code",
   "execution_count": 88,
   "id": "295e8bd3",
   "metadata": {},
   "outputs": [
    {
     "name": "stdout",
     "output_type": "stream",
     "text": [
      "(2, '20-12-2023', 29, Decimal('50.00'))\n",
      "(5, '20-12-2023', 29, Decimal('50.00'))\n",
      "(6, '20-12-2023', 29, Decimal('50.00'))\n",
      "(7, '20-12-2023', 29, Decimal('50.00'))\n"
     ]
    }
   ],
   "source": [
    "import mysql.connector\n",
    "\n",
    "\n",
    "conn = mysql.connector.connect(host=\"127.0.0.1\", user=\"root\", password=\"Surya@4D5\", database=\"inventory\")\n",
    "cur = conn.cursor()\n",
    "\n",
    "\n",
    "proj_table = '''CREATE TABLE purchases(product_id INT, purchases_date VARCHAR(30), product_value INT, quantity INT)'''\n",
    "\n",
    "cur.execute(\"INSERT INTO purchases(product_id, purchases_date, product_value, quantity) VALUES (1, '30Aug2023', 24, 50)\")\n",
    "\n",
    "\n",
    "sal_table = '''CREATE TABLE Sales(Sales_Id INT AUTO_INCREMENT PRIMARY KEY, sale_date VARCHAR(30), product_id INT, quantity INT, total_amount INT)'''\n",
    "\n",
    "\n",
    "cur.execute(\"INSERT INTO Sales(sale_date, product_id, quantity, total_amount) VALUES('20MAY2023', 24, 50, 400)\")\n",
    "\n",
    "\n",
    "inv_table = '''CREATE TABLE Inventory(Product_Id INT, Product_name VARCHAR(100), quantity_avail INT, units DECIMAL(20, 2))'''\n",
    "\n",
    "\n",
    "cur.execute(\"INSERT INTO Inventory(Product_Id, Product_name, quantity_avail, units) VALUES (7, '20-12-2023', 29, 50.00)\")\n",
    "\n",
    "\n",
    "conn.commit()\n",
    "\n",
    "cur.execute(\"select * from Inventory\")\n",
    "#result = cur.fetchall()\n",
    "for i in cur:\n",
    "    print(i)\n"
   ]
  },
  {
   "cell_type": "markdown",
   "id": "7fa8e236",
   "metadata": {},
   "source": [
    "# 2 Customer Order Processing\n",
    "\n",
    "Scenario: You are building a customer order processing system for an e-commerce company. The system needs to interact with a MySQL database to store customer orders, products, and order details.\n",
    "\n",
    "1. Design a MySQL database schema for the order processing system, including tables for customers, products, and orders.\n",
    "\n",
    "2. Write a Python program that connects to the database and allows customers to place new orders.\n",
    "\n",
    "3. Implement a feature that calculates the total cost of an order and updates product quantities in the database.\n",
    "\n",
    "4. How would you handle cases where a product is no longer available when a customer places an order?\n",
    "\n",
    "5. Develop a function to generate order reports for the company's finance department"
   ]
  },
  {
   "cell_type": "code",
   "execution_count": null,
   "id": "ed669251",
   "metadata": {},
   "outputs": [],
   "source": [
    "import mysql.connector\n",
    "\n",
    "conn = mysql.connector.connect(host=\"127.0.0.1\", user=\"root\", password=\"Surya@4D5\", database=\"order_processing\")\n",
    "curr = conn.cursor()\n",
    "#customer_id=int(input(\"Enter the values\"))\n",
    "#product_id=int(input(\"Enter the values\"))\n",
    "#quantity_avail=int(input(\"Enter the values\"))\n",
    "\n",
    "def orders_places(customer_id, product_id, quantity_avail):\n",
    "    order_id=2\n",
    "    \n",
    "    curr.execute(\"select quantity from products where product_id = %s\", (product_id,))\n",
    "    quantity = curr.fetchone()[0]\n",
    "    if quantity >= quantity_avail:\n",
    "        curr.execute(\"select price from products where product_id = %s\", (product_id,))\n",
    "        price = curr.fetchone()[0]\n",
    "        total_price = price * quantity_avail\n",
    "        \n",
    "        \n",
    "\n",
    "        curr.execute(\"insert into orders (customer_id, order_date, status) values (%s, %s, %s)\", (customer_id, order_id, 'pending'))\n",
    "\n",
    "        order_id = curr.lastrowid\n",
    "\n",
    "        curr.execute(\"insert into customer_orders (customer_order_id, order_id, product_id, quantity_ordered, total_price) values (%s, %s, %s, %s, %s)\",\n",
    "                     (None, order_id, product_id, quantity_avail, total_price))\n",
    "\n",
    "        latest_quantity = quantity - quantity_avail\n",
    "        curr.execute(\"update products set quantity = %s where product_id = %s\", (latest_quantity, product_id))\n",
    "\n",
    "        conn.commit()\n",
    "        conn.close()\n",
    "        print(\"Order placed successfully\")\n",
    "\n",
    "orders_places(1, 1, 2)"
   ]
  },
  {
   "cell_type": "code",
   "execution_count": null,
   "id": "2b2a87d2",
   "metadata": {},
   "outputs": [],
   "source": []
  },
  {
   "cell_type": "markdown",
   "id": "d0a135f3",
   "metadata": {},
   "source": [
    "# 3. You are tasked with developing a Python program that connects to a MySQL database, retrieves data from a table, performs some operations on the data, and updates the database with the modified data. Please write Python code to accomplish this task.\n"
   ]
  },
  {
   "cell_type": "markdown",
   "id": "e5e4b0e3",
   "metadata": {},
   "source": [
    "# . Assume that you have a MySQL database server running with the following details:\n",
    "\n",
    "i. Host: localhost\n",
    "\n",
    "ii. Port: 3306\n",
    "\n",
    "iii. Username: your_username\n",
    "\n",
    "iv. Password: your_password\n",
    "\n",
    "v. Database Name: your_database\n",
    "\n",
    "vi. Table Name: your_table\n",
    "\n",
    "vii. The table has the following columns: id (int), name (varchar), quantity (int).\n",
    "\n",
    "2. Your Python program should:\n",
    "\n",
    "i. Connect to the MySQL database.\n",
    "\n",
    "ii. Retrieve all records from the your_table table.\n",
    "\n",
    "iii. Calculate the total quantity of all records retrieved.\n",
    "\n",
    "iv. Update the quantity column of each record by doubling its value.\n",
    "\n",
    "v. Commit the changes to the database.\n",
    "\n",
    "vi. Jose the database connection. Jose\n",
    "\n",
    "3. Handle any potential errors that may occur during the database connection and data manipulation, such as connection failures or SQL errors.\n",
    "\n",
    "4. Provide comments in your code to explain each step.\n"
   ]
  },
  {
   "cell_type": "code",
   "execution_count": 16,
   "id": "c9724ea7",
   "metadata": {},
   "outputs": [
    {
     "name": "stdout",
     "output_type": "stream",
     "text": [
      "<mysql.connector.connection_cext.CMySQLConnection object at 0x000001BD57BC3890>\n",
      "('books',)\n",
      "('courses',)\n",
      "('courses2',)\n",
      "('departments',)\n",
      "('employees',)\n",
      "('inventory',)\n",
      "('jobs',)\n",
      "('list',)\n",
      "('locations',)\n",
      "('pastries',)\n",
      "('people',)\n",
      "('purchases',)\n",
      "('sales',)\n",
      "('student',)\n",
      "3  rows inserted into the table\n",
      "(1, 'Laptop', 100)\n",
      "(2, 'Mobile', 60)\n",
      "(3, 'Tab', 20)\n"
     ]
    }
   ],
   "source": [
    "import mysql.connector\n",
    "\n",
    "conn=mysql.connector.connect(user='root',\n",
    "                             password='Surya@4D5',\n",
    "                             host='127.0.0.1',\n",
    "                             database='prakash'\n",
    "                            )\n",
    "print(conn)\n",
    "\n",
    "\n",
    "curs=conn.cursor()\n",
    "\n",
    "curs.execute(\"Create table List(id int primary key auto_increment , name varchar(100),quantity int)\")\n",
    "\n",
    "curs.execute(\"show tables\")\n",
    "for i in curs:\n",
    "    print(i)\n",
    "\n",
    "\n",
    "inserting_l=\"insert into List(name,quantity) values(%s, %s)\"\n",
    "inserting_info=[('Laptop', 50), ('Mobile',30), ('Tab',10)]\n",
    "\n",
    "curs.executemany(inserting_l,inserting_info)\n",
    "\n",
    "\n",
    "print(curs.rowcount,\" rows inserted into the table\")\n",
    "\n",
    "\n",
    "\n",
    "selecting_l=\"select id,name,quantity from List\"\n",
    "curs.execute(selecting_l)\n",
    "\n",
    "count=curs.fetchall()\n",
    "\n",
    "quantity_t=sum(i[2] for i in count)\n",
    "\n",
    "updating_l=\"update List set quantity = quantity*2\"\n",
    "\n",
    "curs.execute(updating_l)\n",
    "\n",
    "conn.commit()\n",
    "\n",
    "\n",
    "curs.execute(\"select * from List\")\n",
    "for i in curs:\n",
    "    print(i)"
   ]
  },
  {
   "cell_type": "code",
   "execution_count": null,
   "id": "609f94c9",
   "metadata": {},
   "outputs": [],
   "source": []
  },
  {
   "cell_type": "markdown",
   "id": "6106f38a",
   "metadata": {},
   "source": [
    "# 4 your dev a employee management system for a company the databse should store employee information including name and salary department and hire date"
   ]
  },
  {
   "cell_type": "code",
   "execution_count": 14,
   "id": "de576393",
   "metadata": {},
   "outputs": [
    {
     "ename": "DatabaseError",
     "evalue": "1205 (HY000): Lock wait timeout exceeded; try restarting transaction",
     "output_type": "error",
     "traceback": [
      "\u001b[1;31m---------------------------------------------------------------------------\u001b[0m",
      "\u001b[1;31mMySQLInterfaceError\u001b[0m                       Traceback (most recent call last)",
      "File \u001b[1;32m~\\anaconda3\\Lib\\site-packages\\mysql\\connector\\connection_cext.py:633\u001b[0m, in \u001b[0;36mCMySQLConnection.cmd_query\u001b[1;34m(self, query, raw, buffered, raw_as_string)\u001b[0m\n\u001b[0;32m    632\u001b[0m         query \u001b[38;5;241m=\u001b[39m query\u001b[38;5;241m.\u001b[39mencode(\u001b[38;5;124m\"\u001b[39m\u001b[38;5;124mutf-8\u001b[39m\u001b[38;5;124m\"\u001b[39m)\n\u001b[1;32m--> 633\u001b[0m     \u001b[38;5;28mself\u001b[39m\u001b[38;5;241m.\u001b[39m_cmysql\u001b[38;5;241m.\u001b[39mquery(\n\u001b[0;32m    634\u001b[0m         query,\n\u001b[0;32m    635\u001b[0m         raw\u001b[38;5;241m=\u001b[39mraw,\n\u001b[0;32m    636\u001b[0m         buffered\u001b[38;5;241m=\u001b[39mbuffered,\n\u001b[0;32m    637\u001b[0m         raw_as_string\u001b[38;5;241m=\u001b[39mraw_as_string,\n\u001b[0;32m    638\u001b[0m         query_attrs\u001b[38;5;241m=\u001b[39m\u001b[38;5;28mself\u001b[39m\u001b[38;5;241m.\u001b[39mquery_attrs,\n\u001b[0;32m    639\u001b[0m     )\n\u001b[0;32m    640\u001b[0m \u001b[38;5;28;01mexcept\u001b[39;00m MySQLInterfaceError \u001b[38;5;28;01mas\u001b[39;00m err:\n",
      "\u001b[1;31mMySQLInterfaceError\u001b[0m: Lock wait timeout exceeded; try restarting transaction",
      "\nThe above exception was the direct cause of the following exception:\n",
      "\u001b[1;31mDatabaseError\u001b[0m                             Traceback (most recent call last)",
      "Cell \u001b[1;32mIn[14], line 14\u001b[0m\n\u001b[0;32m      6\u001b[0m current_table \u001b[38;5;241m=\u001b[39m \u001b[38;5;124m\"\u001b[39m\u001b[38;5;124mINSERT INTO employee_details (Employee_Id, Employee_name, Employee_salary, Hire_Date) VALUES (\u001b[39m\u001b[38;5;132;01m%s\u001b[39;00m\u001b[38;5;124m, \u001b[39m\u001b[38;5;132;01m%s\u001b[39;00m\u001b[38;5;124m, \u001b[39m\u001b[38;5;132;01m%s\u001b[39;00m\u001b[38;5;124m, \u001b[39m\u001b[38;5;132;01m%s\u001b[39;00m\u001b[38;5;124m)\u001b[39m\u001b[38;5;124m\"\u001b[39m\n\u001b[0;32m      7\u001b[0m data \u001b[38;5;241m=\u001b[39m [\n\u001b[0;32m      8\u001b[0m     (\u001b[38;5;241m2571\u001b[39m, \u001b[38;5;124m'\u001b[39m\u001b[38;5;124mPrakash Nani\u001b[39m\u001b[38;5;124m'\u001b[39m, \u001b[38;5;241m40000\u001b[39m, \u001b[38;5;124m'\u001b[39m\u001b[38;5;124m16-AUG-2023\u001b[39m\u001b[38;5;124m'\u001b[39m),\n\u001b[0;32m      9\u001b[0m     (\u001b[38;5;241m2572\u001b[39m, \u001b[38;5;124m'\u001b[39m\u001b[38;5;124mSravan Kumar\u001b[39m\u001b[38;5;124m'\u001b[39m, \u001b[38;5;241m40000\u001b[39m, \u001b[38;5;124m'\u001b[39m\u001b[38;5;124m16-AUG-2023\u001b[39m\u001b[38;5;124m'\u001b[39m),\n\u001b[0;32m     10\u001b[0m     (\u001b[38;5;241m2573\u001b[39m, \u001b[38;5;124m'\u001b[39m\u001b[38;5;124mSri Ram\u001b[39m\u001b[38;5;124m'\u001b[39m, \u001b[38;5;241m40000\u001b[39m, \u001b[38;5;124m'\u001b[39m\u001b[38;5;124m16-AUG-2023\u001b[39m\u001b[38;5;124m'\u001b[39m),\n\u001b[0;32m     11\u001b[0m     (\u001b[38;5;241m2574\u001b[39m, \u001b[38;5;124m'\u001b[39m\u001b[38;5;124mSurya\u001b[39m\u001b[38;5;124m'\u001b[39m, \u001b[38;5;241m40000\u001b[39m, \u001b[38;5;124m'\u001b[39m\u001b[38;5;124m16-AUG-2023\u001b[39m\u001b[38;5;124m'\u001b[39m)\n\u001b[0;32m     12\u001b[0m ]\n\u001b[1;32m---> 14\u001b[0m curr\u001b[38;5;241m.\u001b[39mexecutemany(current_table, data)\n\u001b[0;32m     15\u001b[0m result\u001b[38;5;241m=\u001b[39mcurr\u001b[38;5;241m.\u001b[39mfetchall()\n\u001b[0;32m     16\u001b[0m \u001b[38;5;28;01mfor\u001b[39;00m i \u001b[38;5;129;01min\u001b[39;00m result:\n",
      "File \u001b[1;32m~\\anaconda3\\Lib\\site-packages\\mysql\\connector\\cursor_cext.py:455\u001b[0m, in \u001b[0;36mCMySQLCursor.executemany\u001b[1;34m(self, operation, seq_params)\u001b[0m\n\u001b[0;32m    453\u001b[0m     \u001b[38;5;28;01mif\u001b[39;00m stmt \u001b[38;5;129;01mis\u001b[39;00m \u001b[38;5;129;01mnot\u001b[39;00m \u001b[38;5;28;01mNone\u001b[39;00m:\n\u001b[0;32m    454\u001b[0m         \u001b[38;5;28mself\u001b[39m\u001b[38;5;241m.\u001b[39m_executed \u001b[38;5;241m=\u001b[39m stmt\n\u001b[1;32m--> 455\u001b[0m         \u001b[38;5;28;01mreturn\u001b[39;00m \u001b[38;5;28mself\u001b[39m\u001b[38;5;241m.\u001b[39mexecute(stmt)\n\u001b[0;32m    457\u001b[0m rowcnt \u001b[38;5;241m=\u001b[39m \u001b[38;5;241m0\u001b[39m\n\u001b[0;32m    458\u001b[0m \u001b[38;5;28;01mtry\u001b[39;00m:\n\u001b[0;32m    459\u001b[0m     \u001b[38;5;66;03m# When processing read ops (e.g., SELECT), rowcnt is updated\u001b[39;00m\n\u001b[0;32m    460\u001b[0m     \u001b[38;5;66;03m# based on self._rowcount. For write ops (e.g., INSERT) is\u001b[39;00m\n\u001b[0;32m    461\u001b[0m     \u001b[38;5;66;03m# updated based on self._affected_rows.\u001b[39;00m\n\u001b[0;32m    462\u001b[0m     \u001b[38;5;66;03m# The variable self._description is None for write ops, that's\u001b[39;00m\n\u001b[0;32m    463\u001b[0m     \u001b[38;5;66;03m# why we use it as indicator for updating rowcnt.\u001b[39;00m\n",
      "File \u001b[1;32m~\\anaconda3\\Lib\\site-packages\\mysql\\connector\\cursor_cext.py:330\u001b[0m, in \u001b[0;36mCMySQLCursor.execute\u001b[1;34m(self, operation, params, multi)\u001b[0m\n\u001b[0;32m    325\u001b[0m             \u001b[38;5;28;01mraise\u001b[39;00m ProgrammingError(\n\u001b[0;32m    326\u001b[0m                 \u001b[38;5;124m\"\u001b[39m\u001b[38;5;124mNot all parameters were used in the SQL statement\u001b[39m\u001b[38;5;124m\"\u001b[39m\n\u001b[0;32m    327\u001b[0m             )\n\u001b[0;32m    329\u001b[0m \u001b[38;5;28;01mtry\u001b[39;00m:\n\u001b[1;32m--> 330\u001b[0m     result \u001b[38;5;241m=\u001b[39m \u001b[38;5;28mself\u001b[39m\u001b[38;5;241m.\u001b[39m_cnx\u001b[38;5;241m.\u001b[39mcmd_query(\n\u001b[0;32m    331\u001b[0m         stmt,\n\u001b[0;32m    332\u001b[0m         raw\u001b[38;5;241m=\u001b[39m\u001b[38;5;28mself\u001b[39m\u001b[38;5;241m.\u001b[39m_raw,\n\u001b[0;32m    333\u001b[0m         buffered\u001b[38;5;241m=\u001b[39m\u001b[38;5;28mself\u001b[39m\u001b[38;5;241m.\u001b[39m_buffered,\n\u001b[0;32m    334\u001b[0m         raw_as_string\u001b[38;5;241m=\u001b[39m\u001b[38;5;28mself\u001b[39m\u001b[38;5;241m.\u001b[39m_raw_as_string,\n\u001b[0;32m    335\u001b[0m     )\n\u001b[0;32m    336\u001b[0m \u001b[38;5;28;01mexcept\u001b[39;00m MySQLInterfaceError \u001b[38;5;28;01mas\u001b[39;00m err:\n\u001b[0;32m    337\u001b[0m     \u001b[38;5;28;01mraise\u001b[39;00m get_mysql_exception(\n\u001b[0;32m    338\u001b[0m         msg\u001b[38;5;241m=\u001b[39merr\u001b[38;5;241m.\u001b[39mmsg, errno\u001b[38;5;241m=\u001b[39merr\u001b[38;5;241m.\u001b[39merrno, sqlstate\u001b[38;5;241m=\u001b[39merr\u001b[38;5;241m.\u001b[39msqlstate\n\u001b[0;32m    339\u001b[0m     ) \u001b[38;5;28;01mfrom\u001b[39;00m \u001b[38;5;21;01merr\u001b[39;00m\n",
      "File \u001b[1;32m~\\anaconda3\\Lib\\site-packages\\mysql\\connector\\opentelemetry\\context_propagation.py:77\u001b[0m, in \u001b[0;36mwith_context_propagation.<locals>.wrapper\u001b[1;34m(cnx, *args, **kwargs)\u001b[0m\n\u001b[0;32m     75\u001b[0m \u001b[38;5;250m\u001b[39m\u001b[38;5;124;03m\"\"\"Context propagation decorator.\"\"\"\u001b[39;00m\n\u001b[0;32m     76\u001b[0m \u001b[38;5;28;01mif\u001b[39;00m \u001b[38;5;129;01mnot\u001b[39;00m OTEL_ENABLED \u001b[38;5;129;01mor\u001b[39;00m \u001b[38;5;129;01mnot\u001b[39;00m cnx\u001b[38;5;241m.\u001b[39motel_context_propagation:\n\u001b[1;32m---> 77\u001b[0m     \u001b[38;5;28;01mreturn\u001b[39;00m method(cnx, \u001b[38;5;241m*\u001b[39margs, \u001b[38;5;241m*\u001b[39m\u001b[38;5;241m*\u001b[39mkwargs)\n\u001b[0;32m     79\u001b[0m current_span \u001b[38;5;241m=\u001b[39m trace\u001b[38;5;241m.\u001b[39mget_current_span()\n\u001b[0;32m     80\u001b[0m tp_header \u001b[38;5;241m=\u001b[39m \u001b[38;5;28;01mNone\u001b[39;00m\n",
      "File \u001b[1;32m~\\anaconda3\\Lib\\site-packages\\mysql\\connector\\connection_cext.py:641\u001b[0m, in \u001b[0;36mCMySQLConnection.cmd_query\u001b[1;34m(self, query, raw, buffered, raw_as_string)\u001b[0m\n\u001b[0;32m    633\u001b[0m     \u001b[38;5;28mself\u001b[39m\u001b[38;5;241m.\u001b[39m_cmysql\u001b[38;5;241m.\u001b[39mquery(\n\u001b[0;32m    634\u001b[0m         query,\n\u001b[0;32m    635\u001b[0m         raw\u001b[38;5;241m=\u001b[39mraw,\n\u001b[1;32m   (...)\u001b[0m\n\u001b[0;32m    638\u001b[0m         query_attrs\u001b[38;5;241m=\u001b[39m\u001b[38;5;28mself\u001b[39m\u001b[38;5;241m.\u001b[39mquery_attrs,\n\u001b[0;32m    639\u001b[0m     )\n\u001b[0;32m    640\u001b[0m \u001b[38;5;28;01mexcept\u001b[39;00m MySQLInterfaceError \u001b[38;5;28;01mas\u001b[39;00m err:\n\u001b[1;32m--> 641\u001b[0m     \u001b[38;5;28;01mraise\u001b[39;00m get_mysql_exception(\n\u001b[0;32m    642\u001b[0m         err\u001b[38;5;241m.\u001b[39merrno, msg\u001b[38;5;241m=\u001b[39merr\u001b[38;5;241m.\u001b[39mmsg, sqlstate\u001b[38;5;241m=\u001b[39merr\u001b[38;5;241m.\u001b[39msqlstate\n\u001b[0;32m    643\u001b[0m     ) \u001b[38;5;28;01mfrom\u001b[39;00m \u001b[38;5;21;01merr\u001b[39;00m\n\u001b[0;32m    644\u001b[0m \u001b[38;5;28;01mexcept\u001b[39;00m \u001b[38;5;167;01mAttributeError\u001b[39;00m \u001b[38;5;28;01mas\u001b[39;00m err:\n\u001b[0;32m    645\u001b[0m     addr \u001b[38;5;241m=\u001b[39m (\n\u001b[0;32m    646\u001b[0m         \u001b[38;5;28mself\u001b[39m\u001b[38;5;241m.\u001b[39m_unix_socket \u001b[38;5;28;01mif\u001b[39;00m \u001b[38;5;28mself\u001b[39m\u001b[38;5;241m.\u001b[39m_unix_socket \u001b[38;5;28;01melse\u001b[39;00m \u001b[38;5;124mf\u001b[39m\u001b[38;5;124m\"\u001b[39m\u001b[38;5;132;01m{\u001b[39;00m\u001b[38;5;28mself\u001b[39m\u001b[38;5;241m.\u001b[39m_host\u001b[38;5;132;01m}\u001b[39;00m\u001b[38;5;124m:\u001b[39m\u001b[38;5;132;01m{\u001b[39;00m\u001b[38;5;28mself\u001b[39m\u001b[38;5;241m.\u001b[39m_port\u001b[38;5;132;01m}\u001b[39;00m\u001b[38;5;124m\"\u001b[39m\n\u001b[0;32m    647\u001b[0m     )\n",
      "\u001b[1;31mDatabaseError\u001b[0m: 1205 (HY000): Lock wait timeout exceeded; try restarting transaction"
     ]
    }
   ],
   "source": [
    "import mysql.connector\n",
    "\n",
    "conn = mysql.connector.connect(host=\"127.0.0.1\", user=\"root\", password=\"Surya@4D5\", database=\"employee_management\")\n",
    "curr = conn.cursor()\n",
    "#create_table = '''CREATE TABLE employee_details(Employee_Id int PRIMARY KEY, Employee_name varchar(50), Employee_salary BIGINT, Hire_Date varchar(200))'''\n",
    "current_table = \"INSERT INTO employee_details (Employee_Id, Employee_name, Employee_salary, Hire_Date) VALUES (%s, %s, %s, %s)\"\n",
    "data = [\n",
    "    (2571, 'Prakash Nani', 40000, '16-AUG-2023'),\n",
    "    (2572, 'Sravan Kumar', 40000, '16-AUG-2023'),\n",
    "    (2573, 'Sri Ram', 40000, '16-AUG-2023'),\n",
    "    (2574, 'Surya', 40000, '16-AUG-2023')\n",
    "]\n",
    "\n",
    "curr.executemany(current_table, data)\n",
    "result=curr.fetchall()\n",
    "for i in result:\n",
    "    print(i)\n",
    "    \n",
    "    \n",
    "conn.commit()\n",
    "\n",
    "\n",
    "\n",
    "\n"
   ]
  },
  {
   "cell_type": "code",
   "execution_count": null,
   "id": "7d082f51",
   "metadata": {},
   "outputs": [],
   "source": [
    "curr.executemany(current_table, data)\n",
    "result=curr.fetchall()\n",
    "for i in result:\n",
    "    print(i)"
   ]
  },
  {
   "cell_type": "code",
   "execution_count": null,
   "id": "ac32f3df",
   "metadata": {},
   "outputs": [],
   "source": [
    "def get_employee_by_id(employee_id):\n",
    "    select_query = \"SELECT * FROM employee_details WHERE Employee_Id = %s\"\n",
    "    curr.execute(select_query, (employee_id,))\n",
    "    return curr.fetchall()       "
   ]
  },
  {
   "cell_type": "code",
   "execution_count": null,
   "id": "7f8a1f5f",
   "metadata": {},
   "outputs": [],
   "source": [
    "def update_salary(employee_id, salary):\n",
    "    update_query = \"UPDATE employee_details SET Employee_salary = %s WHERE Employee_Id = %s\"\n",
    "    curr.execute(update_query, (salary, employee_id))\n",
    "    conn.commit()\n"
   ]
  },
  {
   "cell_type": "code",
   "execution_count": 15,
   "id": "e94c0868",
   "metadata": {},
   "outputs": [
    {
     "name": "stdout",
     "output_type": "stream",
     "text": [
      "(25752, 'Prakash Nani', 40000, '16-AUG-2023')\n",
      "(25753, 'Sravan Kumar', 40000, '16-AUG-2023')\n",
      "(25754, 'Sri Ram', 40000, '16-AUG-2023')\n",
      "(25755, 'Surya', 40000, '16-AUG-2023')\n",
      "(25756, 'Prakash Nani', 40000, '16-AUG-2023')\n",
      "(25757, 'Sravan Kumar', 40000, '16-AUG-2023')\n",
      "(25758, 'Sri Ram', 40000, '16-AUG-2023')\n",
      "(25759, 'Surya', 40000, '16-AUG-2023')\n",
      "(257510, 'Prakash Nani', 40000, '16-AUG-2023')\n",
      "(257517, 'Sravan Kumar', 40000, '16-AUG-2023')\n",
      "(257518, 'Sri Ram', 40000, '16-AUG-2023')\n",
      "(257519, 'Surya', 40000, '16-AUG-2023')\n"
     ]
    }
   ],
   "source": [
    "employee_id = 257\n",
    "new_salary = 45000\n",
    "\n",
    "curr.execute('select * from employee_details')\n",
    "r=curr.fetchall()\n",
    "for i in r:\n",
    "    print(i)\n",
    "\n"
   ]
  },
  {
   "cell_type": "markdown",
   "id": "d5f2b33b",
   "metadata": {},
   "source": [
    "# modules and virtual environments"
   ]
  },
  {
   "cell_type": "markdown",
   "id": "3cb4fdfe",
   "metadata": {},
   "source": [
    "# 1 Module Import and Management Scenario: You are developing a complex Python project with multiple modules. To manage the project effectively, you need to import and use various modules. Additionally, you want to organize your code using namespaces and avoid naming conflicts.\n",
    "\n",
    "Design a Python program that demonstrates the following:\n",
    "\n",
    "1. Import multiple modules within your project.\n",
    "\n",
    "2. Use the import statement to access functions, classes, and variables from imported modules.\n",
    "\n",
    "3. Create your custom module and use it in your main program.\n",
    "\n",
    "4. Handle naming conflicts and ensure proper namespacing. 5. Implement error handling for missing modules or incorrect module usage."
   ]
  },
  {
   "cell_type": "code",
   "execution_count": 19,
   "id": "c80e3168",
   "metadata": {
    "scrolled": true
   },
   "outputs": [],
   "source": [
    "from py_module import custom_function, CustomClass\n"
   ]
  },
  {
   "cell_type": "code",
   "execution_count": 32,
   "id": "689bdfe5",
   "metadata": {},
   "outputs": [
    {
     "data": {
      "text/plain": [
       "'This is a custom function from py_module.py'"
      ]
     },
     "execution_count": 32,
     "metadata": {},
     "output_type": "execute_result"
    }
   ],
   "source": [
    "custom_function()"
   ]
  },
  {
   "cell_type": "code",
   "execution_count": 15,
   "id": "348689a0",
   "metadata": {},
   "outputs": [],
   "source": [
    "def custom_function():\n",
    "    return \"This is a custom function from py_module.py\"\n",
    "\n",
    "\n",
    "custom_variable = \"This is a custom variable from py_module.py\"\n",
    "\n",
    "\n",
    "class CustomClass:\n",
    "    def __init__(self):\n",
    "        self.message = \"This is an instance of CustomClass from project_module.py\"\n",
    "\n",
    "    def custom_method(self):\n",
    "        return \"This is a custom method in CustomClass\"\n",
    "    \n"
   ]
  },
  {
   "cell_type": "code",
   "execution_count": null,
   "id": "4f0c22c8",
   "metadata": {},
   "outputs": [],
   "source": [
    "\n",
    "import math\n",
    "import random\n",
    "import py_module\n",
    "\n",
    "\n",
    "square_root = math.sqrt(25)\n",
    "random_number = random.randint(1, 10)\n",
    "\n",
    "\n",
    "custom_result = py_module.custom_function()\n",
    "custom_variable_value = py_module.custom_variable\n",
    "custom_instance = py_module.CustomClass()\n",
    "\n",
    "\n",
    "print(f\"Square root of 25: {square_root}\")\n",
    "print(f\"Random number between 1 and 10: {random_number}\")\n",
    "print(f\"Custom function result: {custom_result}\")\n",
    "print(f\"Custom variable value: {custom_variable_value}\")\n",
    "print(f\"Custom class message: {custom_instance.message}\")\n",
    "print(f\"Custom class method result: {custom_instance.custom_method()}\")\n"
   ]
  },
  {
   "cell_type": "code",
   "execution_count": null,
   "id": "b9fbb41f",
   "metadata": {},
   "outputs": [],
   "source": []
  },
  {
   "cell_type": "markdown",
   "id": "4c0eec6f",
   "metadata": {},
   "source": [
    "# 2 modules import and management\n",
    "design a python program that demonstrates the folloing"
   ]
  },
  {
   "cell_type": "code",
   "execution_count": null,
   "id": "59ba66dc",
   "metadata": {},
   "outputs": [],
   "source": [
    "import subprocess\n",
    "import sys\n",
    "import os\n",
    "\n",
    "def create_prakash_nani_env(env_name):\n",
    "    try:\n",
    "        subprocess.run([sys.executable, '-m', 'venv', env_name])\n",
    "        print(f\"Virtual environment '{env_name}' created successfully.\")\n",
    "    except subprocess.CalledProcessError as e:\n",
    "        print(f\"Error: Failed to create the virtual environment. {e}\")\n",
    "\n",
    "def activate_prakash_nani_env(env_name):\n",
    "    try:\n",
    "        activate_script = os.path.join(env_name, 'Scripts' if os.name == 'nt' else 'bin', 'activate')\n",
    "        subprocess.run([activate_script], shell=True)\n",
    "        print(f\"Activated virtual environment '{env_name}'.\")\n",
    "    except FileNotFoundError:\n",
    "        print(f\"Error: Virtual environment '{env_name}' not found.\")\n",
    "\n",
    "def deactivate_prakash_nani_env():\n",
    "    try:\n",
    "        subprocess.run(['deactivate'], shell=True)\n",
    "        print(\"Deactivated the virtual environment.\")\n",
    "    except subprocess.CalledProcessError as e:\n",
    "         print(f\"Error: Failed to deactivate the virtual environment. {e}\")\n",
    "\n",
    "def install_package(env_name, package_name):\n",
    "    try:\n",
    "         subprocess.run([f'{env_name}/bin/pip', 'install', package_name])\n",
    "            print(f\"Installed '{package_name}' in '{env_name}'.\")\n",
    "    except subprocess.CalledProcessError as e:\n",
    "        print(f\"Error: Failed to install the package. {e}\")\n",
    "\n",
    "def upgrade_package(env_name, package_name):\n",
    "    try:\n",
    "        subprocess.run([f'{env_name}/bin/pip', 'install', '--upgrade', package_name])\n",
    "        print(f\"Upgraded '{package_name}' in '{env_name}'.\")\n",
    "    except subprocess.CalledProcessError as e:\n",
    "        print(f\"Error: Failed to upgrade the package. {e}\")\n",
    "\n",
    "def uninstall_package(env_name, package_name):\n",
    "    try:\n",
    "        subprocess.run([f'{env_name}/bin/pip', 'uninstall', '-y', package_name])\n",
    "        print(f\"Uninstalled '{package_name}' from '{env_name}'.\")\n",
    "    except subprocess.CalledProcessError as e:\n",
    "        print(f\"Error: Failed to uninstall the package. {e}\")\n",
    "\n",
    "def list_installed_packages(env_name):\n",
    "    try:\n",
    "        result = subprocess.run([f'{env_name}/bin/pip', 'list'], capture_output=True, text=True)\n",
    "        print(f\"Installed packages in '{env_name}':\\n{result.stdout}\")\n",
    "    except subprocess.CalledProcessError as e:\n",
    "        print(f\"Error: Failed to list installed packages. {e}\")\n",
    "\n",
    "env_name = \"prakash_nani_env\"\n",
    "package_name = \"numpy\"\n",
    "\n",
    "create_prakash_nani_env(env_name)\n",
    "activate_prakash_nani_env(env_name)\n",
    "install_package(env_name, package_name)\n",
    "list_installed_packages(env_name)\n",
    "upgrade_package(env_name, package_name)\n",
    "list_installed_packages(env_name)\n",
    "uninstall_package(env_name, package_name)\n",
    "list_installed_packages(env_name)\n"
   ]
  },
  {
   "cell_type": "markdown",
   "id": "9c12f056",
   "metadata": {},
   "source": [
    "# 3 virtual environment management"
   ]
  },
  {
   "cell_type": "code",
   "execution_count": 2,
   "id": "a5507adf",
   "metadata": {},
   "outputs": [],
   "source": [
    "import subprocess\n",
    "\n",
    "def dep_install():\n",
    "    try:\n",
    "        subprocess.run(['pip', 'install', '-r', 'requirements.txt'])\n",
    "        print(\"All dependencies installed successfully.\")\n",
    "    except subprocess.CalledProcessError as e:\n",
    "        print(f\"Error: Failed to install dependencies. {e}\")\n",
    "\n",
    "\n",
    "    dep_install()"
   ]
  },
  {
   "cell_type": "code",
   "execution_count": null,
   "id": "86675b54",
   "metadata": {},
   "outputs": [],
   "source": [
    "numpy==1.18.5\n",
    "pandas==1.3.3\n",
    "requests==2.26.0"
   ]
  }
 ],
 "metadata": {
  "kernelspec": {
   "display_name": "Python 3 (ipykernel)",
   "language": "python",
   "name": "python3"
  },
  "language_info": {
   "codemirror_mode": {
    "name": "ipython",
    "version": 3
   },
   "file_extension": ".py",
   "mimetype": "text/x-python",
   "name": "python",
   "nbconvert_exporter": "python",
   "pygments_lexer": "ipython3",
   "version": "3.11.4"
  }
 },
 "nbformat": 4,
 "nbformat_minor": 5
}
