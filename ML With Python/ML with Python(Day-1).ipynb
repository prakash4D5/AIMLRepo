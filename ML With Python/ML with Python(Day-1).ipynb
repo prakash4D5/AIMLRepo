{
 "cells": [
  {
   "cell_type": "markdown",
   "id": "d0db11e4",
   "metadata": {},
   "source": [
    "# simple linear regression"
   ]
  },
  {
   "cell_type": "code",
   "execution_count": null,
   "id": "509296ac",
   "metadata": {},
   "outputs": [],
   "source": []
  },
  {
   "cell_type": "code",
   "execution_count": 13,
   "id": "f1e83c8a",
   "metadata": {},
   "outputs": [],
   "source": [
    "import warnings\n",
    "import numpy as np\n",
    "import pandas as pd\n",
    "import matplotlib.pyplot as plt\n",
    "import seaborn as sns"
   ]
  },
  {
   "cell_type": "code",
   "execution_count": 21,
   "id": "8bd31f58",
   "metadata": {},
   "outputs": [
    {
     "data": {
      "text/html": [
       "<div>\n",
       "<style scoped>\n",
       "    .dataframe tbody tr th:only-of-type {\n",
       "        vertical-align: middle;\n",
       "    }\n",
       "\n",
       "    .dataframe tbody tr th {\n",
       "        vertical-align: top;\n",
       "    }\n",
       "\n",
       "    .dataframe thead th {\n",
       "        text-align: right;\n",
       "    }\n",
       "</style>\n",
       "<table border=\"1\" class=\"dataframe\">\n",
       "  <thead>\n",
       "    <tr style=\"text-align: right;\">\n",
       "      <th></th>\n",
       "      <th>bed</th>\n",
       "      <th>bathroom</th>\n",
       "      <th>house_size</th>\n",
       "      <th>price</th>\n",
       "      <th>acre_lot</th>\n",
       "    </tr>\n",
       "  </thead>\n",
       "  <tbody>\n",
       "    <tr>\n",
       "      <th>0</th>\n",
       "      <td>3.0</td>\n",
       "      <td>2.0</td>\n",
       "      <td>920.0</td>\n",
       "      <td>105000.0</td>\n",
       "      <td>0.12</td>\n",
       "    </tr>\n",
       "    <tr>\n",
       "      <th>1</th>\n",
       "      <td>4.0</td>\n",
       "      <td>2.0</td>\n",
       "      <td>1527.0</td>\n",
       "      <td>80000.0</td>\n",
       "      <td>0.08</td>\n",
       "    </tr>\n",
       "    <tr>\n",
       "      <th>2</th>\n",
       "      <td>2.0</td>\n",
       "      <td>1.0</td>\n",
       "      <td>748.0</td>\n",
       "      <td>67000.0</td>\n",
       "      <td>0.15</td>\n",
       "    </tr>\n",
       "    <tr>\n",
       "      <th>3</th>\n",
       "      <td>4.0</td>\n",
       "      <td>2.0</td>\n",
       "      <td>1800.0</td>\n",
       "      <td>145000.0</td>\n",
       "      <td>0.10</td>\n",
       "    </tr>\n",
       "    <tr>\n",
       "      <th>4</th>\n",
       "      <td>6.0</td>\n",
       "      <td>2.0</td>\n",
       "      <td>NaN</td>\n",
       "      <td>65000.0</td>\n",
       "      <td>0.05</td>\n",
       "    </tr>\n",
       "    <tr>\n",
       "      <th>...</th>\n",
       "      <td>...</td>\n",
       "      <td>...</td>\n",
       "      <td>...</td>\n",
       "      <td>...</td>\n",
       "      <td>...</td>\n",
       "    </tr>\n",
       "    <tr>\n",
       "      <th>904961</th>\n",
       "      <td>2.0</td>\n",
       "      <td>2.0</td>\n",
       "      <td>NaN</td>\n",
       "      <td>359000.0</td>\n",
       "      <td>NaN</td>\n",
       "    </tr>\n",
       "    <tr>\n",
       "      <th>904962</th>\n",
       "      <td>2.0</td>\n",
       "      <td>2.0</td>\n",
       "      <td>1200.0</td>\n",
       "      <td>299000.0</td>\n",
       "      <td>NaN</td>\n",
       "    </tr>\n",
       "    <tr>\n",
       "      <th>904963</th>\n",
       "      <td>NaN</td>\n",
       "      <td>1.0</td>\n",
       "      <td>NaN</td>\n",
       "      <td>120000.0</td>\n",
       "      <td>NaN</td>\n",
       "    </tr>\n",
       "    <tr>\n",
       "      <th>904964</th>\n",
       "      <td>3.0</td>\n",
       "      <td>2.0</td>\n",
       "      <td>NaN</td>\n",
       "      <td>449000.0</td>\n",
       "      <td>NaN</td>\n",
       "    </tr>\n",
       "    <tr>\n",
       "      <th>904965</th>\n",
       "      <td>3.0</td>\n",
       "      <td>3.0</td>\n",
       "      <td>1677.0</td>\n",
       "      <td>850000.0</td>\n",
       "      <td>NaN</td>\n",
       "    </tr>\n",
       "  </tbody>\n",
       "</table>\n",
       "<p>904966 rows × 5 columns</p>\n",
       "</div>"
      ],
      "text/plain": [
       "        bed  bathroom  house_size     price  acre_lot\n",
       "0       3.0       2.0       920.0  105000.0      0.12\n",
       "1       4.0       2.0      1527.0   80000.0      0.08\n",
       "2       2.0       1.0       748.0   67000.0      0.15\n",
       "3       4.0       2.0      1800.0  145000.0      0.10\n",
       "4       6.0       2.0         NaN   65000.0      0.05\n",
       "...     ...       ...         ...       ...       ...\n",
       "904961  2.0       2.0         NaN  359000.0       NaN\n",
       "904962  2.0       2.0      1200.0  299000.0       NaN\n",
       "904963  NaN       1.0         NaN  120000.0       NaN\n",
       "904964  3.0       2.0         NaN  449000.0       NaN\n",
       "904965  3.0       3.0      1677.0  850000.0       NaN\n",
       "\n",
       "[904966 rows x 5 columns]"
      ]
     },
     "execution_count": 21,
     "metadata": {},
     "output_type": "execute_result"
    }
   ],
   "source": [
    "data = pd.read_csv('realtor-data.csv')\n",
    "data"
   ]
  },
  {
   "cell_type": "code",
   "execution_count": 7,
   "id": "0aaa2df3",
   "metadata": {},
   "outputs": [
    {
     "data": {
      "text/plain": [
       "array([[<Axes: title={'center': 'bed'}>,\n",
       "        <Axes: title={'center': 'bathroom'}>],\n",
       "       [<Axes: title={'center': 'acre_lot'}>,\n",
       "        <Axes: title={'center': 'house_size'}>],\n",
       "       [<Axes: title={'center': 'price'}>, <Axes: >]], dtype=object)"
      ]
     },
     "execution_count": 7,
     "metadata": {},
     "output_type": "execute_result"
    },
    {
     "data": {
      "image/png": "[encoded data removed]",
      "text/plain": [
       "<Figure size 640x480 with 6 Axes>"
      ]
     },
     "metadata": {},
     "output_type": "display_data"
    }
   ],
   "source": [
    "data.hist()\n"
   ]
  },
  {
   "cell_type": "code",
   "execution_count": 9,
   "id": "a589dbc2",
   "metadata": {},
   "outputs": [
    {
     "data": {
      "text/html": [
       "<div>\n",
       "<style scoped>\n",
       "    .dataframe tbody tr th:only-of-type {\n",
       "        vertical-align: middle;\n",
       "    }\n",
       "\n",
       "    .dataframe tbody tr th {\n",
       "        vertical-align: top;\n",
       "    }\n",
       "\n",
       "    .dataframe thead th {\n",
       "        text-align: right;\n",
       "    }\n",
       "</style>\n",
       "<table border=\"1\" class=\"dataframe\">\n",
       "  <thead>\n",
       "    <tr style=\"text-align: right;\">\n",
       "      <th></th>\n",
       "      <th>bed</th>\n",
       "      <th>bathroom</th>\n",
       "      <th>acre_lot</th>\n",
       "      <th>house_size</th>\n",
       "      <th>price</th>\n",
       "    </tr>\n",
       "  </thead>\n",
       "  <tbody>\n",
       "    <tr>\n",
       "      <th>count</th>\n",
       "      <td>775126.000000</td>\n",
       "      <td>791082.000000</td>\n",
       "      <td>638324.000000</td>\n",
       "      <td>6.120800e+05</td>\n",
       "      <td>9.048950e+05</td>\n",
       "    </tr>\n",
       "    <tr>\n",
       "      <th>mean</th>\n",
       "      <td>3.332190</td>\n",
       "      <td>2.484236</td>\n",
       "      <td>17.317292</td>\n",
       "      <td>2.138437e+03</td>\n",
       "      <td>8.774382e+05</td>\n",
       "    </tr>\n",
       "    <tr>\n",
       "      <th>std</th>\n",
       "      <td>2.065312</td>\n",
       "      <td>1.931622</td>\n",
       "      <td>970.707378</td>\n",
       "      <td>3.046600e+03</td>\n",
       "      <td>2.457698e+06</td>\n",
       "    </tr>\n",
       "    <tr>\n",
       "      <th>min</th>\n",
       "      <td>1.000000</td>\n",
       "      <td>1.000000</td>\n",
       "      <td>0.000000</td>\n",
       "      <td>1.000000e+02</td>\n",
       "      <td>0.000000e+00</td>\n",
       "    </tr>\n",
       "    <tr>\n",
       "      <th>25%</th>\n",
       "      <td>2.000000</td>\n",
       "      <td>2.000000</td>\n",
       "      <td>0.110000</td>\n",
       "      <td>1.132000e+03</td>\n",
       "      <td>2.685000e+05</td>\n",
       "    </tr>\n",
       "    <tr>\n",
       "      <th>50%</th>\n",
       "      <td>3.000000</td>\n",
       "      <td>2.000000</td>\n",
       "      <td>0.290000</td>\n",
       "      <td>1.650000e+03</td>\n",
       "      <td>4.750000e+05</td>\n",
       "    </tr>\n",
       "    <tr>\n",
       "      <th>75%</th>\n",
       "      <td>4.000000</td>\n",
       "      <td>3.000000</td>\n",
       "      <td>1.150000</td>\n",
       "      <td>2.495000e+03</td>\n",
       "      <td>8.300000e+05</td>\n",
       "    </tr>\n",
       "    <tr>\n",
       "      <th>max</th>\n",
       "      <td>123.000000</td>\n",
       "      <td>198.000000</td>\n",
       "      <td>100000.000000</td>\n",
       "      <td>1.450112e+06</td>\n",
       "      <td>8.750000e+08</td>\n",
       "    </tr>\n",
       "  </tbody>\n",
       "</table>\n",
       "</div>"
      ],
      "text/plain": [
       "                 bed       bathroom       acre_lot    house_size         price\n",
       "count  775126.000000  791082.000000  638324.000000  6.120800e+05  9.048950e+05\n",
       "mean        3.332190       2.484236      17.317292  2.138437e+03  8.774382e+05\n",
       "std         2.065312       1.931622     970.707378  3.046600e+03  2.457698e+06\n",
       "min         1.000000       1.000000       0.000000  1.000000e+02  0.000000e+00\n",
       "25%         2.000000       2.000000       0.110000  1.132000e+03  2.685000e+05\n",
       "50%         3.000000       2.000000       0.290000  1.650000e+03  4.750000e+05\n",
       "75%         4.000000       3.000000       1.150000  2.495000e+03  8.300000e+05\n",
       "max       123.000000     198.000000  100000.000000  1.450112e+06  8.750000e+08"
      ]
     },
     "execution_count": 9,
     "metadata": {},
     "output_type": "execute_result"
    }
   ],
   "source": [
    "data.describe()"
   ]
  },
  {
   "cell_type": "code",
   "execution_count": 10,
   "id": "757091d9",
   "metadata": {},
   "outputs": [
    {
     "data": {
      "text/plain": [
       "bed           129840\n",
       "bathroom      113884\n",
       "acre_lot      266642\n",
       "house_size    292886\n",
       "price             71\n",
       "dtype: int64"
      ]
     },
     "execution_count": 10,
     "metadata": {},
     "output_type": "execute_result"
    }
   ],
   "source": [
    "data.isna().sum()"
   ]
  },
  {
   "cell_type": "code",
   "execution_count": 22,
   "id": "ef34f67b",
   "metadata": {},
   "outputs": [
    {
     "data": {
      "text/plain": [
       "bed            0\n",
       "bathroom       0\n",
       "house_size     0\n",
       "price          0\n",
       "acre_lot      25\n",
       "dtype: int64"
      ]
     },
     "execution_count": 22,
     "metadata": {},
     "output_type": "execute_result"
    }
   ],
   "source": [
    "data = data.fillna(method='bfill')\n",
    "data.isna().sum()"
   ]
  },
  {
   "cell_type": "code",
   "execution_count": 29,
   "id": "2caebd38",
   "metadata": {},
   "outputs": [
    {
     "data": {
      "text/html": [
       "<div>\n",
       "<style scoped>\n",
       "    .dataframe tbody tr th:only-of-type {\n",
       "        vertical-align: middle;\n",
       "    }\n",
       "\n",
       "    .dataframe tbody tr th {\n",
       "        vertical-align: top;\n",
       "    }\n",
       "\n",
       "    .dataframe thead th {\n",
       "        text-align: right;\n",
       "    }\n",
       "</style>\n",
       "<table border=\"1\" class=\"dataframe\">\n",
       "  <thead>\n",
       "    <tr style=\"text-align: right;\">\n",
       "      <th></th>\n",
       "      <th>house_size</th>\n",
       "    </tr>\n",
       "  </thead>\n",
       "  <tbody>\n",
       "    <tr>\n",
       "      <th>0</th>\n",
       "      <td>920.0</td>\n",
       "    </tr>\n",
       "    <tr>\n",
       "      <th>1</th>\n",
       "      <td>1527.0</td>\n",
       "    </tr>\n",
       "    <tr>\n",
       "      <th>2</th>\n",
       "      <td>748.0</td>\n",
       "    </tr>\n",
       "    <tr>\n",
       "      <th>3</th>\n",
       "      <td>1800.0</td>\n",
       "    </tr>\n",
       "    <tr>\n",
       "      <th>4</th>\n",
       "      <td>2520.0</td>\n",
       "    </tr>\n",
       "    <tr>\n",
       "      <th>...</th>\n",
       "      <td>...</td>\n",
       "    </tr>\n",
       "    <tr>\n",
       "      <th>904961</th>\n",
       "      <td>1200.0</td>\n",
       "    </tr>\n",
       "    <tr>\n",
       "      <th>904962</th>\n",
       "      <td>1200.0</td>\n",
       "    </tr>\n",
       "    <tr>\n",
       "      <th>904963</th>\n",
       "      <td>1677.0</td>\n",
       "    </tr>\n",
       "    <tr>\n",
       "      <th>904964</th>\n",
       "      <td>1677.0</td>\n",
       "    </tr>\n",
       "    <tr>\n",
       "      <th>904965</th>\n",
       "      <td>1677.0</td>\n",
       "    </tr>\n",
       "  </tbody>\n",
       "</table>\n",
       "<p>904966 rows × 1 columns</p>\n",
       "</div>"
      ],
      "text/plain": [
       "        house_size\n",
       "0            920.0\n",
       "1           1527.0\n",
       "2            748.0\n",
       "3           1800.0\n",
       "4           2520.0\n",
       "...            ...\n",
       "904961      1200.0\n",
       "904962      1200.0\n",
       "904963      1677.0\n",
       "904964      1677.0\n",
       "904965      1677.0\n",
       "\n",
       "[904966 rows x 1 columns]"
      ]
     },
     "execution_count": 29,
     "metadata": {},
     "output_type": "execute_result"
    }
   ],
   "source": [
    "x=data.iloc[:,2:3]\n",
    "x"
   ]
  },
  {
   "cell_type": "code",
   "execution_count": 30,
   "id": "1526909e",
   "metadata": {},
   "outputs": [
    {
     "data": {
      "text/html": [
       "<div>\n",
       "<style scoped>\n",
       "    .dataframe tbody tr th:only-of-type {\n",
       "        vertical-align: middle;\n",
       "    }\n",
       "\n",
       "    .dataframe tbody tr th {\n",
       "        vertical-align: top;\n",
       "    }\n",
       "\n",
       "    .dataframe thead th {\n",
       "        text-align: right;\n",
       "    }\n",
       "</style>\n",
       "<table border=\"1\" class=\"dataframe\">\n",
       "  <thead>\n",
       "    <tr style=\"text-align: right;\">\n",
       "      <th></th>\n",
       "      <th>price</th>\n",
       "    </tr>\n",
       "  </thead>\n",
       "  <tbody>\n",
       "    <tr>\n",
       "      <th>0</th>\n",
       "      <td>105000.0</td>\n",
       "    </tr>\n",
       "    <tr>\n",
       "      <th>1</th>\n",
       "      <td>80000.0</td>\n",
       "    </tr>\n",
       "    <tr>\n",
       "      <th>2</th>\n",
       "      <td>67000.0</td>\n",
       "    </tr>\n",
       "    <tr>\n",
       "      <th>3</th>\n",
       "      <td>145000.0</td>\n",
       "    </tr>\n",
       "    <tr>\n",
       "      <th>4</th>\n",
       "      <td>65000.0</td>\n",
       "    </tr>\n",
       "    <tr>\n",
       "      <th>...</th>\n",
       "      <td>...</td>\n",
       "    </tr>\n",
       "    <tr>\n",
       "      <th>904961</th>\n",
       "      <td>359000.0</td>\n",
       "    </tr>\n",
       "    <tr>\n",
       "      <th>904962</th>\n",
       "      <td>299000.0</td>\n",
       "    </tr>\n",
       "    <tr>\n",
       "      <th>904963</th>\n",
       "      <td>120000.0</td>\n",
       "    </tr>\n",
       "    <tr>\n",
       "      <th>904964</th>\n",
       "      <td>449000.0</td>\n",
       "    </tr>\n",
       "    <tr>\n",
       "      <th>904965</th>\n",
       "      <td>850000.0</td>\n",
       "    </tr>\n",
       "  </tbody>\n",
       "</table>\n",
       "<p>904966 rows × 1 columns</p>\n",
       "</div>"
      ],
      "text/plain": [
       "           price\n",
       "0       105000.0\n",
       "1        80000.0\n",
       "2        67000.0\n",
       "3       145000.0\n",
       "4        65000.0\n",
       "...          ...\n",
       "904961  359000.0\n",
       "904962  299000.0\n",
       "904963  120000.0\n",
       "904964  449000.0\n",
       "904965  850000.0\n",
       "\n",
       "[904966 rows x 1 columns]"
      ]
     },
     "execution_count": 30,
     "metadata": {},
     "output_type": "execute_result"
    }
   ],
   "source": [
    "y=data.iloc[:,3:4]\n",
    "y"
   ]
  },
  {
   "cell_type": "code",
   "execution_count": 31,
   "id": "da97c3fa",
   "metadata": {},
   "outputs": [
    {
     "data": {
      "text/html": [
       "<div>\n",
       "<style scoped>\n",
       "    .dataframe tbody tr th:only-of-type {\n",
       "        vertical-align: middle;\n",
       "    }\n",
       "\n",
       "    .dataframe tbody tr th {\n",
       "        vertical-align: top;\n",
       "    }\n",
       "\n",
       "    .dataframe thead th {\n",
       "        text-align: right;\n",
       "    }\n",
       "</style>\n",
       "<table border=\"1\" class=\"dataframe\">\n",
       "  <thead>\n",
       "    <tr style=\"text-align: right;\">\n",
       "      <th></th>\n",
       "      <th>bed</th>\n",
       "      <th>bathroom</th>\n",
       "      <th>house_size</th>\n",
       "      <th>price</th>\n",
       "      <th>acre_lot</th>\n",
       "    </tr>\n",
       "  </thead>\n",
       "  <tbody>\n",
       "    <tr>\n",
       "      <th>bed</th>\n",
       "      <td>1.000000</td>\n",
       "      <td>0.695746</td>\n",
       "      <td>0.283310</td>\n",
       "      <td>0.141371</td>\n",
       "      <td>-0.001132</td>\n",
       "    </tr>\n",
       "    <tr>\n",
       "      <th>bathroom</th>\n",
       "      <td>0.695746</td>\n",
       "      <td>1.000000</td>\n",
       "      <td>0.294406</td>\n",
       "      <td>0.249953</td>\n",
       "      <td>-0.000148</td>\n",
       "    </tr>\n",
       "    <tr>\n",
       "      <th>house_size</th>\n",
       "      <td>0.283310</td>\n",
       "      <td>0.294406</td>\n",
       "      <td>1.000000</td>\n",
       "      <td>0.121250</td>\n",
       "      <td>0.028770</td>\n",
       "    </tr>\n",
       "    <tr>\n",
       "      <th>price</th>\n",
       "      <td>0.141371</td>\n",
       "      <td>0.249953</td>\n",
       "      <td>0.121250</td>\n",
       "      <td>1.000000</td>\n",
       "      <td>0.000348</td>\n",
       "    </tr>\n",
       "    <tr>\n",
       "      <th>acre_lot</th>\n",
       "      <td>-0.001132</td>\n",
       "      <td>-0.000148</td>\n",
       "      <td>0.028770</td>\n",
       "      <td>0.000348</td>\n",
       "      <td>1.000000</td>\n",
       "    </tr>\n",
       "  </tbody>\n",
       "</table>\n",
       "</div>"
      ],
      "text/plain": [
       "                 bed  bathroom  house_size     price  acre_lot\n",
       "bed         1.000000  0.695746    0.283310  0.141371 -0.001132\n",
       "bathroom    0.695746  1.000000    0.294406  0.249953 -0.000148\n",
       "house_size  0.283310  0.294406    1.000000  0.121250  0.028770\n",
       "price       0.141371  0.249953    0.121250  1.000000  0.000348\n",
       "acre_lot   -0.001132 -0.000148    0.028770  0.000348  1.000000"
      ]
     },
     "execution_count": 31,
     "metadata": {},
     "output_type": "execute_result"
    }
   ],
   "source": [
    "data.corr()"
   ]
  },
  {
   "cell_type": "code",
   "execution_count": 32,
   "id": "50d426fd",
   "metadata": {},
   "outputs": [
    {
     "data": {
      "image/png": "[encoded data removed]",
      "text/plain": [
       "<Figure size 640x480 with 1 Axes>"
      ]
     },
     "metadata": {},
     "output_type": "display_data"
    }
   ],
   "source": [
    "plt.scatter(x,y)\n",
    "plt.title('prakash info')\n",
    "plt.xlabel('no of classes')\n",
    "plt.ylabel('total pay')\n",
    "plt.show()"
   ]
  },
  {
   "cell_type": "code",
   "execution_count": 58,
   "id": "f2ffca07",
   "metadata": {},
   "outputs": [],
   "source": [
    "import sklearn\n",
    "from sklearn.model_selection import train_test_split\n",
    "xtrain,xtest,ytrain,ytest=train_test_split(x,y,test_size=0.2,random_state=42)"
   ]
  },
  {
   "cell_type": "code",
   "execution_count": null,
   "id": "b8292fad",
   "metadata": {},
   "outputs": [],
   "source": []
  },
  {
   "cell_type": "code",
   "execution_count": 34,
   "id": "249e4589",
   "metadata": {},
   "outputs": [
    {
     "data": {
      "text/plain": [
       "(904966, 5)"
      ]
     },
     "execution_count": 34,
     "metadata": {},
     "output_type": "execute_result"
    }
   ],
   "source": [
    "data.shape"
   ]
  },
  {
   "cell_type": "code",
   "execution_count": 36,
   "id": "89081786",
   "metadata": {},
   "outputs": [
    {
     "data": {
      "text/plain": [
       "(723972, 1)"
      ]
     },
     "execution_count": 36,
     "metadata": {},
     "output_type": "execute_result"
    }
   ],
   "source": [
    "xtrain.shape"
   ]
  },
  {
   "cell_type": "code",
   "execution_count": 37,
   "id": "5f85ead1",
   "metadata": {},
   "outputs": [
    {
     "data": {
      "text/plain": [
       "(180994, 1)"
      ]
     },
     "execution_count": 37,
     "metadata": {},
     "output_type": "execute_result"
    }
   ],
   "source": [
    "xtest.shape"
   ]
  },
  {
   "cell_type": "code",
   "execution_count": 59,
   "id": "e0cb3117",
   "metadata": {},
   "outputs": [
    {
     "name": "stdout",
     "output_type": "stream",
     "text": [
      "The predictied values are\n",
      "  [[ 566458.53552738]\n",
      " [ 757591.91379808]\n",
      " [ 466025.65500536]\n",
      " ...\n",
      " [1046326.33079736]\n",
      " [ 756507.37864315]\n",
      " [1087719.42254397]]\n"
     ]
    }
   ],
   "source": [
    "from sklearn.linear_model import LinearRegression\n",
    "lin_reg=LinearRegression()\n",
    "lin_reg.fit(xtrain,ytrain)\n",
    "ypred = lin_reg.predict(xtest)\n",
    "print(\"The predictied values are\\n \", ypred)"
   ]
  },
  {
   "cell_type": "code",
   "execution_count": 42,
   "id": "48e2cf2e",
   "metadata": {},
   "outputs": [
    {
     "data": {
      "text/html": [
       "<div>\n",
       "<style scoped>\n",
       "    .dataframe tbody tr th:only-of-type {\n",
       "        vertical-align: middle;\n",
       "    }\n",
       "\n",
       "    .dataframe tbody tr th {\n",
       "        vertical-align: top;\n",
       "    }\n",
       "\n",
       "    .dataframe thead th {\n",
       "        text-align: right;\n",
       "    }\n",
       "</style>\n",
       "<table border=\"1\" class=\"dataframe\">\n",
       "  <thead>\n",
       "    <tr style=\"text-align: right;\">\n",
       "      <th></th>\n",
       "      <th>price</th>\n",
       "    </tr>\n",
       "  </thead>\n",
       "  <tbody>\n",
       "    <tr>\n",
       "      <th>213901</th>\n",
       "      <td>-2.446498e+05</td>\n",
       "    </tr>\n",
       "    <tr>\n",
       "      <th>746686</th>\n",
       "      <td>-4.657129e+06</td>\n",
       "    </tr>\n",
       "    <tr>\n",
       "      <th>627173</th>\n",
       "      <td>-4.455632e+05</td>\n",
       "    </tr>\n",
       "    <tr>\n",
       "      <th>472382</th>\n",
       "      <td>-2.842316e+05</td>\n",
       "    </tr>\n",
       "    <tr>\n",
       "      <th>681630</th>\n",
       "      <td>-7.695333e+05</td>\n",
       "    </tr>\n",
       "    <tr>\n",
       "      <th>...</th>\n",
       "      <td>...</td>\n",
       "    </tr>\n",
       "    <tr>\n",
       "      <th>786066</th>\n",
       "      <td>-8.272431e+04</td>\n",
       "    </tr>\n",
       "    <tr>\n",
       "      <th>297173</th>\n",
       "      <td>9.490014e+05</td>\n",
       "    </tr>\n",
       "    <tr>\n",
       "      <th>392271</th>\n",
       "      <td>-5.074804e+05</td>\n",
       "    </tr>\n",
       "    <tr>\n",
       "      <th>299576</th>\n",
       "      <td>-3.000559e+05</td>\n",
       "    </tr>\n",
       "    <tr>\n",
       "      <th>180211</th>\n",
       "      <td>3.518899e+05</td>\n",
       "    </tr>\n",
       "  </tbody>\n",
       "</table>\n",
       "<p>180994 rows × 1 columns</p>\n",
       "</div>"
      ],
      "text/plain": [
       "               price\n",
       "213901 -2.446498e+05\n",
       "746686 -4.657129e+06\n",
       "627173 -4.455632e+05\n",
       "472382 -2.842316e+05\n",
       "681630 -7.695333e+05\n",
       "...              ...\n",
       "786066 -8.272431e+04\n",
       "297173  9.490014e+05\n",
       "392271 -5.074804e+05\n",
       "299576 -3.000559e+05\n",
       "180211  3.518899e+05\n",
       "\n",
       "[180994 rows x 1 columns]"
      ]
     },
     "execution_count": 42,
     "metadata": {},
     "output_type": "execute_result"
    }
   ],
   "source": [
    "diff = ytest - ypred\n",
    "diff"
   ]
  },
  {
   "cell_type": "code",
   "execution_count": 43,
   "id": "813d6bc9",
   "metadata": {},
   "outputs": [
    {
     "data": {
      "image/png": "[encoded data removed]",
      "text/plain": [
       "<Figure size 640x480 with 1 Axes>"
      ]
     },
     "metadata": {},
     "output_type": "display_data"
    }
   ],
   "source": [
    "plt.scatter(xtrain,ytrain,color='yellow')\n",
    "plt.plot(xtrain,lin_reg.predict(xtrain),color='red')\n",
    "plt.title('Automobile')\n",
    "plt.xlabel('no of claims')\n",
    "plt.ylabel('Total Payouts')\n",
    "plt.show()"
   ]
  },
  {
   "cell_type": "code",
   "execution_count": 44,
   "id": "bcab1944",
   "metadata": {},
   "outputs": [
    {
     "data": {
      "image/png": "[encoded data removed]",
      "text/plain": [
       "<Figure size 640x480 with 1 Axes>"
      ]
     },
     "metadata": {},
     "output_type": "display_data"
    }
   ],
   "source": [
    "plt.scatter(xtrain,ytrain,color='yellow')\n",
    "plt.plot(xtest,lin_reg.predict(xtest),color='red')\n",
    "plt.title('Automobile')\n",
    "plt.xlabel('no of claims')\n",
    "plt.ylabel('Total Payouts')\n",
    "plt.show()"
   ]
  },
  {
   "cell_type": "code",
   "execution_count": 47,
   "id": "cc550f33",
   "metadata": {},
   "outputs": [
    {
     "name": "stdout",
     "output_type": "stream",
     "text": [
      "Mean Squared Error: \t 3675927474569.5884\n",
      "\n",
      "RMSE: \t 1917270.8401708894\n",
      "\n",
      "Variance Score:\t -0.008293406135486237\n",
      "\n",
      "R_Square: \t -0.008306225274245627\n"
     ]
    }
   ],
   "source": [
    "from sklearn.metrics import mean_squared_error\n",
    "from sklearn.metrics import r2_score\n",
    "from sklearn.metrics import explained_variance_score\n",
    "print('Mean Squared Error: \\t', mean_squared_error(ytest, ypred))\n",
    "print()\n",
    "print('RMSE: \\t', np.sqrt(mean_squared_error(ytest,ypred)))\n",
    "print()\n",
    "print('Variance Score:\\t',explained_variance_score (ytest,ypred))\n",
    "print()\n",
    "print('R_Square: \\t', r2_score(ytest,ypred))"
   ]
  },
  {
   "cell_type": "code",
   "execution_count": 53,
   "id": "6e9f174a",
   "metadata": {},
   "outputs": [
    {
     "data": {
      "text/html": [
       "<div>\n",
       "<style scoped>\n",
       "    .dataframe tbody tr th:only-of-type {\n",
       "        vertical-align: middle;\n",
       "    }\n",
       "\n",
       "    .dataframe tbody tr th {\n",
       "        vertical-align: top;\n",
       "    }\n",
       "\n",
       "    .dataframe thead th {\n",
       "        text-align: right;\n",
       "    }\n",
       "</style>\n",
       "<table border=\"1\" class=\"dataframe\">\n",
       "  <thead>\n",
       "    <tr style=\"text-align: right;\">\n",
       "      <th></th>\n",
       "      <th>bed</th>\n",
       "      <th>bathroom</th>\n",
       "      <th>house_size</th>\n",
       "    </tr>\n",
       "  </thead>\n",
       "  <tbody>\n",
       "    <tr>\n",
       "      <th>0</th>\n",
       "      <td>3.0</td>\n",
       "      <td>2.0</td>\n",
       "      <td>920.0</td>\n",
       "    </tr>\n",
       "    <tr>\n",
       "      <th>1</th>\n",
       "      <td>4.0</td>\n",
       "      <td>2.0</td>\n",
       "      <td>1527.0</td>\n",
       "    </tr>\n",
       "    <tr>\n",
       "      <th>2</th>\n",
       "      <td>2.0</td>\n",
       "      <td>1.0</td>\n",
       "      <td>748.0</td>\n",
       "    </tr>\n",
       "    <tr>\n",
       "      <th>3</th>\n",
       "      <td>4.0</td>\n",
       "      <td>2.0</td>\n",
       "      <td>1800.0</td>\n",
       "    </tr>\n",
       "    <tr>\n",
       "      <th>4</th>\n",
       "      <td>6.0</td>\n",
       "      <td>2.0</td>\n",
       "      <td>2520.0</td>\n",
       "    </tr>\n",
       "    <tr>\n",
       "      <th>...</th>\n",
       "      <td>...</td>\n",
       "      <td>...</td>\n",
       "      <td>...</td>\n",
       "    </tr>\n",
       "    <tr>\n",
       "      <th>904961</th>\n",
       "      <td>2.0</td>\n",
       "      <td>2.0</td>\n",
       "      <td>1200.0</td>\n",
       "    </tr>\n",
       "    <tr>\n",
       "      <th>904962</th>\n",
       "      <td>2.0</td>\n",
       "      <td>2.0</td>\n",
       "      <td>1200.0</td>\n",
       "    </tr>\n",
       "    <tr>\n",
       "      <th>904963</th>\n",
       "      <td>3.0</td>\n",
       "      <td>1.0</td>\n",
       "      <td>1677.0</td>\n",
       "    </tr>\n",
       "    <tr>\n",
       "      <th>904964</th>\n",
       "      <td>3.0</td>\n",
       "      <td>2.0</td>\n",
       "      <td>1677.0</td>\n",
       "    </tr>\n",
       "    <tr>\n",
       "      <th>904965</th>\n",
       "      <td>3.0</td>\n",
       "      <td>3.0</td>\n",
       "      <td>1677.0</td>\n",
       "    </tr>\n",
       "  </tbody>\n",
       "</table>\n",
       "<p>904966 rows × 3 columns</p>\n",
       "</div>"
      ],
      "text/plain": [
       "        bed  bathroom  house_size\n",
       "0       3.0       2.0       920.0\n",
       "1       4.0       2.0      1527.0\n",
       "2       2.0       1.0       748.0\n",
       "3       4.0       2.0      1800.0\n",
       "4       6.0       2.0      2520.0\n",
       "...     ...       ...         ...\n",
       "904961  2.0       2.0      1200.0\n",
       "904962  2.0       2.0      1200.0\n",
       "904963  3.0       1.0      1677.0\n",
       "904964  3.0       2.0      1677.0\n",
       "904965  3.0       3.0      1677.0\n",
       "\n",
       "[904966 rows x 3 columns]"
      ]
     },
     "execution_count": 53,
     "metadata": {},
     "output_type": "execute_result"
    }
   ],
   "source": [
    "x=data.iloc[:,0:3]\n",
    "x"
   ]
  },
  {
   "cell_type": "code",
   "execution_count": 52,
   "id": "3ae2bb06",
   "metadata": {},
   "outputs": [
    {
     "data": {
      "text/html": [
       "<div>\n",
       "<style scoped>\n",
       "    .dataframe tbody tr th:only-of-type {\n",
       "        vertical-align: middle;\n",
       "    }\n",
       "\n",
       "    .dataframe tbody tr th {\n",
       "        vertical-align: top;\n",
       "    }\n",
       "\n",
       "    .dataframe thead th {\n",
       "        text-align: right;\n",
       "    }\n",
       "</style>\n",
       "<table border=\"1\" class=\"dataframe\">\n",
       "  <thead>\n",
       "    <tr style=\"text-align: right;\">\n",
       "      <th></th>\n",
       "      <th>price</th>\n",
       "    </tr>\n",
       "  </thead>\n",
       "  <tbody>\n",
       "    <tr>\n",
       "      <th>0</th>\n",
       "      <td>105000.0</td>\n",
       "    </tr>\n",
       "    <tr>\n",
       "      <th>1</th>\n",
       "      <td>80000.0</td>\n",
       "    </tr>\n",
       "    <tr>\n",
       "      <th>2</th>\n",
       "      <td>67000.0</td>\n",
       "    </tr>\n",
       "    <tr>\n",
       "      <th>3</th>\n",
       "      <td>145000.0</td>\n",
       "    </tr>\n",
       "    <tr>\n",
       "      <th>4</th>\n",
       "      <td>65000.0</td>\n",
       "    </tr>\n",
       "    <tr>\n",
       "      <th>...</th>\n",
       "      <td>...</td>\n",
       "    </tr>\n",
       "    <tr>\n",
       "      <th>904961</th>\n",
       "      <td>359000.0</td>\n",
       "    </tr>\n",
       "    <tr>\n",
       "      <th>904962</th>\n",
       "      <td>299000.0</td>\n",
       "    </tr>\n",
       "    <tr>\n",
       "      <th>904963</th>\n",
       "      <td>120000.0</td>\n",
       "    </tr>\n",
       "    <tr>\n",
       "      <th>904964</th>\n",
       "      <td>449000.0</td>\n",
       "    </tr>\n",
       "    <tr>\n",
       "      <th>904965</th>\n",
       "      <td>850000.0</td>\n",
       "    </tr>\n",
       "  </tbody>\n",
       "</table>\n",
       "<p>904966 rows × 1 columns</p>\n",
       "</div>"
      ],
      "text/plain": [
       "           price\n",
       "0       105000.0\n",
       "1        80000.0\n",
       "2        67000.0\n",
       "3       145000.0\n",
       "4        65000.0\n",
       "...          ...\n",
       "904961  359000.0\n",
       "904962  299000.0\n",
       "904963  120000.0\n",
       "904964  449000.0\n",
       "904965  850000.0\n",
       "\n",
       "[904966 rows x 1 columns]"
      ]
     },
     "execution_count": 52,
     "metadata": {},
     "output_type": "execute_result"
    }
   ],
   "source": [
    "y=data.iloc[:,3:4]\n",
    "y"
   ]
  },
  {
   "cell_type": "code",
   "execution_count": 54,
   "id": "24308f79",
   "metadata": {},
   "outputs": [],
   "source": [
    "import sklearn\n",
    "from sklearn.model_selection import train_test_split\n",
    "xtrain,xtest,ytrain,ytest=train_test_split(x,y,test_size=0.2,random_state=42)"
   ]
  },
  {
   "cell_type": "code",
   "execution_count": 55,
   "id": "e9da0c5e",
   "metadata": {},
   "outputs": [
    {
     "name": "stdout",
     "output_type": "stream",
     "text": [
      "The predictied values are\n",
      "  [[ 566458.53552738]\n",
      " [ 757591.91379808]\n",
      " [ 466025.65500536]\n",
      " ...\n",
      " [1046326.33079736]\n",
      " [ 756507.37864315]\n",
      " [1087719.42254397]]\n"
     ]
    }
   ],
   "source": [
    "from sklearn.linear_model import LinearRegression\n",
    "lin_reg=LinearRegression()\n",
    "lin_reg.fit(xtrain,ytrain)\n",
    "ypred = lin_reg.predict(xtest)\n",
    "print(\"The predictied values are\\n \", ypred)"
   ]
  },
  {
   "cell_type": "code",
   "execution_count": 57,
   "id": "f5a3324c",
   "metadata": {},
   "outputs": [
    {
     "name": "stdout",
     "output_type": "stream",
     "text": [
      "Mean Squared Error: \t 3117962259558.435\n",
      "\n",
      "RMSE: \t 1765775.2573751947\n",
      "\n",
      "Variance Score:\t 0.11913739417648395\n",
      "\n",
      "R_Square: \t 0.11913608052129454\n"
     ]
    }
   ],
   "source": [
    "from sklearn.metrics import mean_squared_error\n",
    "from sklearn.metrics import r2_score\n",
    "from sklearn.metrics import explained_variance_score\n",
    "print('Mean Squared Error: \\t', mean_squared_error(ytest, ypred))\n",
    "print()\n",
    "print('RMSE: \\t', np.sqrt(mean_squared_error(ytest,ypred)))\n",
    "print()\n",
    "print('Variance Score:\\t',explained_variance_score (ytest,ypred))\n",
    "print()\n",
    "print('R_Square: \\t', r2_score(ytest,ypred))"
   ]
  },
  {
   "cell_type": "code",
   "execution_count": null,
   "id": "eb20176c",
   "metadata": {},
   "outputs": [],
   "source": []
  }
 ],
 "metadata": {
  "kernelspec": {
   "display_name": "Python 3 (ipykernel)",
   "language": "python",
   "name": "python3"
  },
  "language_info": {
   "codemirror_mode": {
    "name": "ipython",
    "version": 3
   },
   "file_extension": ".py",
   "mimetype": "text/x-python",
   "name": "python",
   "nbconvert_exporter": "python",
   "pygments_lexer": "ipython3",
   "version": "3.11.4"
  }
 },
 "nbformat": 4,
 "nbformat_minor": 5
}
